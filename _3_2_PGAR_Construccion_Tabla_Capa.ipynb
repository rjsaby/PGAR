{
 "cells": [
  {
   "cell_type": "code",
   "execution_count": null,
   "metadata": {},
   "outputs": [],
   "source": [
    "import os\n",
    "import arcpy\n",
    "import pandas as pd\n",
    "import numpy as np\n",
    "import csv\n",
    "from arcgis.features import GeoAccessor, GeoSeriesAccessor\n",
    "\n",
    "arcpy.env.overwriteOutput = True"
   ]
  },
  {
   "attachments": {},
   "cell_type": "markdown",
   "metadata": {},
   "source": [
    "<h4>Creación de DataFrame para la unificación de la tabla -Capa-</h4>"
   ]
  },
  {
   "cell_type": "code",
   "execution_count": null,
   "metadata": {},
   "outputs": [],
   "source": [
    "df_unificacion_tabla_capa = pd.DataFrame(columns=['nombre_capa_final', 'codigo_tematica','CODDANE'])\n",
    "print(\"---------------------------------------- Data frame creado ----------------------------------------\")"
   ]
  },
  {
   "attachments": {},
   "cell_type": "markdown",
   "metadata": {},
   "source": [
    "<h4>Generación de DataFrame Global Total con la unificación de las tres columnas principales</h4>\n",
    "<ul>\n",
    "  <li>nombre_capa_final</li>\n",
    "  <li>codigo_tematica</li>\n",
    "  <li>coddane</li>\n",
    "</ul>"
   ]
  },
  {
   "cell_type": "code",
   "execution_count": null,
   "metadata": {},
   "outputs": [],
   "source": [
    "ruta_capas_w_municipio = r\"C:\\PUBLIC\\PGAR\\Resultados\\4.PRO\\PGAR\\Local_BD_PGAR.gdb\"\n",
    "\n",
    "arcpy.env.workspace = ruta_capas_w_municipio\n",
    "\n",
    "dataset_intersect = 'Interseccion_Municipio'\n",
    "\n",
    "for capas_w_mpio in arcpy.ListFeatureClasses(feature_dataset = dataset_intersect):\n",
    "    ruta_capas_w_mpio = os.path.join(ruta_capas_w_municipio,capas_w_mpio)\n",
    "    capas_w_mpio = pd.DataFrame.spatial.from_featureclass(ruta_capas_w_mpio)\n",
    "    capas_w_mpio_columnas_reducidas = capas_w_mpio.loc[:, ['nombre_capa_final','codigo_tematica','CODDANE']]\n",
    "    df_unificacion_tabla_capa = df_unificacion_tabla_capa.append(capas_w_mpio_columnas_reducidas)"
   ]
  },
  {
   "attachments": {},
   "cell_type": "markdown",
   "metadata": {},
   "source": [
    "<h4>Generación del campo -Código Capa-</h4>"
   ]
  },
  {
   "cell_type": "code",
   "execution_count": null,
   "metadata": {},
   "outputs": [],
   "source": [
    "# Agrupamiento, lo que en SQL es Group by\n",
    "df_tabla_capa = df_unificacion_tabla_capa.groupby(['nombre_capa_final','codigo_tematica']).agg({'nombre_capa_final':'count', 'codigo_tematica':'count'})\n",
    "\n",
    "# Generación del campo incremental de acuerdo al número de capas\n",
    "codigo_capa = []\n",
    "\n",
    "# Se suma uno por el header dentro del data frame\n",
    "for numero_capas in range(1, df_tabla_capa.shape[0]+1):\n",
    "    codigo_capa.append(numero_capas)\n",
    " \n",
    "# Se utiliza el método .loc para incorporar la columna, que en este caso fue la lista que se creo previamente   \n",
    "df_tabla_capa.loc[:,'codigo_capa'] = codigo_capa\n",
    "\n",
    "# Se cambia el nombre de las columnas asociadas a los conteos (funcion -rename-)\n",
    "df_tabla_capa.rename({'codigo_tematica':'conteo_tematica', 'nombre_capa_final': 'conteo_nombre_capa_final'}, axis = 1, inplace = True)\n",
    "\n",
    "# Se resetan los índices\n",
    "df_tabla_capa_completa = df_tabla_capa.reset_index()\n",
    "\n",
    "# Se estandariza la tabla final\n",
    "df_capa = df_tabla_capa_completa[['codigo_capa','nombre_capa_final','codigo_tematica']]"
   ]
  },
  {
   "attachments": {},
   "cell_type": "markdown",
   "metadata": {},
   "source": [
    "<h4>Generación de Diccionario para parametrizar el -codigo_capa-</h4>"
   ]
  },
  {
   "cell_type": "code",
   "execution_count": null,
   "metadata": {},
   "outputs": [],
   "source": [
    "# Parametrización del diccionario de las capas\n",
    "df_capa_parametrizacion_previa_diccionario = df_capa[['codigo_capa','nombre_capa_final']]\n",
    "\n",
    "# Selección de nuevo índice\n",
    "df_capa_parametrizacion_previa_diccionario = df_capa_parametrizacion_previa_diccionario.set_index('codigo_capa')\n",
    "\n",
    "# Migración de Data Frame a Diccionario -función to_dict()-\n",
    "diccionario_capas = df_capa_parametrizacion_previa_diccionario.to_dict()\n",
    "\n",
    "# Modelado del diccionario tradicional\n",
    "diccionario_capas_definitivo = diccionario_capas['nombre_capa_final']"
   ]
  },
  {
   "attachments": {},
   "cell_type": "markdown",
   "metadata": {},
   "source": [
    "<h4>Actualización de cada capa intersecada con Municipio con su respectivo -codigo_capa-</h4>"
   ]
  },
  {
   "cell_type": "code",
   "execution_count": null,
   "metadata": {},
   "outputs": [],
   "source": [
    "nombre_campo_id_capa = 'codigo_capa'\n",
    "\n",
    "for capas_w_mpio in arcpy.ListFeatureClasses(feature_dataset = dataset_intersect):\n",
    "    if arcpy.ListFields(capas_w_mpio,nombre_campo_id_capa):\n",
    "        print(\"El campo existe en la capa: {0}\".format(capas_w_mpio))\n",
    "    else:\n",
    "        arcpy.management.AddField(capas_w_mpio, nombre_campo_id_capa, 'DOUBLE', field_alias = 'Codigo Capa')\n",
    "        for llave, valor in diccionario_capas_definitivo.items():\n",
    "            if capas_w_mpio == valor + '_Intersect_Mpio':\n",
    "                arcpy.management.CalculateField(capas_w_mpio, nombre_campo_id_capa, llave, 'PYTHON3')\n",
    "                print(\"Se actualiza el -Codigo de la Capa-, en el feature class: {0}\".format(capas_w_mpio))"
   ]
  },
  {
   "attachments": {},
   "cell_type": "markdown",
   "metadata": {},
   "source": [
    "<h4>Incorporación de columnas -codigo_fuente- y -fecha_ultima_actualizacion- a la tabla -tbl_capa-</h4>"
   ]
  },
  {
   "cell_type": "code",
   "execution_count": null,
   "metadata": {},
   "outputs": [],
   "source": [
    "# --- Carga Feature Table -tbl_fuentes- --\n",
    "nombre_tabla_fuente = 'tbl_fuentes'\n",
    "ruta_tabla_fuente = os.path.join(arcpy.env.workspace,nombre_tabla_fuente)\n",
    "df_fuente = pd.DataFrame.spatial.from_table(ruta_tabla_fuente)\n",
    "\n",
    "# --- Carga .csv con METADATOS --\n",
    "df_otros_metadatos_insumo = pd.read_csv(\"otros_metadatos.csv\", sep = \";\")\n",
    "df_otros_metadatos_insumo_filtro = df_otros_metadatos_insumo[df_otros_metadatos_insumo['nombre_capa'].str.slice(0, 1) == '_']\n",
    "\n",
    "# Estrucuracion\n",
    "df_fuente_insumo_estructurada = df_otros_metadatos_insumo_filtro.loc[:,['nombre_capa','ultima_actualizacion_reportada','fuente','descripcion_capa']]\n",
    "\n",
    "# Primer JOIN: Busca acceder a la fecha de actualización y al nombre de la fuente\n",
    "join_capa_metadato = pd.merge(df_capa, df_fuente_insumo_estructurada, how = 'left', left_on = 'nombre_capa_final', right_on = 'nombre_capa')\n",
    "\n",
    "# Parametrización del DF\n",
    "join_capa_metadato = join_capa_metadato.loc[:,['codigo_capa','nombre_capa_final','ultima_actualizacion_reportada','fuente','descripcion_capa','codigo_tematica']]\n",
    "\n",
    "# Segundo JOIN: Busca acceder al código de la fuente\n",
    "join_capa_fuente = pd.merge(join_capa_metadato, df_fuente, how = 'left', left_on = 'fuente', right_on = 'nombre_fuente')\n",
    "\n",
    "# Parametrización del DF\n",
    "join_capa_fuente = join_capa_fuente.loc[:, ['codigo_capa','nombre_capa_final','ultima_actualizacion_reportada','codigo_fuente','descripcion_capa','codigo_tematica']]\n",
    "\n",
    "# Se cambian nombres de columnas\n",
    "join_capa_fuente.rename({'nombre_capa_final': 'nombre_capa', 'ultima_actualizacion_reportada':'fecha_actualizacion_capa'}, axis = 1, inplace = True)\n",
    "\n",
    "# Reemplazar por 0 todo NaN. Se usa la función fillna\n",
    "join_capa_fuente['codigo_fuente'].fillna(0, inplace=True)\n",
    "\n",
    "# Cambio código a entero\n",
    "join_capa_fuente['codigo_fuente'] = join_capa_fuente['codigo_fuente'].astype('double')"
   ]
  },
  {
   "attachments": {},
   "cell_type": "markdown",
   "metadata": {},
   "source": [
    "<h4>Exportar capa -tbl_capa- a FileGDB</h4>"
   ]
  },
  {
   "cell_type": "code",
   "execution_count": null,
   "metadata": {},
   "outputs": [],
   "source": [
    "nombre_tabla_capa = 'tbl_capa'\n",
    "ruta_salida_tabla_capa = os.path.join(arcpy.env.workspace, nombre_tabla_capa)\n",
    "join_capa_fuente.spatial.to_table(location = ruta_salida_tabla_capa)"
   ]
  },
  {
   "cell_type": "markdown",
   "metadata": {},
   "source": []
  }
 ],
 "metadata": {
  "kernelspec": {
   "display_name": "Python 3",
   "language": "python",
   "name": "python3"
  },
  "language_info": {
   "codemirror_mode": {
    "name": "ipython",
    "version": 3
   },
   "file_extension": ".py",
   "mimetype": "text/x-python",
   "name": "python",
   "nbconvert_exporter": "python",
   "pygments_lexer": "ipython3",
   "version": "3.9.12"
  },
  "orig_nbformat": 4,
  "vscode": {
   "interpreter": {
    "hash": "15d62e72c5d14bd073ab7bc0854742052db6830de21542cb2a2e1b067e39f5e5"
   }
  }
 },
 "nbformat": 4,
 "nbformat_minor": 2
}
