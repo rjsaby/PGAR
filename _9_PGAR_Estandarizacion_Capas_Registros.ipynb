{
 "cells": [
  {
   "cell_type": "code",
   "execution_count": null,
   "metadata": {},
   "outputs": [],
   "source": [
    "import os\n",
    "import arcpy\n",
    "import pandas as pd\n",
    "import numpy as np\n",
    "import csv\n",
    "from arcgis.features import GeoAccessor, GeoSeriesAccessor\n",
    "\n",
    "arcpy.env.overwriteOutput = True"
   ]
  },
  {
   "attachments": {},
   "cell_type": "markdown",
   "metadata": {},
   "source": [
    "<h4>Generación de DF</h4>"
   ]
  },
  {
   "cell_type": "code",
   "execution_count": null,
   "metadata": {},
   "outputs": [],
   "source": [
    "ruta_bd = r\"C:\\PUBLIC\\PGAR\\Resultados\\4.PRO\\PGAR\\Local_BD_PGAR.gdb\"\n",
    "ruta_capa = r\"C:\\PUBLIC\\PGAR\\Resultados\\4.PRO\\PGAR\\Local_BD_PGAR.gdb\\tbl_capa\"\n",
    "\n",
    "# Construcción del diccionario a partir de la tabla: Capa\n",
    "df_capa = pd.DataFrame.spatial.from_table(ruta_capa)\n",
    "df_capa_to_dict = df_capa.loc[:,['codigo_capa','nombre_capa']]\n",
    "df_capa_to_dict = df_capa_to_dict.set_index('codigo_capa')\n",
    "diccionario_capa = df_capa_to_dict.to_dict()\n",
    "\n",
    "# Modelado del diccionario tradicional\n",
    "diccionario_capas_definitivo = diccionario_capa['nombre_capa']"
   ]
  },
  {
   "attachments": {},
   "cell_type": "markdown",
   "metadata": {},
   "source": [
    "<h4>Actualización de cada capa -registros- con el -codigo_capa-</h4>"
   ]
  },
  {
   "cell_type": "code",
   "execution_count": null,
   "metadata": {},
   "outputs": [],
   "source": [
    "arcpy.env.workspace = ruta_bd\n",
    "nombre_campo_codigo_capa = 'codigo_capa'\n",
    "\n",
    "capas_modelo = ['tbl_capa', 'tbl_departamento', 'tbl_tematica', 'tbl_direccion', 'municipio', 'cuenca']\n",
    "\n",
    "for elemento in arcpy.ListFeatureClasses():\n",
    "    for capa_a_no_actualizar in capas_modelo:\n",
    "        if elemento != capa_a_no_actualizar:\n",
    "            # Aquí se puede modificar el tipo de campo para el -codigo_capa-\n",
    "            arcpy.management.AddField(elemento, nombre_campo_codigo_capa, 'LONG', field_alias = 'Codigo Capa')\n",
    "            for llave, valor in diccionario_capas_definitivo.items():\n",
    "                if elemento == valor:\n",
    "                    arcpy.management.CalculateField(elemento, nombre_campo_codigo_capa, int(llave), 'PYTHON3')\n",
    "                    print(\"Se actualiza el campo -codigo_capa-, para la capa {0}\".format(valor))\n",
    "        else:\n",
    "            print(\"La capa no se actualiza al ser {0}\".format(capa_a_no_actualizar))"
   ]
  },
  {
   "attachments": {},
   "cell_type": "markdown",
   "metadata": {},
   "source": [
    "<h4>Borrado de campos innecesarios, capas de registros</h4>"
   ]
  },
  {
   "cell_type": "code",
   "execution_count": null,
   "metadata": {},
   "outputs": [],
   "source": [
    "campos_eliminar = ['nombre_capa','codigo_tematica','nombre_capa']\n",
    "codigo_capa = \"codigo_capa\"\n",
    "\n",
    "for elemento in arcpy.ListFeatureClasses():\n",
    "    for columnas in arcpy.ListFields(elemento):\n",
    "        for i in campos_eliminar:\n",
    "            if i == columnas.name:\n",
    "                arcpy.management.DeleteField(elemento, i)\n",
    "                print(\"Se elimina la columna {0}, de la capa {1}\".format(elemento, columnas.name))\n",
    "                \n",
    "for elemento in arcpy.ListFeatureClasses():\n",
    "    if elemento == 'cuenca':\n",
    "        if arcpy.ListFields(elemento, codigo_capa):\n",
    "            arcpy.management.DeleteField(elemento, codigo_capa)\n",
    "            print(\"Se elimina la columna {0}, de la capa {1}\".format(codigo_capa, elemento))"
   ]
  }
 ],
 "metadata": {
  "kernelspec": {
   "display_name": "Python 3",
   "language": "python",
   "name": "python3"
  },
  "language_info": {
   "codemirror_mode": {
    "name": "ipython",
    "version": 3
   },
   "file_extension": ".py",
   "mimetype": "text/x-python",
   "name": "python",
   "nbconvert_exporter": "python",
   "pygments_lexer": "ipython3",
   "version": "3.9.12 (main, Apr  4 2022, 05:22:27) [MSC v.1916 64 bit (AMD64)]"
  },
  "orig_nbformat": 4,
  "vscode": {
   "interpreter": {
    "hash": "15d62e72c5d14bd073ab7bc0854742052db6830de21542cb2a2e1b067e39f5e5"
   }
  }
 },
 "nbformat": 4,
 "nbformat_minor": 2
}
