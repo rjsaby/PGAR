{
 "cells": [
  {
   "cell_type": "code",
   "execution_count": null,
   "metadata": {},
   "outputs": [],
   "source": [
    "import os\n",
    "import arcpy\n",
    "import pandas as pd\n",
    "import numpy as np\n",
    "import csv\n",
    "from arcgis.features import GeoAccessor, GeoSeriesAccessor\n",
    "\n",
    "arcpy.env.overwriteOutput = True"
   ]
  },
  {
   "attachments": {},
   "cell_type": "markdown",
   "metadata": {},
   "source": [
    "<h4>Modificación de la capa -Cuenca Escala 1:25.000- a cuenca</h4>"
   ]
  },
  {
   "cell_type": "code",
   "execution_count": null,
   "metadata": {},
   "outputs": [],
   "source": [
    "ruta_capa_cuenca = r\"C:\\PUBLIC\\PGAR\\Resultados\\4.PRO\\PGAR\\Local_BD_PGAR.gdb\\_3_2_Cuencas_escala_1_25000_CAR\"\n",
    "\n",
    "df_cuenca = pd.DataFrame.spatial.from_featureclass(ruta_capa_cuenca)\n",
    "# Se implementa .loc para evitar alertas en la modificación del dataframe\n",
    "df_cuenca_columnas_estandarizadas = df_cuenca.loc[:,['Codigo','AreaHidrografica','ZonaHidrografica','SubZonaHidrografica','NombreCuenca','POMCA','SHAPE']]\n",
    "\n",
    "df_cuenca_columnas_estandarizadas.rename({'Codigo':'codigo_cuenca',\n",
    "                                          'AreaHidrografica':'area_hidrografica',\n",
    "                                          'ZonaHidrografica':'zona_hidrografica',\n",
    "                                          'SubZonaHidrografica':'subzona_hidrografica',\n",
    "                                          'NombreCuenca':'nombre_cuenca',\n",
    "                                          'POMCA':'POMCA'}, axis = 1, inplace = True)\n",
    "\n",
    "# Se reemplaza el caracter - por _ en los códigos de las cuencas\n",
    "df_cuenca_columnas_estandarizadas.loc[:, 'codigo_cuenca'] = df_cuenca_columnas_estandarizadas.loc[:,'codigo_cuenca'].str.replace('-', '_')"
   ]
  },
  {
   "attachments": {},
   "cell_type": "markdown",
   "metadata": {},
   "source": [
    "<h4>Exportar DF a Feature Class</h4>"
   ]
  },
  {
   "cell_type": "code",
   "execution_count": null,
   "metadata": {},
   "outputs": [],
   "source": [
    "nombre_capa_cuenca = 'cuenca'\n",
    "ruta_bd = r\"C:\\PUBLIC\\PGAR\\Resultados\\4.PRO\\PGAR\\Local_BD_PGAR.gdb\"\n",
    "ruta_capa_cuenca = os.path.join(ruta_bd, nombre_capa_cuenca)\n",
    "df_cuenca_columnas_estandarizadas.spatial.to_featureclass(location=ruta_capa_cuenca)\n",
    "print(\"------------------------------ Se crea la capa -cuenca- ------------------------------\")"
   ]
  }
 ],
 "metadata": {
  "kernelspec": {
   "display_name": "Python 3",
   "language": "python",
   "name": "python3"
  },
  "language_info": {
   "codemirror_mode": {
    "name": "ipython",
    "version": 3
   },
   "file_extension": ".py",
   "mimetype": "text/x-python",
   "name": "python",
   "nbconvert_exporter": "python",
   "pygments_lexer": "ipython3",
   "version": "3.9.12 (main, Apr  4 2022, 05:22:27) [MSC v.1916 64 bit (AMD64)]"
  },
  "orig_nbformat": 4,
  "vscode": {
   "interpreter": {
    "hash": "15d62e72c5d14bd073ab7bc0854742052db6830de21542cb2a2e1b067e39f5e5"
   }
  }
 },
 "nbformat": 4,
 "nbformat_minor": 2
}
