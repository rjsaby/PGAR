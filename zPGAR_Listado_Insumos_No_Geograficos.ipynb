{
 "cells": [
  {
   "cell_type": "code",
   "execution_count": null,
   "metadata": {},
   "outputs": [],
   "source": [
    "# ? LIBRERIAS\n",
    "\n",
    "import os\n",
    "import arcpy\n",
    "import pandas as pd\n",
    "import numpy as np\n",
    "import csv\n",
    "from arcgis.features import GeoAccessor, GeoSeriesAccessor\n",
    "import errno\n",
    "import pathlib\n",
    "\n",
    "arcpy.env.overwriteOutput = True"
   ]
  },
  {
   "cell_type": "code",
   "execution_count": null,
   "metadata": {},
   "outputs": [],
   "source": [
    "# ** Se crea dataframe que almacenará los resultados de la consulta\n",
    "columnas_df_resultados = ['ruta_archivo','nombre_archivo']\n",
    "df_resultados_lectura_numeros_pagina = pd.DataFrame(columns = columnas_df_resultados)\n",
    "\n",
    "columnas_df_archivo_inoperables = ['ruta_arhivo']\n",
    "df_archivo_inoperables = pd.DataFrame(columns = columnas_df_archivo_inoperables)"
   ]
  },
  {
   "cell_type": "code",
   "execution_count": null,
   "metadata": {},
   "outputs": [],
   "source": [
    "ruta_directorio_insumos = r\"D:\\PUBLIC\\PGAR\\Insumos\\Informacion_NO_Estructurada\"\n",
    "\n",
    "# ** Se accede a todos los archivos de una carpeta en específico\n",
    "lista_rutas = []\n",
    "lista_archivos = []\n",
    "lista_archivo_inoperables = []\n",
    "              \n",
    "try:\n",
    "    for ruta, directorio, archivo in os.walk(ruta_directorio_insumos):\n",
    "        # ** Se navega por cada uno de los archivos para, posteriormente, generar un listado de rutas\n",
    "        for nombre_archivo in archivo:\n",
    "            # ** Se usa la funcion PdfReader para leer el PDF asociado a la ruta incorporada\n",
    "            ruta_archivo = os.path.join(ruta, nombre_archivo)\n",
    "            # ? Se utiliza, del módulo os, la función stat y el atributo st_size para encontrar los pesos de los archivos\n",
    "            # ? y eliminar del análisis los pdf corruptos\n",
    "            sizefile = os.stat(ruta_archivo).st_size\n",
    "            if (pathlib.Path(ruta_archivo).suffix == '.xlsx' or pathlib.Path(ruta_archivo).suffix == '.xls' or pathlib.Path(ruta_archivo).suffix == '.csv') and sizefile != 0:\n",
    "                lista_rutas.append(ruta_archivo)\n",
    "                lista_archivos.append(nombre_archivo)\n",
    "            elif (pathlib.Path(ruta_archivo).suffix == '.xlsx' or pathlib.Path(ruta_archivo).suffix == '.xls' or pathlib.Path(ruta_archivo).suffix == '.csv') and sizefile == 0:\n",
    "                lista_archivo_inoperables.append(ruta_archivo)\n",
    "                print(\"El archivo {0} es inoperable\".format(nombre_archivo))\n",
    "            else:\n",
    "                print(\"{0} no es un archivo XLSX o CSV o XLS\".format(ruta_archivo))\n",
    "                    \n",
    "except OSError as e:\n",
    "    if e.errno != errno.EEXIST:\n",
    "        raise  "
   ]
  },
  {
   "cell_type": "code",
   "execution_count": null,
   "metadata": {},
   "outputs": [],
   "source": [
    "# ** Asignación de listas a dataframe\n",
    "df_resultados_lectura_numeros_pagina['ruta_archivo'] = lista_rutas\n",
    "df_resultados_lectura_numeros_pagina['nombre_archivo'] = lista_archivos\n",
    "\n",
    "df_archivo_inoperables['ruta_archivo'] = lista_archivo_inoperables"
   ]
  },
  {
   "cell_type": "code",
   "execution_count": null,
   "metadata": {},
   "outputs": [],
   "source": [
    "# ** Generación de CSV de salida\n",
    "df_resultados_lectura_numeros_pagina.to_csv(\"inventario_archivos.csv\", index = False, sep = \";\")\n",
    "\n",
    "df_archivo_inoperables.to_csv(\"descripcion_inoperables.csv\", index = False, sep = \";\")"
   ]
  }
 ],
 "metadata": {
  "kernelspec": {
   "display_name": "Python 3",
   "language": "python",
   "name": "python3"
  },
  "language_info": {
   "codemirror_mode": {
    "name": "ipython",
    "version": 3
   },
   "file_extension": ".py",
   "mimetype": "text/x-python",
   "name": "python",
   "nbconvert_exporter": "python",
   "pygments_lexer": "ipython3",
   "version": "3.9.12"
  },
  "orig_nbformat": 4,
  "vscode": {
   "interpreter": {
    "hash": "15d62e72c5d14bd073ab7bc0854742052db6830de21542cb2a2e1b067e39f5e5"
   }
  }
 },
 "nbformat": 4,
 "nbformat_minor": 2
}
