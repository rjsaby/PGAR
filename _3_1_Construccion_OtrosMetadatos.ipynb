{
 "cells": [
  {
   "cell_type": "code",
   "execution_count": null,
   "metadata": {},
   "outputs": [],
   "source": [
    "import os\n",
    "import arcpy\n",
    "import pandas as pd\n",
    "import numpy as np\n",
    "import csv\n",
    "from arcgis.features import GeoAccessor, GeoSeriesAccessor\n",
    "\n",
    "arcpy.env.overwriteOutput = True"
   ]
  },
  {
   "attachments": {},
   "cell_type": "markdown",
   "metadata": {},
   "source": [
    "<h4>Carga de .csv con la información complementaria de los metadatos</h4>\n",
    "<p>Puede complementarse con escalas y demás datos cuando se tenga<p>"
   ]
  },
  {
   "cell_type": "code",
   "execution_count": null,
   "metadata": {},
   "outputs": [],
   "source": [
    "df_otros_metadatos_insumo = pd.read_csv(\"otros_metadatos.csv\", sep = \";\")"
   ]
  },
  {
   "attachments": {},
   "cell_type": "markdown",
   "metadata": {},
   "source": [
    "<h4>Filtro por capa estructurada según proceso de conversion GeoJSON - Feature Class</h4>"
   ]
  },
  {
   "cell_type": "code",
   "execution_count": null,
   "metadata": {},
   "outputs": [],
   "source": [
    "# El proceso de conversión a geojson ejecutado incorpora datos dentro del dataframe\n",
    "df_otros_metadatos_insumo_filtro = df_otros_metadatos_insumo[df_otros_metadatos_insumo['nombre_capa'].str.slice(0, 1) == '_']"
   ]
  },
  {
   "attachments": {},
   "cell_type": "markdown",
   "metadata": {},
   "source": [
    "<h4>Construcción de la Tabla Fuente</h4>"
   ]
  },
  {
   "cell_type": "code",
   "execution_count": null,
   "metadata": {},
   "outputs": [],
   "source": [
    "# Se parametrizan solo los campos necesarios\n",
    "df_fuente_insumo = df_otros_metadatos_insumo_filtro.loc[:,'fuente']\n",
    "df_fuente_insumo = pd.DataFrame(df_fuente_insumo)\n",
    "\n",
    "# Se agrupan todas las fuentes registradas en el DF\n",
    "df_grupo_fuentes = df_fuente_insumo.groupby(['fuente']).agg({'fuente':'count'})\n",
    "\n",
    "# Se cambia el nombre de la columna -fuente-\n",
    "df_grupo_fuentes.rename({'fuente': 'conteo_fuente'}, axis = 1, inplace = True)\n",
    "\n",
    "# Reseteo índices\n",
    "df_grupo_fuentes = df_grupo_fuentes.reset_index()\n",
    "\n",
    "# Se cambia el nombre de la columna -fuente-\n",
    "df_grupo_fuentes.rename({'fuente': 'nombre_fuente'}, axis = 1, inplace = True)\n",
    "\n",
    "# Generación del campo incremental de acuerdo al número de capas\n",
    "RID = []\n",
    "\n",
    "# Se suma uno por el header dentro del data frame\n",
    "for id_rid in range(1, df_grupo_fuentes.shape[0]+1):\n",
    "    RID.append(id_rid)\n",
    " \n",
    "# Se utiliza el método .loc para incorporar la columna, que en este caso fue la lista que se creo previamente   \n",
    "df_grupo_fuentes.loc[:,'codigo_fuente'] = RID\n",
    "\n",
    "# Parametrizo columnas finales del DF\n",
    "df_fuentes = df_grupo_fuentes[['codigo_fuente','nombre_fuente']]\n",
    "\n",
    "# Cambio del tipo de dato\n",
    "df_fuentes['codigo_fuente'].astype('double')\n",
    "\n",
    "# Ingreso registro para capas sin fuente\n",
    "df_fuentes = df_fuentes.append({'codigo_fuente': 0, 'nombre_fuente':'Sin informacion'}, ignore_index=True)"
   ]
  },
  {
   "attachments": {},
   "cell_type": "markdown",
   "metadata": {},
   "source": [
    "<h4>Esportada de DF a Feature Table</h4>"
   ]
  },
  {
   "cell_type": "code",
   "execution_count": null,
   "metadata": {},
   "outputs": [],
   "source": [
    "nombre_tabla_fuentes = 'tbl_fuentes'\n",
    "ruta_bd = r\"C:\\PUBLIC\\PGAR\\Resultados\\4.PRO\\PGAR\\Local_BD_PGAR.gdb\"\n",
    "ruta_tabla_fuentes = os.path.join(ruta_bd, nombre_tabla_fuentes)\n",
    "df_fuentes.spatial.to_table(location=ruta_tabla_fuentes)\n",
    "print(\"------------------------------ Se crea la tabla -tbl_fuentes- ------------------------------\")"
   ]
  }
 ],
 "metadata": {
  "kernelspec": {
   "display_name": "Python 3",
   "language": "python",
   "name": "python3"
  },
  "language_info": {
   "codemirror_mode": {
    "name": "ipython",
    "version": 3
   },
   "file_extension": ".py",
   "mimetype": "text/x-python",
   "name": "python",
   "nbconvert_exporter": "python",
   "pygments_lexer": "ipython3",
   "version": "3.9.12"
  },
  "orig_nbformat": 4,
  "vscode": {
   "interpreter": {
    "hash": "15d62e72c5d14bd073ab7bc0854742052db6830de21542cb2a2e1b067e39f5e5"
   }
  }
 },
 "nbformat": 4,
 "nbformat_minor": 2
}
