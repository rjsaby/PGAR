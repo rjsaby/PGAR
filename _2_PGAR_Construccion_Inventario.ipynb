{
 "cells": [
  {
   "cell_type": "markdown",
   "metadata": {},
   "source": []
  },
  {
   "attachments": {},
   "cell_type": "markdown",
   "metadata": {},
   "source": [
    "<h4>Carga de Librerías</h4>"
   ]
  },
  {
   "cell_type": "code",
   "execution_count": null,
   "metadata": {},
   "outputs": [],
   "source": [
    "import os\n",
    "import arcpy\n",
    "import pandas as pd\n",
    "from arcgis.features import GeoAccessor, GeoSeriesAccessor\n",
    "\n",
    "arcpy.env.overwriteOutput = True"
   ]
  },
  {
   "attachments": {},
   "cell_type": "markdown",
   "metadata": {},
   "source": [
    "<h4>Ubicación y registro de archivos .gdb dentro de múltiples directorios</h4>"
   ]
  },
  {
   "cell_type": "code",
   "execution_count": null,
   "metadata": {},
   "outputs": [],
   "source": [
    "ruta_padre = r\"D:\\PUBLIC\\PGAR\\Insumos\\Capas_Geograficas\"\n",
    "\n",
    "nombre_directorios = os.listdir(ruta_padre)\n",
    "\n",
    "rutas_workspace = []\n",
    "\n",
    "for directorio in nombre_directorios:\n",
    "    ruta_directorio = os.path.join(ruta_padre, directorio)\n",
    "    if os.path.isdir(ruta_directorio) == True:\n",
    "        # Búsqueda de bases de datos dentro de segunda raíz de directorios\n",
    "        nombre_subdirectorios = os.listdir(ruta_directorio)\n",
    "        for subdirectorio in nombre_subdirectorios:\n",
    "            if '.gdb' in subdirectorio:\n",
    "                ruta_bd = os.path.join(ruta_directorio, subdirectorio)\n",
    "                rutas_workspace.append(ruta_bd)"
   ]
  },
  {
   "attachments": {},
   "cell_type": "markdown",
   "metadata": {},
   "source": [
    "<h4>Parametrización de Código Temática</h4>"
   ]
  },
  {
   "cell_type": "code",
   "execution_count": null,
   "metadata": {},
   "outputs": [],
   "source": [
    "nombre_campo_tematico = 'codigo_tematica'\n",
    "\n",
    "# ? Parte del desarrollo, que por lo pronto, si o si se debe modificar manualmente\n",
    "clasificacion_tematica = {'_1_POMCA': 1,\n",
    "                          '_2_Cambio_Climatico': 2,\n",
    "                          '_3_Cuencas_Hidrograficas': 3,\n",
    "                          '_4_Suelos': 4,\n",
    "                          '_5_Areas_Protegidas': 5,\n",
    "                          '_6_Jurisdiccion_CAR': 6,\n",
    "                          '_7_Rondas': 7,\n",
    "                          '_8_Agua_Subterranea': 8,\n",
    "                          '_9_Paramos': 9,\n",
    "                          '_10_Analisis_Vulnerabilidad_Riesgo_Inundacion': 10,\n",
    "                          '_11_Analisis_Vulnerabilidad_Riesgo_Incendio': 11,\n",
    "                          '_12_Analisis_Vulnerabilidad_Riesgo_Avenida_Torrencial': 12,\n",
    "                          '_13_Analisis_Vulnerabilidad_Riesgo_Remocion_Masa': 13,\n",
    "                          '_14_Ecosistema':14,\n",
    "                          '_15_Licencias_Ambientales':15,\n",
    "                          '_16_Infraestuctura':16,\n",
    "                          '_17_Desarrollo_Rural': 17,\n",
    "                          '_18_Incendios':18,\n",
    "                          '_19_Geologia_Geomorfologia':19,\n",
    "                          '_20_Biodiversidad':20}\n",
    "\n",
    "for espacio_trabajo in rutas_workspace:\n",
    "    arcpy.env.workspace = espacio_trabajo\n",
    "    for capa in arcpy.ListFeatureClasses():\n",
    "        if 'nivel' not in capa:\n",
    "            ruta_temporal = os.path.join(arcpy.env.workspace, capa)\n",
    "            division_directorios = os.path.split(ruta_temporal)[0]\n",
    "            carpetas = division_directorios.split(\"\\\\\")[5]\n",
    "            categorizacion_tema = carpetas.split(\"_\")[1]\n",
    "            # !!Crear Dominio!!, !!Revisar obligatoriedad!!\n",
    "            arcpy.management.AddField(capa, nombre_campo_tematico, 'LONG', field_alias = 'Codigo Temática')\n",
    "            for registro in clasificacion_tematica:\n",
    "                if carpetas == registro:\n",
    "                    arcpy.management.CalculateField(capa, nombre_campo_tematico, clasificacion_tematica[carpetas], 'PYTHON3')\n",
    "                    print(\"Se actualiza de la capa {0}, la temática {1}, con el código: {2}\".format(capa, carpetas, clasificacion_tematica[carpetas]))\n",
    "        else:\n",
    "            print(\"No se actualiza el código de temática para la capa {0}\".format(capa))"
   ]
  },
  {
   "attachments": {},
   "cell_type": "markdown",
   "metadata": {},
   "source": [
    "<h4>Creación tabla -tbl_tematica-</h4>"
   ]
  },
  {
   "cell_type": "code",
   "execution_count": null,
   "metadata": {},
   "outputs": [],
   "source": [
    "df_tematica = pd.DataFrame.from_dict(clasificacion_tematica, orient ='index')\n",
    "df_tematica = df_tematica.reset_index()\n",
    "df_tematica.rename({'index':'nombre_tematica', 0:'codigo_tematica'}, axis=1, inplace=True)"
   ]
  },
  {
   "attachments": {},
   "cell_type": "markdown",
   "metadata": {},
   "source": [
    "<h4>Exportar capa -tbl_tematica- a FileGDB</h4>"
   ]
  },
  {
   "cell_type": "code",
   "execution_count": null,
   "metadata": {},
   "outputs": [],
   "source": [
    "ruta_capas_w_municipio = r\"D:\\PUBLIC\\PGAR\\Resultados\\4.PRO\\PGAR\\Local_BD_PGAR.gdb\"\n",
    "nombre_tabla_capa = 'tbl_tematica'\n",
    "ruta_salida_tabla_tematica = os.path.join(ruta_capas_w_municipio, nombre_tabla_capa)\n",
    "df_tematica.spatial.to_table(location = ruta_salida_tabla_tematica)\n",
    "print(\"----------------------------- Se crea la tabla: -tbl_tematica- en Base de Datos -----------------------------\")"
   ]
  },
  {
   "attachments": {},
   "cell_type": "markdown",
   "metadata": {},
   "source": [
    "<h4>Parametrización de Nombre Final Capa</h4>"
   ]
  },
  {
   "cell_type": "code",
   "execution_count": null,
   "metadata": {},
   "outputs": [],
   "source": [
    "ruta_bd_local = r\"D:\\PUBLIC\\PGAR\\Resultados\\4.PRO\\PGAR\\Local_BD_PGAR.gdb\"\n",
    "\n",
    "nombre_campo_capa_final = 'nombre_capa_final'\n",
    "\n",
    "for espacio_trabajo in rutas_workspace:\n",
    "    arcpy.env.workspace = espacio_trabajo\n",
    "    ruta_temporal = os.path.join(arcpy.env.workspace)\n",
    "    division_directorios = os.path.split(ruta_temporal)[0]\n",
    "    carpetas = division_directorios.split(\"\\\\\")[5]\n",
    "    categorizacion_tema = carpetas.split(\"_\")[1]\n",
    "    for capa in arcpy.ListFeatureClasses():\n",
    "        if 'nivel' not in capa:\n",
    "            arcpy.management.AddField(capa, nombre_campo_capa_final, 'TEXT', field_alias = 'Nombre Capa Final')\n",
    "            capa_entrada = os.path.join(arcpy.env.workspace, capa)\n",
    "            # Parametrizacion de temática en nombre de la capa\n",
    "            ruta_archivos_a_local = os.path.join(ruta_bd_local, \"_\" + categorizacion_tema + \"_\" + capa)\n",
    "            ruta_archivos_a_local = ruta_archivos_a_local.replace('__','_')\n",
    "            nombre_capa_final = ruta_archivos_a_local.split('\\\\')[7]\n",
    "            arcpy.management.CalculateField(capa, nombre_campo_capa_final, \"'\" + nombre_capa_final + \"'\", 'PYTHON3')\n",
    "            print(\"Se crea y registra el nombre de la capa final sobre la capa: {0}\".format(capa))"
   ]
  },
  {
   "attachments": {},
   "cell_type": "markdown",
   "metadata": {},
   "source": [
    "<h4>Borrado de capas en el archivo de consolidación local</h4>"
   ]
  },
  {
   "cell_type": "code",
   "execution_count": null,
   "metadata": {},
   "outputs": [],
   "source": [
    "arcpy.env.workspace = ruta_bd_local\n",
    "dataframe_interseccion = 'Interseccion_Municipio'\n",
    "\n",
    "for capas in arcpy.ListFeatureClasses(feature_dataset=dataframe_interseccion):\n",
    "    arcpy.Delete_management(capas)\n",
    "    print(\"Se borra la capa {0}, alojada en el datafra {1}\".format(capas, dataframe_interseccion))\n",
    "    \n",
    "for capas in arcpy.ListFeatureClasses():\n",
    "    arcpy.Delete_management(capas)\n",
    "    print(\"Se borra la capa {0} de la raiz de la BD\".format(capas))    "
   ]
  },
  {
   "attachments": {},
   "cell_type": "markdown",
   "metadata": {},
   "source": [
    "<h4>Migración de capas a BD Local Temporal</h4>"
   ]
  },
  {
   "cell_type": "code",
   "execution_count": null,
   "metadata": {},
   "outputs": [],
   "source": [
    "for espacio_trabajo in rutas_workspace:\n",
    "    arcpy.env.workspace = espacio_trabajo\n",
    "    ruta_temporal = os.path.join(arcpy.env.workspace)\n",
    "    division_directorios = os.path.split(ruta_temporal)[0]\n",
    "    carpetas = division_directorios.split(\"\\\\\")[5]\n",
    "    categorizacion_tema = carpetas.split(\"_\")[1]\n",
    "    for capa in arcpy.ListFeatureClasses():\n",
    "        if 'nivel' not in capa:\n",
    "            capa_entrada = os.path.join(arcpy.env.workspace, capa)\n",
    "            # Parametrizacion de temática en nombre de la capa\n",
    "            ruta_archivos_a_local = os.path.join(ruta_bd_local, \"_\" + categorizacion_tema + \"_\" + capa)\n",
    "            ruta_archivos_a_local = ruta_archivos_a_local.replace('__','_')\n",
    "            arcpy.management.CopyFeatures(capa_entrada, ruta_archivos_a_local)\n",
    "            print(\"Se migra la capa: {0}\".format(capa)) "
   ]
  },
  {
   "attachments": {},
   "cell_type": "markdown",
   "metadata": {},
   "source": [
    "<h4>Paramtrización del código de departamento (DANE) por registro\\capa</h4>"
   ]
  },
  {
   "cell_type": "code",
   "execution_count": null,
   "metadata": {},
   "outputs": [],
   "source": [
    "arcpy.env.workspace = ruta_bd_local\n",
    "\n",
    "ruta_interseccion_mpio = os.path.join(arcpy.env.workspace, dataframe_interseccion + '\\\\')\n",
    "\n",
    "if arcpy.Exists(ruta_interseccion_mpio):\n",
    "    for capas in arcpy.ListFeatureClasses(feature_dataset=dataframe_interseccion):\n",
    "        arcpy.management.Delete(capas)\n",
    "        \n",
    "for capa in arcpy.ListFeatureClasses():\n",
    "    capa_intersect_salida = capa + \"_Intersect_Mpio\"\n",
    "    if capa != '_6_1_Jurisdiccion_CAR':\n",
    "        arcpy.management.RepairGeometry(capa)\n",
    "        arcpy.analysis.Intersect([capa,\"_6_1_Jurisdiccion_CAR\"], os.path.join(ruta_bd_local, dataframe_interseccion, capa_intersect_salida))\n",
    "        print(\"Se interseca la capa {0}, con -Jurisdiccion_CAR-\".format(capa))"
   ]
  }
 ],
 "metadata": {
  "kernelspec": {
   "display_name": "Python 3",
   "language": "python",
   "name": "python3"
  },
  "language_info": {
   "codemirror_mode": {
    "name": "ipython",
    "version": 3
   },
   "file_extension": ".py",
   "mimetype": "text/x-python",
   "name": "python",
   "nbconvert_exporter": "python",
   "pygments_lexer": "ipython3",
   "version": "3.9.12 (main, Apr  4 2022, 05:22:27) [MSC v.1916 64 bit (AMD64)]"
  },
  "orig_nbformat": 4,
  "vscode": {
   "interpreter": {
    "hash": "15d62e72c5d14bd073ab7bc0854742052db6830de21542cb2a2e1b067e39f5e5"
   }
  }
 },
 "nbformat": 4,
 "nbformat_minor": 2
}
