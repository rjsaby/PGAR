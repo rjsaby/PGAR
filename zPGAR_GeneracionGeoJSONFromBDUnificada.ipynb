{
 "cells": [
  {
   "cell_type": "code",
   "execution_count": 1,
   "metadata": {},
   "outputs": [],
   "source": [
    "import os\n",
    "import arcpy\n",
    "import pandas as pd\n",
    "import numpy as np\n",
    "import csv\n",
    "from arcgis.features import GeoAccessor, GeoSeriesAccessor\n",
    "# ** Manejo de errores\n",
    "import errno\n",
    "\n",
    "arcpy.env.overwriteOutput = True"
   ]
  },
  {
   "attachments": {},
   "cell_type": "markdown",
   "metadata": {},
   "source": [
    "<h4>Creación de directorios</h4>"
   ]
  },
  {
   "cell_type": "code",
   "execution_count": 2,
   "metadata": {},
   "outputs": [],
   "source": [
    "ruta_bd_unificada = r\"D:\\PUBLIC\\PGAR\\Resultados\\4.PRO\\PGAR\\gdb_pomcas\\\\POMCA_Unificada.gdb\"\n",
    "ruta_directorio_insumos = r\"D:\\PUBLIC\\PGAR\\Insumos\\Capas_Geograficas\"\n",
    "arcpy.env.workspace = ruta_bd_unificada\n",
    "\n",
    "nombre_datasets = []\n",
    "lista_datasets = arcpy.ListDatasets()\n",
    "for dataset in lista_datasets:\n",
    "    nombre_datasets.append(dataset[4:].capitalize())\n",
    "    # print(\" - {0} enviado a lista\".format(dataset))\n",
    "\n",
    "consecutivos_tematicas = []\n",
    "longitud_lista = len(nombre_datasets)\n",
    "for i in range(21, longitud_lista*2+1, 1):\n",
    "    consecutivos_tematicas.append(i)\n",
    "\n",
    "rutas_tematica_nuevo_dataset = []\n",
    "for j in zip(consecutivos_tematicas, nombre_datasets):\n",
    "    rutas_tematica_nuevo_dataset.append(os.path.join(ruta_directorio_insumos,\"_\"+str(j[0])+\"_\"+j[1]))\n",
    "    \n",
    "try:\n",
    "    for ruta in rutas_tematica_nuevo_dataset:\n",
    "        os.mkdir(ruta)\n",
    "except OSError as e:\n",
    "    if e.errno != errno.EEXIST:\n",
    "        raise  "
   ]
  },
  {
   "cell_type": "code",
   "execution_count": 3,
   "metadata": {},
   "outputs": [],
   "source": [
    "def gjson_for_wilkcard(wilkcard_dataframe):\n",
    "    \n",
    "    ruta_bd_unificada = r\"D:\\PUBLIC\\PGAR\\Resultados\\4.PRO\\PGAR\\gdb_pomcas\\\\POMCA_Unificada.gdb\"\n",
    "    arcpy.env.workspace = ruta_bd_unificada\n",
    "    \n",
    "    try:\n",
    "        for rutas in rutas_tematica_nuevo_dataset:\n",
    "            for dataset in arcpy.ListDatasets(wild_card=wilkcard_dataframe):\n",
    "                if rutas.split('\\\\')[5][4:] == dataset[4:].capitalize():\n",
    "                    for capas in arcpy.ListFeatureClasses(feature_dataset=dataset):\n",
    "                        ruta_salida_geojson = os.path.join(ruta_directorio_insumos,rutas,capas)\n",
    "                        arcpy.conversion.FeaturesToJSON(capas, ruta_salida_geojson, geoJSON = 'GEOJSON')\n",
    "                        print(\"Se crea el archivo geojson {0}, para la capa {1}, en dataset {2}\".format(ruta_salida_geojson,capas,dataset[4:].capitalize()))\n",
    "    except arcpy.ExecuteError:\n",
    "        print(arcpy.GetMessages())"
   ]
  },
  {
   "cell_type": "code",
   "execution_count": 4,
   "metadata": {},
   "outputs": [],
   "source": [
    "# # * Ejecución de la función de feature class\n",
    "# lista_wilkcards = ['GEOL*',\n",
    "#                    '*GEOMOR*',\n",
    "#                    '*SUELO*',\n",
    "#                    '*RECURSO_HIDRICO_SUP*',\n",
    "#                    '*HIDROGEO*',\n",
    "#                    '*GEOTEC*',\n",
    "#                    '*CLIM*',\n",
    "#                    '*BIOT*',\n",
    "#                    '*POLITICO_A*',\n",
    "#                    '*ECONO*',\n",
    "#                    '*SOCIOCU*',\n",
    "#                    '*GESTION_R*',\n",
    "#                    '*INDIC*',\n",
    "#                    '*SINTESIS_AM*',\n",
    "#                    '*ZONIFICACION_P*',\n",
    "#                    '*AREAS_ECO*',\n",
    "#                    '*AREAS_REGL*',\n",
    "#                    '*ANALISIS_FUN*',\n",
    "#                    '*PROYECT*',\n",
    "#                    '*INDICES_2*',\n",
    "#                    '*PERFILES_GEO*',\n",
    "#                    '*PERFILES_GEOMO*']\n",
    "\n",
    "# ? Listos: \n",
    "\n",
    "# !! Área y ecosistemas estratégicos, Geotecnia, Economico (problemas)\n",
    "\n",
    "# TODO En ejecución: Geologia, Suelos, Clima, Recurso Hídrico Superficial, Geomorfología, Áreas y Ecosistemas\n",
    "# TODO Listos: Hidrogeología, Biotico*, Político Administrativo, Sociocultural, Gestion del Riesgo\n",
    "# TODO Listos: Indices, Sistensis Ambiental, Zonificacion POMCA, Analisis Funcional, Proyecto, Indices 2007\n",
    "# TODO Listos: Perfiles Geologicos, Perfiles Geomorfologicos\n",
    "\n",
    "lista_wilkcards = ['GEOL*']\n",
    "\n",
    "for wilkcard in lista_wilkcards:\n",
    "    print('Inicia: {0}'.format(wilkcard))\n",
    "    gjson_for_wilkcard(wilkcard)"
   ]
  },
  {
   "cell_type": "code",
   "execution_count": 5,
   "metadata": {},
   "outputs": [
    {
     "name": "stdout",
     "output_type": "stream",
     "text": [
      "['D:\\\\PUBLIC\\\\PGAR\\\\Insumos\\\\Capas_Geograficas\\\\_21_Geologia', 'D:\\\\PUBLIC\\\\PGAR\\\\Insumos\\\\Capas_Geograficas\\\\_22_Geomorfologia', 'D:\\\\PUBLIC\\\\PGAR\\\\Insumos\\\\Capas_Geograficas\\\\_23_Politico_administrativo', 'D:\\\\PUBLIC\\\\PGAR\\\\Insumos\\\\Capas_Geograficas\\\\_24_Suelos', 'D:\\\\PUBLIC\\\\PGAR\\\\Insumos\\\\Capas_Geograficas\\\\_25_Recurso_hidrico_superficial', 'D:\\\\PUBLIC\\\\PGAR\\\\Insumos\\\\Capas_Geograficas\\\\_26_Clima', 'D:\\\\PUBLIC\\\\PGAR\\\\Insumos\\\\Capas_Geograficas\\\\_27_Biotico', 'D:\\\\PUBLIC\\\\PGAR\\\\Insumos\\\\Capas_Geograficas\\\\_28_Economico', 'D:\\\\PUBLIC\\\\PGAR\\\\Insumos\\\\Capas_Geograficas\\\\_29_Sociocultural', 'D:\\\\PUBLIC\\\\PGAR\\\\Insumos\\\\Capas_Geograficas\\\\_30_Indices', 'D:\\\\PUBLIC\\\\PGAR\\\\Insumos\\\\Capas_Geograficas\\\\_31_Sintesis_ambiental', 'D:\\\\PUBLIC\\\\PGAR\\\\Insumos\\\\Capas_Geograficas\\\\_32_Areas_reglamentacion_especial', 'D:\\\\PUBLIC\\\\PGAR\\\\Insumos\\\\Capas_Geograficas\\\\_33_Gestion_riesgo', 'D:\\\\PUBLIC\\\\PGAR\\\\Insumos\\\\Capas_Geograficas\\\\_34_Hidrogeologia', 'D:\\\\PUBLIC\\\\PGAR\\\\Insumos\\\\Capas_Geograficas\\\\_35_Proyecto', 'D:\\\\PUBLIC\\\\PGAR\\\\Insumos\\\\Capas_Geograficas\\\\_36_Analisis_funcional', 'D:\\\\PUBLIC\\\\PGAR\\\\Insumos\\\\Capas_Geograficas\\\\_37_Indices_2027', 'D:\\\\PUBLIC\\\\PGAR\\\\Insumos\\\\Capas_Geograficas\\\\_38_Areas_ecosistemas_estrategicos', 'D:\\\\PUBLIC\\\\PGAR\\\\Insumos\\\\Capas_Geograficas\\\\_39_Perfiles_geologicos', 'D:\\\\PUBLIC\\\\PGAR\\\\Insumos\\\\Capas_Geograficas\\\\_40_Perfiles_geomorfologicos', 'D:\\\\PUBLIC\\\\PGAR\\\\Insumos\\\\Capas_Geograficas\\\\_41_Zonificacion_pomca']\n"
     ]
    }
   ],
   "source": [
    "print(rutas_tematica_nuevo_dataset)"
   ]
  }
 ],
 "metadata": {
  "kernelspec": {
   "display_name": "Python 3",
   "language": "python",
   "name": "python3"
  },
  "language_info": {
   "codemirror_mode": {
    "name": "ipython",
    "version": 3
   },
   "file_extension": ".py",
   "mimetype": "text/x-python",
   "name": "python",
   "nbconvert_exporter": "python",
   "pygments_lexer": "ipython3",
   "version": "3.9.12"
  },
  "orig_nbformat": 4,
  "vscode": {
   "interpreter": {
    "hash": "15d62e72c5d14bd073ab7bc0854742052db6830de21542cb2a2e1b067e39f5e5"
   }
  }
 },
 "nbformat": 4,
 "nbformat_minor": 2
}
