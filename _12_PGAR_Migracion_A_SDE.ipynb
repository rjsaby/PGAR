{
 "cells": [
  {
   "attachments": {},
   "cell_type": "markdown",
   "metadata": {},
   "source": [
    "<h4>Librerias</h4>"
   ]
  },
  {
   "cell_type": "code",
   "execution_count": null,
   "metadata": {},
   "outputs": [],
   "source": [
    "import os\n",
    "import arcpy\n",
    "import pandas as pd\n",
    "import numpy as np\n",
    "import csv\n",
    "from arcgis.features import GeoAccessor, GeoSeriesAccessor\n",
    "\n",
    "arcpy.env.overwriteOutput = True"
   ]
  },
  {
   "attachments": {},
   "cell_type": "markdown",
   "metadata": {},
   "source": [
    "<h4>Borrado de capas, tablas y relaciones en la SDE</h4>"
   ]
  },
  {
   "cell_type": "code",
   "execution_count": null,
   "metadata": {},
   "outputs": [],
   "source": [
    "ruta_sde = r\"D:\\PUBLIC\\PGAR\\Resultados\\4.PRO\\PGAR\\PGAR_Inventario.sde\"\n",
    "arcpy.env.workspace = ruta_sde\n",
    "# Listas\n",
    "dataframes = arcpy.ListDatasets()\n",
    "capas = arcpy.ListFeatureClasses()\n",
    "tablas = arcpy.ListTables()\n",
    "\n",
    "for dataframe in dataframes:\n",
    "    arcpy.Delete_management(dataframe)\n",
    "    print(\"Se borra dataframe {0}\".format(dataframe))\n",
    "    \n",
    "for capas in capas:\n",
    "    arcpy.Delete_management(capas)\n",
    "    print(\"Se borra tabla {0}\".format(capas))\n",
    "    \n",
    "for tabla in tablas:\n",
    "    arcpy.Delete_management(tabla)\n",
    "    print(\"Se borra capa {0}\".format(tabla))"
   ]
  },
  {
   "cell_type": "code",
   "execution_count": null,
   "metadata": {},
   "outputs": [],
   "source": [
    "ruta_filegdb = r\"D:\\PUBLIC\\PGAR\\Resultados\\4.PRO\\PGAR\\PGAR_Inventario.gdb\"\n",
    "arcpy.env.workspace = ruta_filegdb\n",
    "\n",
    "# ? Listado de datasets\n",
    "lista_datasets = []\n",
    "for dataset in arcpy.ListDatasets():\n",
    "    lista_datasets.append(dataset)\n",
    "    \n",
    "# ? Almacenamiento de rutas de cada una de las capas que se copiaran a base de datos .sde\n",
    "# # ** Features into Dataset\n",
    "listado_rutas_capas_into_dataset = []\n",
    "for dataset in arcpy.ListDatasets():\n",
    "    for capas in arcpy.ListFeatureClasses(feature_dataset=dataset):\n",
    "        ruta_capas_i_ds = os.path.join(ruta_filegdb,dataset,capas)\n",
    "        listado_rutas_capas_into_dataset.append(ruta_capas_i_ds)\n",
    "\n",
    "# # ** Features out Dataset\n",
    "listado_rutas_capas_out_dataset = []\n",
    "for capas in arcpy.ListFeatureClasses():\n",
    "    ruta_capas_o_ds = os.path.join(ruta_filegdb,capas)\n",
    "    listado_rutas_capas_out_dataset.append(ruta_capas_o_ds)\n",
    "    \n",
    "# ** Tables out Dataset\n",
    "listado_rutas_tablas = []\n",
    "for tablas in arcpy.ListTables():\n",
    "    ruta_tablas_o_ds = os.path.join(ruta_filegdb,tablas)\n",
    "    listado_rutas_tablas.append(ruta_tablas_o_ds)"
   ]
  },
  {
   "cell_type": "code",
   "execution_count": null,
   "metadata": {},
   "outputs": [],
   "source": [
    "# ** Toma el sistema de referencia de una capa en específico de la base de datos\n",
    "ruta_capa_src = r\"D:\\PUBLIC\\PGAR\\Resultados\\4.PRO\\PGAR\\PGAR_Inventario.gdb\\municipio\"\n",
    "\n",
    "for dataset_a_crear in lista_datasets:\n",
    "    arcpy.management.CreateFeatureDataset(ruta_sde, dataset_a_crear, spatial_reference = ruta_capa_src)\n",
    "\n",
    "# ? Copiado de capas y tablas\n",
    "\n",
    "arcpy.env.workspace = ruta_sde\n",
    "\n",
    "# ** Copiado de capas dentro de dataset\n",
    "for dataset in arcpy.ListDatasets():\n",
    "        for rutas in listado_rutas_capas_into_dataset:\n",
    "            if dataset.split(\".\")[1] == rutas.split(\"\\\\\")[7]:\n",
    "                ruta_salida = os.path.join(arcpy.env.workspace,dataset,rutas.split(\"\\\\\")[8])\n",
    "                arcpy.management.Copy(rutas, ruta_salida)\n",
    "                print(\"Se migra la capa {0} dentro del dataset {1}\".format(rutas.split(\"\\\\\")[8],dataset))\n",
    "                \n",
    "# ** Copiado de capas dentro de .sde\n",
    "for rutas in listado_rutas_capas_out_dataset:\n",
    "    nombre_salida = rutas.split(\"\\\\\")[7]\n",
    "    ruta_salida = os.path.join(arcpy.env.workspace,nombre_salida)\n",
    "    arcpy.management.Copy(rutas, ruta_salida)\n",
    "    print(\"Se migra la capa {0}\".format(rutas.split(\"\\\\\")[7]))\n",
    "    \n",
    "# ** Copiado de tablas dentro de .sde\n",
    "for rutas in listado_rutas_tablas:\n",
    "    arcpy.management.Copy(rutas, rutas.split(\"\\\\\")[7])\n",
    "    print(\"Se migra la tabla {0}\".format(rutas.split(\"\\\\\")[7]))"
   ]
  }
 ],
 "metadata": {
  "kernelspec": {
   "display_name": "Python 3",
   "language": "python",
   "name": "python3"
  },
  "language_info": {
   "codemirror_mode": {
    "name": "ipython",
    "version": 3
   },
   "file_extension": ".py",
   "mimetype": "text/x-python",
   "name": "python",
   "nbconvert_exporter": "python",
   "pygments_lexer": "ipython3",
   "version": "3.9.12 (main, Apr  4 2022, 05:22:27) [MSC v.1916 64 bit (AMD64)]"
  },
  "orig_nbformat": 4,
  "vscode": {
   "interpreter": {
    "hash": "15d62e72c5d14bd073ab7bc0854742052db6830de21542cb2a2e1b067e39f5e5"
   }
  }
 },
 "nbformat": 4,
 "nbformat_minor": 2
}
