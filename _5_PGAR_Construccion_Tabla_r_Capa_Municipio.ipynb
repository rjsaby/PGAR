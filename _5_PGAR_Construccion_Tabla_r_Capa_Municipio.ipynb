{
 "cells": [
  {
   "cell_type": "code",
   "execution_count": null,
   "metadata": {},
   "outputs": [],
   "source": [
    "import os\n",
    "import arcpy\n",
    "import pandas as pd\n",
    "import numpy as np\n",
    "from arcgis.features import GeoAccessor, GeoSeriesAccessor\n",
    "\n",
    "arcpy.env.overwriteOutput = True"
   ]
  },
  {
   "attachments": {},
   "cell_type": "markdown",
   "metadata": {},
   "source": [
    "<h4>Corrección capas asociadas al temario Código 12: Avenida Torrencial</h4>\n",
    "<p>Estos datos ya tienen un campo con nombre -Municipio-</p>"
   ]
  },
  {
   "cell_type": "code",
   "execution_count": null,
   "metadata": {},
   "outputs": [],
   "source": [
    "ruta_capas_w_municipio = r\"D:\\PUBLIC\\PGAR\\Resultados\\4.PRO\\PGAR\\Local_BD_PGAR.gdb\"\n",
    "\n",
    "arcpy.env.workspace = ruta_capas_w_municipio\n",
    "\n",
    "dataset_intersect = 'Interseccion_Municipio'\n",
    "columna_remover = 'Municipio_1'\n",
    "\n",
    "for capas_w_mpio in arcpy.ListFeatureClasses(feature_dataset = dataset_intersect):\n",
    "    if arcpy.ListFields(capas_w_mpio,columna_remover):\n",
    "        arcpy.management.DeleteField(capas_w_mpio, 'Municipio')\n",
    "        arcpy.management.AlterField(capas_w_mpio, 'Municipio_1', 'Municipio')\n",
    "        print(\"Se borra y actualiza el campo -Municipio- en la capa: {0}\".format(capas_w_mpio))        \n",
    "    else:       \n",
    "        print(\"La capa {0} no cuenta con una columna -Municipio_1-\".format(capas_w_mpio))        "
   ]
  },
  {
   "attachments": {},
   "cell_type": "markdown",
   "metadata": {},
   "source": [
    "<h4>Creación de DataFrame para la unificación de la tabla -Relacion_Capa_Municipio-</h4>"
   ]
  },
  {
   "cell_type": "code",
   "execution_count": null,
   "metadata": {},
   "outputs": [],
   "source": [
    "df_unificacion_tabla_capa_municipio = pd.DataFrame(columns=['codigo_capa','CODDANE','Municipio','codigo_tematica'])\n",
    "print(\"---------------------------------------- Data frame creado ----------------------------------------\")"
   ]
  },
  {
   "attachments": {},
   "cell_type": "markdown",
   "metadata": {},
   "source": [
    "<h4>Generación de DataFrame Global Total con la unificación de dos columnas principales</h4>\n",
    "<ul>\n",
    "  <li>codigo_capa</li>\n",
    "  <li>coddane</li>\n",
    "</ul>"
   ]
  },
  {
   "cell_type": "code",
   "execution_count": null,
   "metadata": {},
   "outputs": [],
   "source": [
    "columna_analisis = 'Municipio'\n",
    "\n",
    "for capas_w_mpio in arcpy.ListFeatureClasses(feature_dataset = dataset_intersect):\n",
    "    if arcpy.ListFields(capas_w_mpio,columna_analisis):\n",
    "        ruta_capas_w_mpio = os.path.join(ruta_capas_w_municipio, dataset_intersect, capas_w_mpio)\n",
    "        df_capas_w_mpio = pd.DataFrame.spatial.from_featureclass(ruta_capas_w_mpio)\n",
    "        capas_w_mpio_columnas_reducidas = df_capas_w_mpio.loc[:, ['codigo_capa','CODDANE','Municipio']]\n",
    "        df_unificacion_tabla_capa_municipio = df_unificacion_tabla_capa_municipio.append(capas_w_mpio_columnas_reducidas)\n",
    "        print(\"Se migra a DF: {0}\".format(capas_w_mpio))\n",
    "    else:\n",
    "        print(\"La capa {0} no cuenta con la columna {1}, por lo cual no se adiciona al DF\".format(capas_w_mpio,columna_analisis))"
   ]
  },
  {
   "attachments": {},
   "cell_type": "markdown",
   "metadata": {},
   "source": [
    "<h4>Lectura de la tabla previa -municipio-</h4>"
   ]
  },
  {
   "cell_type": "code",
   "execution_count": null,
   "metadata": {},
   "outputs": [],
   "source": [
    "capa_municipio = r'D:\\PUBLIC\\PGAR\\Resultados\\4.PRO\\PGAR\\Local_BD_PGAR.gdb\\municipio'\n",
    "df_municipio = pd.DataFrame.spatial.from_featureclass(capa_municipio)"
   ]
  },
  {
   "attachments": {},
   "cell_type": "markdown",
   "metadata": {},
   "source": [
    "<h4>Unificación Tabla -relación_capa_municipio-</h4>"
   ]
  },
  {
   "cell_type": "code",
   "execution_count": null,
   "metadata": {},
   "outputs": [],
   "source": [
    "# Agrupamiento, lo que en SQL es Group by\n",
    "df_tabla_capa = df_unificacion_tabla_capa_municipio.groupby(['codigo_capa','CODDANE','Municipio','codigo_tematica']).agg({'codigo_capa':'count', 'CODDANE':'count', 'Municipio':'count'})\n",
    "\n",
    "# Se cambia el nombre de las columnas asociadas a los conteos (funcion -rename-)\n",
    "df_tabla_capa.rename({'codigo_capa':'conteo_capa', 'CODDANE': 'conteo_CODDANE', 'Municipio':'conteo_municipio'}, axis = 1, inplace = True)\n",
    "\n",
    "# Se resetan los índices\n",
    "df_tabla_capa = df_tabla_capa.reset_index()\n",
    "\n",
    "# Se cambia el nombre de la columna -CODDANE-\n",
    "df_tabla_capa.rename({'CODDANE': 'codigo_municipio'}, axis = 1, inplace = True)\n",
    "\n",
    "# Cambio de tipo de letra a -capitalize-\n",
    "df_tabla_capa['Municipio'] = df_tabla_capa['Municipio'].str.capitalize()\n",
    "\n",
    "# Se realiza la unión con la tabla -Municipio-\n",
    "join_municipio = pd.merge(df_tabla_capa, df_municipio, how = 'inner', left_on = ['Municipio','codigo_municipio'], right_on = ['nombre_municipio','codigo_municipio_dane'])\n",
    "\n",
    "# Estandarización de tabla\n",
    "join_municipio = join_municipio[['codigo_municipio_y','codigo_capa']]\n",
    "\n",
    "# Cambio de nombre al código de municipio\n",
    "join_municipio.rename({'codigo_municipio_y': 'codigo_municipio'}, axis = 1, inplace = True)\n",
    "\n",
    "# Generación del campo incremental de acuerdo al número de capas\n",
    "RID = []\n",
    "\n",
    "# Se suma uno por el header dentro del data frame\n",
    "for id_rid in range(1, join_municipio.shape[0]+1):\n",
    "    RID.append(id_rid)\n",
    " \n",
    "# Se utiliza el método .loc para incorporar la columna, que en este caso fue la lista que se creo previamente   \n",
    "join_municipio.loc[:,'RID'] = RID\n",
    "\n",
    "# Se estandariza la tabla final\n",
    "df_r_capa_municipio = join_municipio[['codigo_capa','codigo_municipio','RID']]\n",
    "df_r_capa_municipio['codigo_capa'] = df_r_capa_municipio.loc[:,['codigo_capa']].astype('int')\n",
    "df_r_capa_municipio['codigo_municipio'] = df_r_capa_municipio.loc[:,['codigo_municipio']].astype('int')"
   ]
  },
  {
   "attachments": {},
   "cell_type": "markdown",
   "metadata": {},
   "source": [
    "<h4>Exportado a .csv de la capa que relaciona -tbl_capa- con -municipio-</h4>\n",
    "<p>Este .csv debe será migrado posteriormente cuando se cree la relación M:N<p>"
   ]
  },
  {
   "cell_type": "code",
   "execution_count": null,
   "metadata": {},
   "outputs": [],
   "source": [
    "nombre_csv_capa_municipio = 'r_municipio_capa.csv'\n",
    "df_r_capa_municipio.to_csv(nombre_csv_capa_municipio, index = False, encoding = 'UTF-8')"
   ]
  }
 ],
 "metadata": {
  "kernelspec": {
   "display_name": "Python 3",
   "language": "python",
   "name": "python3"
  },
  "language_info": {
   "codemirror_mode": {
    "name": "ipython",
    "version": 3
   },
   "file_extension": ".py",
   "mimetype": "text/x-python",
   "name": "python",
   "nbconvert_exporter": "python",
   "pygments_lexer": "ipython3",
   "version": "3.9.12"
  },
  "orig_nbformat": 4,
  "vscode": {
   "interpreter": {
    "hash": "15d62e72c5d14bd073ab7bc0854742052db6830de21542cb2a2e1b067e39f5e5"
   }
  }
 },
 "nbformat": 4,
 "nbformat_minor": 2
}
