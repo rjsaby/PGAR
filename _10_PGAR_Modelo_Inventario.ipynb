{
 "cells": [
  {
   "cell_type": "code",
   "execution_count": null,
   "metadata": {},
   "outputs": [],
   "source": [
    "import os\n",
    "import arcpy\n",
    "import pandas as pd\n",
    "import numpy as np\n",
    "import csv\n",
    "from arcgis.features import GeoAccessor, GeoSeriesAccessor\n",
    "\n",
    "arcpy.env.overwriteOutput = True"
   ]
  },
  {
   "attachments": {},
   "cell_type": "markdown",
   "metadata": {},
   "source": [
    "<h4>Gestión de BD</h4>"
   ]
  },
  {
   "cell_type": "code",
   "execution_count": null,
   "metadata": {},
   "outputs": [],
   "source": [
    "arcpy.env.workspace = r\"C:\\PUBLIC\\PGAR\\Resultados\\4.PRO\\PGAR\"\n",
    "ruta_gdb_inventario = r\"C:\\PUBLIC\\PGAR\\Resultados\\4.PRO\\PGAR\\PGAR_Inventario.gdb\"\n",
    "\n",
    "if arcpy.Exists(ruta_gdb_inventario):\n",
    "    print(\"------ La BD SDE PGAR_Inventario Existe ------\")\n",
    "else:\n",
    "    print(\"------ Pendiente por definir gestión ------\")"
   ]
  },
  {
   "attachments": {},
   "cell_type": "markdown",
   "metadata": {},
   "source": [
    "<h4>Gestión de Datasets</h4>"
   ]
  },
  {
   "cell_type": "code",
   "execution_count": null,
   "metadata": {},
   "outputs": [],
   "source": [
    "ruta_tbl_tematica = r\"C:\\PUBLIC\\PGAR\\Resultados\\4.PRO\\PGAR\\Local_BD_PGAR.gdb\\tbl_tematica\"\n",
    "sistema_referencia_inventario = r\"C:\\PUBLIC\\PGAR\\Resultados\\4.PRO\\PGAR\\Local_BD_PGAR.gdb\\municipio\"\n",
    "arcpy.env.workspace = ruta_gdb_inventario\n",
    "\n",
    "lista_tematica = []\n",
    "\n",
    "# Se usa la función SearchCursor para navegar por la tabla alojada en BD\n",
    "# En este caso no se utiliza un filtro where sql\n",
    "with arcpy.da.SearchCursor(ruta_tbl_tematica,\"nombre_tematica\") as cursor:\n",
    "    for i in cursor:\n",
    "        if i[0] != '_6_1_Jurisdiccion_CAR':\n",
    "            lista_tematica.append(i[0])\n",
    " \n",
    "for dataset in lista_tematica:\n",
    "    ruta_dataset = r\"C:\\PUBLIC\\PGAR\\Resultados\\4.PRO\\PGAR\\PGAR_Inventario.gdb\" + \"\\\\\" + dataset\n",
    "    if arcpy.Exists(ruta_dataset):\n",
    "        print(\"El Feature DataFrame {0}, existe\".format(dataset))\n",
    "        for capa in arcpy.ListFeatureClasses(feature_dataset=dataset):\n",
    "            arcpy.Delete_management(capa)\n",
    "            print(\" - Capa {0} borrada\".format(capa))\n",
    "    else:\n",
    "        arcpy.management.CreateFeatureDataset(ruta_gdb_inventario, dataset, sistema_referencia_inventario)\n",
    "        print(\"Se crea el Feature DataFrame {0}\".format(dataset))\n",
    "        \n",
    "for capa in arcpy.ListFeatureClasses():\n",
    "    arcpy.Delete_management(capa)\n",
    "    print(\" - Capa {0} borrada\".format(capa))\n",
    "    \n",
    "for tabla in arcpy.ListTables():\n",
    "    arcpy.Delete_management(tabla)\n",
    "    print(\" - Tabla {0} borrada\".format(tabla))"
   ]
  },
  {
   "attachments": {},
   "cell_type": "markdown",
   "metadata": {},
   "source": [
    "<h4>Migración de registros .gdb - .sde</h4>"
   ]
  },
  {
   "cell_type": "code",
   "execution_count": null,
   "metadata": {},
   "outputs": [],
   "source": [
    "ruta_origen = r\"C:\\PUBLIC\\PGAR\\Resultados\\4.PRO\\PGAR\\Local_BD_PGAR.gdb\"\n",
    "arcpy.env.workspace = ruta_origen\n",
    "lista_capas_no_exentas = []\n",
    "lista_capas_exentas = []\n",
    "\n",
    "# Listar capas NO excluidas de la copia a FDF\n",
    "for capas_no_exentas in arcpy.ListFeatureClasses():\n",
    "    if \"_\" in capas_no_exentas and '_6_1_Jurisdiccion_CAR' not in capas_no_exentas:\n",
    "        lista_capas_no_exentas.append(capas_no_exentas)\n",
    "        # print(\"La capa o tabla {0} NO se migra\".format(capas_exentas))\n",
    "    else: \n",
    "        print(\"La capa {0} se migra\".format(capas_no_exentas))\n",
    "\n",
    "# Listar capas NO excluidas de la copia a FDF\n",
    "for capas_exentas in arcpy.ListFeatureClasses():\n",
    "    if \"_\" not in capas_exentas:\n",
    "        lista_capas_exentas.append(capas_exentas)\n",
    "        print(\"La capa o tabla {0} NO se migra\".format(capas_exentas))\n",
    "    # else: \n",
    "    #     print(\"La capa {0} se migra\".format(capas_exentas))          \n",
    "\n",
    "# Lista de rutas con todas las capas a migrar\n",
    "ruta_capas = []\n",
    "for capas in arcpy.ListFeatureClasses():\n",
    "    ruta_capa = os.path.join(arcpy.env.workspace,capas)\n",
    "    ruta_capas.append(ruta_capa)\n",
    "    \n",
    "# Migración de capas al Feature DataFrame correspondiente\n",
    "for i in arcpy.ListFeatureClasses():\n",
    "    for r in lista_capas_no_exentas:\n",
    "        if (i == r):\n",
    "            for j in lista_tematica:\n",
    "                if (i.split(\"_\")[1] == j.split(\"_\")[1]):\n",
    "                    capa_origen = os.path.join(arcpy.env.workspace, i)\n",
    "                    capa_destino = os.path.join(ruta_gdb_inventario, j, i)\n",
    "                    arcpy.management.CopyFeatures(capa_origen, capa_destino)\n",
    "                    print(\"La capa {0}, se ha migrado al FDF {1} de la BD GDB\".format(i,j))\n",
    "    for y in lista_capas_exentas:\n",
    "        if (i == y):\n",
    "            capa_origen = os.path.join(arcpy.env.workspace, i)\n",
    "            capa_destino = os.path.join(ruta_gdb_inventario, i)\n",
    "            arcpy.management.CopyFeatures(capa_origen, capa_destino)\n",
    "            print(\"La capa {0} se ha migrado BD GDB\".format(i))\n",
    "\n",
    "# Migración de tablas con prefijo -tbl-\n",
    "for tablas in arcpy.ListTables():\n",
    "    if \"tbl\" in tablas:\n",
    "        capa_origen = os.path.join(arcpy.env.workspace, tablas)\n",
    "        capa_destino = os.path.join(ruta_gdb_inventario, tablas)\n",
    "        arcpy.management.Copy(capa_origen, capa_destino)\n",
    "        print(\"La tabla {0} se ha migrado BD GDB\".format(tablas))      "
   ]
  },
  {
   "attachments": {},
   "cell_type": "markdown",
   "metadata": {},
   "source": [
    "<h4>Paramtrización capas que tienen el mismo nombre</h4>\n",
    "<p>Esto aplica para las capas asociadas a AVR</p>"
   ]
  },
  {
   "cell_type": "code",
   "execution_count": null,
   "metadata": {},
   "outputs": [],
   "source": [
    "arcpy.env.workspace = ruta_gdb_inventario\n",
    "\n",
    "nombre_dataset = ['_10_Analisis_Vulnerabilidad_Riesgo_Inundacion',\n",
    "           '_11_Analisis_Vulnerabilidad_Riesgo_Incendio',\n",
    "           '_12_Analisis_Vulnerabilidad_Riesgo_Avenida_Torrencial',\n",
    "           '_13_Analisis_Vulnerabilidad_Riesgo_Remocion_Masa']\n",
    "\n",
    "for dataset in arcpy.ListDatasets():\n",
    "    for seleccion_dataset in nombre_dataset:\n",
    "        if dataset == seleccion_dataset:\n",
    "            for capa in arcpy.ListFeatureClasses(feature_dataset=dataset):\n",
    "                if '_10_' in capa:\n",
    "                    arcpy.management.Rename(capa, capa + '_Inundacion')\n",
    "                elif '_11_' in capa:\n",
    "                    arcpy.management.Rename(capa, capa + '_Incendio')\n",
    "                elif '_12_' in capa:\n",
    "                    arcpy.management.Rename(capa, capa + '_Avenida_Torrencial')\n",
    "                elif '_13_' in capa:\n",
    "                    arcpy.management.Rename(capa, capa + '_Remocion_Masa')\n",
    "                else:\n",
    "                    print(\"No se localiza la capa dentro del listado disponible\")        \n",
    "    "
   ]
  },
  {
   "attachments": {},
   "cell_type": "markdown",
   "metadata": {},
   "source": [
    "<h4>Renombrado de capas</h4>"
   ]
  },
  {
   "cell_type": "code",
   "execution_count": null,
   "metadata": {},
   "outputs": [],
   "source": [
    "for dataset in lista_tematica:\n",
    "    for capas in arcpy.ListFeatureClasses(feature_dataset=dataset):\n",
    "        if (\"_\" in capas[0]) and (\"_\" in capas[3]): # !! _10_\n",
    "            arcpy.management.Rename(capas, capas[4:])\n",
    "            print(\"Primera modificación exitosa: {0}\".format(capas))        \n",
    "        elif (\"_\" in capas[0]) and (\"_\" in capas[2]) and (\"_\" in capas[4]): # !! _1_4_\n",
    "            arcpy.management.Rename(capas, capas[5:])\n",
    "            print(\"Segunda modificación exitosa: {0}\".format(capas))\n",
    "            print(capas[5:])\n",
    "        elif (\"_\" in capas[0]) and (\"_\" in capas[2]) and (\"_\" in capas[5]): # !! _1_15_\n",
    "            arcpy.management.Rename(capas, capas[6:])\n",
    "            print(\"Tercera modificación exitosa: {0}\".format(capas))\n",
    "        elif (\"_\" in capas[0]) and (\"_\" in capas[3]) and (\"_\" in capas[5]): # !! _12_1_\n",
    "            arcpy.management.Rename(capas, capas[6:])\n",
    "            print(\"Cuarta modificación exitosa: {0}\".format(capas))\n",
    "        elif (\"_\" in capas[0]) and (\"_\" in capas[3]) and (\"_\" in capas[6]): # !! _10_12_\n",
    "            arcpy.management.Rename(capas, capas[7:])\n",
    "            print(\"Quinta modificación exitosa: {0}\".format(capas))\n",
    "        else:\n",
    "            print(\"No se renomabra la capa {0}\".format(capas))\n",
    "            \n",
    "print(\"--------------- Finaliza cambio de nombres de las capas ----------------\")"
   ]
  },
  {
   "attachments": {},
   "cell_type": "markdown",
   "metadata": {},
   "source": [
    "<h4>Renombrado de datasets</h4>"
   ]
  },
  {
   "cell_type": "code",
   "execution_count": null,
   "metadata": {},
   "outputs": [],
   "source": [
    "for dataset in arcpy.ListDatasets():\n",
    "    if (\"_\" in dataset[0]) and (\"_\" in dataset[2]): # !! _1_\n",
    "            arcpy.management.Rename(dataset, dataset[3:])\n",
    "            print(\"Primera modificación exitosa: {0}\".format(dataset))\n",
    "    elif (\"_\" in dataset[0]) and (\"_\" in dataset[3]): # !! _10_\n",
    "            arcpy.management.Rename(dataset, dataset[4:])\n",
    "            print(\"Segunda modificación exitosa: {0}\".format(dataset))\n",
    "    else:\n",
    "        print(\"No se renomabra Feature Dataset {0}\".format(dataset))\n",
    "\n",
    "print(\"--------------- Finaliza cambio de nombres de Features Datasets ----------------\")\n",
    "    "
   ]
  },
  {
   "attachments": {},
   "cell_type": "markdown",
   "metadata": {},
   "source": [
    "<h4>Creación de relaciones M:N</h4>"
   ]
  },
  {
   "cell_type": "code",
   "execution_count": null,
   "metadata": {},
   "outputs": [],
   "source": [
    "feature_municipio = r\"C:\\PUBLIC\\PGAR\\Resultados\\4.PRO\\PGAR\\PGAR_Inventario.gdb\\municipio\"\n",
    "tabla_capa = r\"C:\\PUBLIC\\PGAR\\Resultados\\4.PRO\\PGAR\\PGAR_Inventario.gdb\\tbl_capa\"\n",
    "tabla_cuenca = r\"C:\\PUBLIC\\PGAR\\Resultados\\4.PRO\\PGAR\\PGAR_Inventario.gdb\\cuenca\"\n",
    "\n",
    "# ********************** Relación Municipio - Capa **********************\n",
    "# - Creación de la estrucutura de la relación\n",
    "r_municipio_capa = \"r_municipio_capa\"\n",
    "arcpy.management.CreateRelationshipClass(tabla_capa, feature_municipio, r_municipio_capa, 'SIMPLE', 'capa', 'municipio', \n",
    "                                         \"NONE\", 'MANY_TO_MANY', \"NONE\", 'codigo_capa', 'codigo_capa', 'codigo_municipio', 'codigo_municipio')\n",
    "print(\"Creada relación: {0}\".format(r_municipio_capa))\n",
    "\n",
    "# - Creación de la vista de tabla\n",
    "ruta_csv_relacion_municipio_capa = r\"C:\\Users\\rodian.saby\\OneDrive\\Documentos\\docsProyectos\\3.PGAR\\Resultados\\2.Py\\r_municipio_capa.csv\"\n",
    "\n",
    "# - Unificación de registros\n",
    "arcpy.Append_management(ruta_csv_relacion_municipio_capa, r_municipio_capa, \"NO_TEST\")\n",
    "print(\" - Se incorporan los registros de la relación: {0}\".format(r_municipio_capa))\n",
    "\n",
    "# ********************** Relación Municipio - Cuenca **********************\n",
    "# - Creación de la estrucutura de la relación\n",
    "r_municipio_cuenca = \"r_municipio_cuenca\"\n",
    "arcpy.management.CreateRelationshipClass(tabla_cuenca, feature_municipio, r_municipio_cuenca, 'SIMPLE', 'cuenca', 'municipio', \n",
    "                                         \"NONE\", 'MANY_TO_MANY', \"NONE\", 'codigo_cuenca', 'codigo_cuenca', 'codigo_municipio', 'codigo_municipio')\n",
    "print(\"Creada relación: {0}\".format(r_municipio_cuenca))\n",
    "\n",
    "# - Creación de la vista de tabla\n",
    "ruta_csv_relacion_municipio_cuenca = r\"C:\\Users\\rodian.saby\\OneDrive\\Documentos\\docsProyectos\\3.PGAR\\Resultados\\2.Py\\r_municipio_cuenca.csv\"\n",
    "\n",
    "# - Unificación de registros\n",
    "arcpy.Append_management(ruta_csv_relacion_municipio_cuenca, r_municipio_cuenca, \"NO_TEST\")\n",
    "print(\" - Se incorporan los registros de la relación: {0}\".format(r_municipio_cuenca))"
   ]
  },
  {
   "attachments": {},
   "cell_type": "markdown",
   "metadata": {},
   "source": [
    "<h4>Creación de relaciones N:1</h4>"
   ]
  },
  {
   "cell_type": "code",
   "execution_count": null,
   "metadata": {},
   "outputs": [],
   "source": [
    "tabla_tematica = r\"C:\\PUBLIC\\PGAR\\Resultados\\4.PRO\\PGAR\\PGAR_Inventario.gdb\\tbl_tematica\"\n",
    "tabla_direccion = r\"C:\\PUBLIC\\PGAR\\Resultados\\4.PRO\\PGAR\\PGAR_Inventario.gdb\\tbl_direccion\"\n",
    "tabla_departamento = r\"C:\\PUBLIC\\PGAR\\Resultados\\4.PRO\\PGAR\\PGAR_Inventario.gdb\\tbl_departamento\"\n",
    "tabla_fuente = r\"C:\\PUBLIC\\PGAR\\Resultados\\4.PRO\\PGAR\\PGAR_Inventario.gdb\\tbl_fuentes\"\n",
    "r_capa_tematica = \"r_capa_tematica\"\n",
    "r_direccion_municipio = \"r_direccion_municipio\"\n",
    "r_municipio_departamento = \"r_municipio_departamento\"\n",
    "r_capa_fuentes = \"r_capa_fuentes\"\n",
    "\n",
    "# ********************** Relación Capa - Temática **********************\n",
    "arcpy.management.CreateRelationshipClass(tabla_tematica, tabla_capa, r_capa_tematica, 'SIMPLE', 'capa', 'tematica', \n",
    "                                         \"NONE\", 'ONE_TO_MANY', \"NONE\", 'codigo_tematica', 'codigo_tematica')\n",
    "print(\"Creada relación: {0}\".format(r_capa_tematica))\n",
    "\n",
    "# ********************** Relación Dirección - Municipio **********************\n",
    "arcpy.management.CreateRelationshipClass(tabla_direccion, feature_municipio, r_direccion_municipio, 'SIMPLE', 'municipio', 'direccion', \n",
    "                                         \"NONE\", 'ONE_TO_MANY', \"NONE\", 'codigo_direccion', 'codigo_direccion')\n",
    "print(\"Creada relación: {0}\".format(r_direccion_municipio))\n",
    "\n",
    "# ********************** Relación Municipio - Departamento **********************\n",
    "arcpy.management.CreateRelationshipClass(tabla_departamento, feature_municipio, r_municipio_departamento, 'SIMPLE', 'municipio', 'departamento', \n",
    "                                         \"NONE\", 'ONE_TO_MANY', \"NONE\", 'codigo_departamento', 'codigo_departamento')\n",
    "print(\"Creada relación: {0}\".format(r_municipio_departamento))\n",
    "\n",
    "# ********************** Relación Capa - Fuentes **********************\n",
    "arcpy.management.CreateRelationshipClass(tabla_fuente, tabla_capa, r_capa_fuentes, 'SIMPLE', 'capa', 'fuente', \n",
    "                                         \"NONE\", 'ONE_TO_MANY', \"NONE\", 'codigo_fuente', 'codigo_fuente')\n",
    "print(\"Creada relación: {0}\".format(r_capa_fuentes))"
   ]
  }
 ],
 "metadata": {
  "kernelspec": {
   "display_name": "Python 3",
   "language": "python",
   "name": "python3"
  },
  "language_info": {
   "codemirror_mode": {
    "name": "ipython",
    "version": 3
   },
   "file_extension": ".py",
   "mimetype": "text/x-python",
   "name": "python",
   "nbconvert_exporter": "python",
   "pygments_lexer": "ipython3",
   "version": "3.9.12"
  },
  "orig_nbformat": 4,
  "vscode": {
   "interpreter": {
    "hash": "15d62e72c5d14bd073ab7bc0854742052db6830de21542cb2a2e1b067e39f5e5"
   }
  }
 },
 "nbformat": 4,
 "nbformat_minor": 2
}
