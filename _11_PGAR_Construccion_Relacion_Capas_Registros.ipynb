{
 "cells": [
  {
   "cell_type": "code",
   "execution_count": null,
   "metadata": {},
   "outputs": [],
   "source": [
    "import os\n",
    "import arcpy\n",
    "import pandas as pd\n",
    "import numpy as np\n",
    "import csv\n",
    "from arcgis.features import GeoAccessor, GeoSeriesAccessor\n",
    "\n",
    "arcpy.env.overwriteOutput = True"
   ]
  },
  {
   "attachments": {},
   "cell_type": "markdown",
   "metadata": {},
   "source": [
    "<h4>Relación masiva entre la -tbl_capa- y cada una de las capas</h4>"
   ]
  },
  {
   "cell_type": "code",
   "execution_count": null,
   "metadata": {},
   "outputs": [],
   "source": [
    "arcpy.env.workspace = r\"C:\\PUBLIC\\PGAR\\Resultados\\4.PRO\\PGAR\\PGAR_Inventario.gdb\"\n",
    "tabla_capa = r\"C:\\PUBLIC\\PGAR\\Resultados\\4.PRO\\PGAR\\PGAR_Inventario.gdb\\tbl_capa\"\n",
    "\n",
    "# Proceso realizado en el archivo _9_...\n",
    "for datasets in arcpy.ListDatasets():\n",
    "    for capas in arcpy.ListFeatureClasses(feature_dataset=datasets):\n",
    "            arcpy.management.AlterField(capas, 'codigo_capa', 'codigo_capa_borrar')\n",
    "            arcpy.management.AddField(capas, 'codigo_capa', 'DOUBLE', field_alias = 'Código Capa')\n",
    "            arcpy.management.CalculateField(capas, 'codigo_capa', '!codigo_capa_borrar!')\n",
    "            print(\"-Código Capa- actualizado para: {0}\".format(capas))\n",
    "            \n",
    "for datasets in arcpy.ListDatasets():\n",
    "    for capas in arcpy.ListFeatureClasses(feature_dataset=datasets):        \n",
    "        ruta_capa = os.path.join(arcpy.env.workspace,datasets,capas)\n",
    "        if capas != 'municipio' or capas != 'cuenca':\n",
    "            nombre_relacion = \"r_capa_\" + capas\n",
    "            arcpy.management.CreateRelationshipClass(tabla_capa, ruta_capa, nombre_relacion, 'SIMPLE', 'registros', 'capa', \n",
    "                                                \"NONE\", 'ONE_TO_MANY', \"NONE\", 'codigo_capa', 'codigo_capa')\n",
    "            print(\"Creada relación: {0}\".format(nombre_relacion))"
   ]
  }
 ],
 "metadata": {
  "kernelspec": {
   "display_name": "Python 3",
   "language": "python",
   "name": "python3"
  },
  "language_info": {
   "codemirror_mode": {
    "name": "ipython",
    "version": 3
   },
   "file_extension": ".py",
   "mimetype": "text/x-python",
   "name": "python",
   "nbconvert_exporter": "python",
   "pygments_lexer": "ipython3",
   "version": "3.9.12"
  },
  "orig_nbformat": 4,
  "vscode": {
   "interpreter": {
    "hash": "15d62e72c5d14bd073ab7bc0854742052db6830de21542cb2a2e1b067e39f5e5"
   }
  }
 },
 "nbformat": 4,
 "nbformat_minor": 2
}
