{
 "cells": [
  {
   "cell_type": "code",
   "execution_count": null,
   "metadata": {},
   "outputs": [],
   "source": [
    "import os\n",
    "import arcpy\n",
    "import pandas as pd\n",
    "import numpy as np\n",
    "import csv\n",
    "from arcgis.features import GeoAccessor, GeoSeriesAccessor\n",
    "\n",
    "arcpy.env.overwriteOutput = True"
   ]
  },
  {
   "cell_type": "code",
   "execution_count": null,
   "metadata": {},
   "outputs": [],
   "source": [
    "ruta_bd = r\"C:\\PUBLIC\\PGAR\\Resultados\\4.PRO\\PGAR\\PGAR_Inventario.gdb\"\n",
    "arcpy.env.workspace = ruta_bd\n",
    "\n",
    "capa_riego_rural = ['_10_Riesgo_Rural','_11_Riesgo_Rural','_13_Riesgo_Rural']\n",
    "campos_actualizar = ['Riesgo']\n",
    "nombre_dataset = ['_10_Analisis_Vulnerabilidad_Riesgo_Inundacion',\n",
    "           '_11_Analisis_Vulnerabilidad_Riesgo_Incendio',\n",
    "           '_13_Analisis_Vulnerabilidad_Riesgo_Remocion_Masa']\n",
    "\n",
    "for dataset in arcpy.ListDatasets():\n",
    "    for seleccion_dataset in nombre_dataset:\n",
    "        if dataset == seleccion_dataset:\n",
    "            for capa in arcpy.ListFeatureClasses(feature_dataset=dataset):\n",
    "                for seleccion_capa in capa_riego_rural:\n",
    "                    if capa == seleccion_capa:\n",
    "                        with arcpy.da.UpdateCursor(capa, campos_actualizar) as cursor:\n",
    "                            for fila in cursor:\n",
    "                                if fila[0] == 'Muy Alto':\n",
    "                                    fila[0] = 'Muy alto'\n",
    "                                elif fila[0] == 'Muy Bajo':\n",
    "                                    fila[0] = 'Muy bajo'\n",
    "                                elif fila[0] == 'Alta':\n",
    "                                    fila[0] = 'Alto'\n",
    "                                elif fila[0] == 'Baja':\n",
    "                                    fila[0] = 'Bajo'\n",
    "                                elif fila[0] == 'Media':\n",
    "                                    fila[0] = 'Medio'\n",
    "                                elif fila[0] == 'Riesgo Alto':\n",
    "                                    fila[0] = 'Alto'\n",
    "                                elif fila[0] == 'Riesgo Medio':\n",
    "                                    fila[0] = 'Medio'\n",
    "                                elif fila[0] == 'Riesgo Bajo':\n",
    "                                    fila[0] = 'Bajo'\n",
    "                                elif fila[0] == None:\n",
    "                                    fila[0] = 'Sin información'\n",
    "                                else:\n",
    "                                    print(\"No se ejecuta cambio\")                            \n",
    "                                # ? Se actualiza el cursor con la actualización de la lista anterior\n",
    "                                cursor.updateRow(fila)"
   ]
  }
 ],
 "metadata": {
  "kernelspec": {
   "display_name": "Python 3",
   "language": "python",
   "name": "python3"
  },
  "language_info": {
   "codemirror_mode": {
    "name": "ipython",
    "version": 3
   },
   "file_extension": ".py",
   "mimetype": "text/x-python",
   "name": "python",
   "nbconvert_exporter": "python",
   "pygments_lexer": "ipython3",
   "version": "3.9.12"
  },
  "orig_nbformat": 4,
  "vscode": {
   "interpreter": {
    "hash": "15d62e72c5d14bd073ab7bc0854742052db6830de21542cb2a2e1b067e39f5e5"
   }
  }
 },
 "nbformat": 4,
 "nbformat_minor": 2
}
