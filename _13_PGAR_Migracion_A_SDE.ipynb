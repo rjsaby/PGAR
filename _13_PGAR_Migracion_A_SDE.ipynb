{
 "cells": [
  {
   "attachments": {},
   "cell_type": "markdown",
   "metadata": {},
   "source": [
    "<h4>Librerias</h4>"
   ]
  },
  {
   "cell_type": "code",
   "execution_count": null,
   "metadata": {},
   "outputs": [],
   "source": [
    "import os\n",
    "import arcpy\n",
    "import pandas as pd\n",
    "import numpy as np\n",
    "import csv\n",
    "from arcgis.features import GeoAccessor, GeoSeriesAccessor\n",
    "\n",
    "arcpy.env.overwriteOutput = True"
   ]
  },
  {
   "attachments": {},
   "cell_type": "markdown",
   "metadata": {},
   "source": [
    "<h4>De FileGDB a XML</h4>"
   ]
  },
  {
   "cell_type": "code",
   "execution_count": null,
   "metadata": {},
   "outputs": [],
   "source": [
    "ruta_filegdb = r\"C:\\PUBLIC\\PGAR\\Resultados\\4.PRO\\PGAR\\PGAR_Inventario.gdb\"\n",
    "XML_Salida = \"PGAR_Inventario.xml\"\n",
    "\n",
    "arcpy.management.ExportXMLWorkspaceDocument(ruta_filegdb, XML_Salida, export_type = 'DATA')\n",
    "print(\"BD Exportada a XML\")"
   ]
  },
  {
   "attachments": {},
   "cell_type": "markdown",
   "metadata": {},
   "source": [
    "<h4>Borrado de capas, tablas y relaciones en la SDE</h4>"
   ]
  },
  {
   "cell_type": "code",
   "execution_count": null,
   "metadata": {},
   "outputs": [],
   "source": [
    "ruta_sde = r\"C:\\PUBLIC\\PGAR\\Resultados\\4.PRO\\PGAR\\PGAR_Inventario.sde\"\n",
    "arcpy.env.workspace = ruta_sde\n",
    "# Listas\n",
    "dataframes = arcpy.ListDatasets()\n",
    "capas = arcpy.ListFeatureClasses()\n",
    "tablas = arcpy.ListTables()\n",
    "\n",
    "for dataframe in dataframes:\n",
    "    arcpy.Delete_management(dataframe)\n",
    "    print(\"Se borra dataframe {0}\".format(dataframe))\n",
    "    \n",
    "for capas in capas:\n",
    "    arcpy.Delete_management(capas)\n",
    "    print(\"Se borra tabla {0}\".format(capas))\n",
    "    \n",
    "for tabla in tablas:\n",
    "    arcpy.Delete_management(tabla)\n",
    "    print(\"Se borra capa {0}\".format(tabla))"
   ]
  },
  {
   "attachments": {},
   "cell_type": "markdown",
   "metadata": {},
   "source": [
    "<h4>De XLM a SDE</h4>"
   ]
  },
  {
   "cell_type": "code",
   "execution_count": null,
   "metadata": {},
   "outputs": [],
   "source": [
    "ruta_sde_inventario = r\"C:\\PUBLIC\\PGAR\\Resultados\\4.PRO\\PGAR\\PGAR_Inventario.sde\"\n",
    "# El archivo se localiza en la raiz del directorio donde se localizan todos los scripts\n",
    "\n",
    "arcpy.management.ImportXMLWorkspaceDocument(ruta_sde_inventario, \"PGAR_Inventario.xml\", import_type = 'DATA')\n",
    "print(\"XML Importado a SDE\")"
   ]
  }
 ],
 "metadata": {
  "kernelspec": {
   "display_name": "Python 3",
   "language": "python",
   "name": "python3"
  },
  "language_info": {
   "codemirror_mode": {
    "name": "ipython",
    "version": 3
   },
   "file_extension": ".py",
   "mimetype": "text/x-python",
   "name": "python",
   "nbconvert_exporter": "python",
   "pygments_lexer": "ipython3",
   "version": "3.9.12"
  },
  "orig_nbformat": 4,
  "vscode": {
   "interpreter": {
    "hash": "15d62e72c5d14bd073ab7bc0854742052db6830de21542cb2a2e1b067e39f5e5"
   }
  }
 },
 "nbformat": 4,
 "nbformat_minor": 2
}
