{
 "cells": [
  {
   "cell_type": "code",
   "execution_count": null,
   "metadata": {},
   "outputs": [],
   "source": [
    "from PGAR_Diagnostico.PGAR_Dominios import dominios_bd\n",
    "\n",
    "\"\"\"\n",
    "La instanciación de la clase requiere, como parámetros:\n",
    "bd_limites: base de datos donde se localiza la capa sobre la cual se extraerá el dominio. Se analiza una base de datos \n",
    "sin dataframes. \n",
    "bd_trabajo: Base de datos donde se parametrizará el dominio creado\n",
    "nombre_feature: Nombre de la capa donde se extraerá la información para la construcción del dominio\n",
    "campo_dominio_1: Campo -codigo- para la construcción del dominio\n",
    "campo_dominio_2: Campo -descripción- para la construcción del dominio\n",
    "ruta_generacion_csv_dominios: Ruta Windows donde se creará el archivo .csv que será usado para la generación del dominio\n",
    "nombre_dominio: Nombre que quiere que se le asigné al dominio a crear\n",
    "decripcion_dominio: Descripción que quiere que se parametrice en el domunio a crear\n",
    "campo_asignacion: Campo del o los elementos que masivamente se les quiere asignar el dominio\n",
    "wildcard: Wilcard para buscar algún dataset en particular\n",
    "\"\"\"\n",
    "dominios = dominios_bd(bd_limites = r\"D:\\PUBLIC\\PGAR\\Resultados\\4.PRO\\PGAR\\_7_GDBs\\20230720_MD_Limites_Territoriales.gdb\", \n",
    "            bd_trabajo = r\"D:\\PUBLIC\\PGAR\\Resultados\\4.PRO\\PGAR\\_7_GDBs\\Diagnostico_Indicador.gdb\", \n",
    "            nombre_feature = 'Cuencas_Zonificacion_Hidrografica', \n",
    "            campo_dominio_1 = 'Codigo', \n",
    "            campo_dominio_2 = 'Codigo', \n",
    "            ruta_generacion_csv_dominios = r\"D:\\PUBLIC\\PGAR\\Resultados\\4.PRO\\PGAR\\_11_Dominios\", \n",
    "            nombre_dominio = 'domCodigoCuenca', \n",
    "            decripcion_dominio = 'Codigo Cuenca',\n",
    "            campo_asignacion = 'Codigo_Cuenca',\n",
    "            wildcard = '_*'    \n",
    "    )\n",
    "\n",
    "print(\" *** Ejecución Exitosa *** \")\n",
    "\n",
    "print(\"Procedimiento: \", dominios.generacion_dominio())"
   ]
  }
 ],
 "metadata": {
  "kernelspec": {
   "display_name": "Python 3",
   "language": "python",
   "name": "python3"
  },
  "language_info": {
   "codemirror_mode": {
    "name": "ipython",
    "version": 3
   },
   "file_extension": ".py",
   "mimetype": "text/x-python",
   "name": "python",
   "nbconvert_exporter": "python",
   "pygments_lexer": "ipython3",
   "version": "3.9.16"
  },
  "orig_nbformat": 4
 },
 "nbformat": 4,
 "nbformat_minor": 2
}
