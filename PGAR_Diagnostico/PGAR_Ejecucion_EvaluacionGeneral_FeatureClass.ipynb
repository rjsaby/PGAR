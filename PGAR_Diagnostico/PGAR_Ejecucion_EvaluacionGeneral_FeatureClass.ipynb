{
 "cells": [
  {
   "cell_type": "code",
   "execution_count": null,
   "metadata": {},
   "outputs": [],
   "source": [
    "from PGAR_Diagnostico import PGAR_EvaluacionGeneral_FeatureClass\n",
    "import arcpy\n",
    "import os\n",
    "\n",
    "# ? Ruta a Dataframe\n",
    "ruta_featureclass = r\"D:\\PUBLIC\\PGAR\\Resultados\\4.PRO\\PGAR\\BackUP_Pomcas\\OneDrive_2023-08-15\\10. POMCA Río Sumapaz\\1. BasesDatos\\2. CartografíaTemática\\GDB_POMCAS.gdb\\_22_GESTION_RIESGO\"\n",
    "ruta_archivos_salida = r\"D:\\PUBLIC\\PGAR\\Resultados\\4.PRO\\PGAR\\_13_Calidad\"\n",
    "\n",
    "arcpy.env.workspace = ruta_featureclass\n",
    "lista_features = arcpy.ListFeatureClasses()\n",
    "longitud_lista = len(lista_features)\n",
    "\n",
    "try:\n",
    "    for indice, feature in enumerate(lista_features):\n",
    "        ruta_featureclass = os.path.join(arcpy.env.workspace, feature)\n",
    "        estadisticos = PGAR_EvaluacionGeneral_FeatureClass.estadisticos_calidad(ruta_featureclass, ruta_archivos_salida)\n",
    "        print(f\"{indice}\\{longitud_lista}: Ejecución de estadísticos para {feature}\", estadisticos.ejecucion_calidad())\n",
    "except Exception as e:\n",
    "    print(f\"Se presenta excepción en la capa {feature}: \", e)"
   ]
  }
 ],
 "metadata": {
  "kernelspec": {
   "display_name": "Python 3",
   "language": "python",
   "name": "python3"
  },
  "language_info": {
   "name": "python",
   "version": "3.9.16"
  },
  "orig_nbformat": 4
 },
 "nbformat": 4,
 "nbformat_minor": 2
}
