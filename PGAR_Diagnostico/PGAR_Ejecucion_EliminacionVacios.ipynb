{
 "cells": [
  {
   "cell_type": "code",
   "execution_count": 1,
   "metadata": {},
   "outputs": [
    {
     "name": "stdout",
     "output_type": "stream",
     "text": [
      "Se eliminan campos vacios de la capa Zonas_Priorizadas_Restaurar_Cuenca_Bogota\n"
     ]
    }
   ],
   "source": [
    "import arcpy\n",
    "from PGAR_Diagnostico.PGAR_CamposVaciosDataset_V1 import identificar_campos_vacios\n",
    "\n",
    "# ** Asignación de espacio de trabajo\n",
    "arcpy.env.workspace = r\"D:\\PUBLIC\\PGAR\\Resultados\\4.PRO\\PGAR\\_7_GDBs\\Diagnostico_Indicador.gdb\"\n",
    "ruta = r\"D:\\PUBLIC\\PGAR\\Resultados\\4.PRO\\PGAR\\_10_Geoprocesos\\Insumos_Diagnostico_Campos_Vacios\"\n",
    "dataset_analisis = '_*'\n",
    "\n",
    "for dataset in arcpy.ListDatasets(wild_card=dataset_analisis):\n",
    "        for feature_class in arcpy.ListFeatureClasses(feature_dataset = dataset):\n",
    "            # TODO: Los parámetros de la función -identificar_campos_vacios- son:\n",
    "            # TODO: feature_class: Capa a borrar los campos vacios\n",
    "            # TODO: Ruta donde quiere que se almacene los reportes de los campos que fueron eliminados\n",
    "            diccionario = identificar_campos_vacios(feature_class, ruta)\n",
    "            for llave, valor in diccionario.items():\n",
    "                if len(valor) != 0:\n",
    "                    arcpy.management.DeleteField(feature_class, valor)\n",
    "                    print(f\"Se eliminan campos vacios de la capa {feature_class}\")\n",
    "                else:\n",
    "                    print(f\"La capa {feature_class} no requiere borrar campos\")"
   ]
  }
 ],
 "metadata": {
  "kernelspec": {
   "display_name": "Python 3",
   "language": "python",
   "name": "python3"
  },
  "language_info": {
   "codemirror_mode": {
    "name": "ipython",
    "version": 3
   },
   "file_extension": ".py",
   "mimetype": "text/x-python",
   "name": "python",
   "nbconvert_exporter": "python",
   "pygments_lexer": "ipython3",
   "version": "3.9.16"
  },
  "orig_nbformat": 4
 },
 "nbformat": 4,
 "nbformat_minor": 2
}
