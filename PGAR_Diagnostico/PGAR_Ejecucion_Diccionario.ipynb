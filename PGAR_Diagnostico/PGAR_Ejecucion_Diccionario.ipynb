{
 "cells": [
  {
   "cell_type": "code",
   "execution_count": null,
   "metadata": {},
   "outputs": [],
   "source": [
    "from PGAR_Diagnostico.PGAR_DiccionarioDatos import generacion_diccionario_datos\n",
    "\n",
    "\"\"\"La función cuenta con dos parámetros:\n",
    "        rutaBaseDatos: Con la ruta de la base de datos sobre la que se quiere generar el diccionario de datos\n",
    "        wilkcard = Si quiere tenerse encuenta algún dataset en particular\n",
    "        rutaSalidaArchivos: La carpeta donde se quiere almacenar los XLSX resultantes con el diccionario de datos\n",
    "\"\"\"\n",
    "base_datos = r'D:\\PUBLIC\\PGAR\\Resultados\\4.PRO\\PGAR\\_7_GDBs\\Diagnostico_Indicador.gdb'\n",
    "wildcard = '_*'\n",
    "ruta_archivos = r'D:\\PUBLIC\\PGAR\\Resultados\\4.PRO\\Diccionario Datos'\n",
    "\n",
    "ruta = generacion_diccionario_datos(base_datos,wildcard,ruta_archivos)\n",
    "print(ruta)\n",
    "print(\"*********** Proceso Ejecutado ***********\")"
   ]
  }
 ],
 "metadata": {
  "kernelspec": {
   "display_name": "Python 3",
   "language": "python",
   "name": "python3"
  },
  "language_info": {
   "codemirror_mode": {
    "name": "ipython",
    "version": 3
   },
   "file_extension": ".py",
   "mimetype": "text/x-python",
   "name": "python",
   "nbconvert_exporter": "python",
   "pygments_lexer": "ipython3",
   "version": "3.9.16"
  },
  "orig_nbformat": 4
 },
 "nbformat": 4,
 "nbformat_minor": 2
}
