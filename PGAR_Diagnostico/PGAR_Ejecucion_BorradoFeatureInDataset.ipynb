{
 "cells": [
  {
   "cell_type": "code",
   "execution_count": null,
   "metadata": {},
   "outputs": [],
   "source": [
    "\n",
    "from PGAR_Diagnostico import PGAR_Borrado_FeaturesInDataset\n",
    "import arcpy\n",
    "import os\n",
    "\n",
    "# TODO Selección de Dataset\n",
    "# ruta_dataset = r\"D:\\PUBLIC\\PGAR\\Resultados\\4.PRO\\PGAR\\_12_Producto_Cartografico\\Producto_Cartografico\\Producto_Cartografico.gdb\\Insumos_Diagnostico\"\n",
    "\n",
    "arcpy.env.workspace = r\"D:\\PUBLIC\\PGAR\\Resultados\\4.PRO\\PGAR\\_12_Producto_Cartografico\\Producto_Cartografico\\Producto_Cartografico.gdb\"\n",
    "\n",
    "lista_ruta_dataset = []\n",
    "try:\n",
    "    for dataset in arcpy.ListDatasets(wild_card='_*'):\n",
    "        lista_ruta_dataset.append(os.path.join(arcpy.env.workspace,dataset))\n",
    "except Exception as e:\n",
    "    print(e)\n",
    "    \n",
    "for ruta_dataset in lista_ruta_dataset:            \n",
    "        borrado = PGAR_Borrado_FeaturesInDataset.borrado_featureindataset(ruta_dataset)\n",
    "        borrado.borrado()\n",
    "    \n",
    "print(\" *** Finalización Proceso *** \")"
   ]
  }
 ],
 "metadata": {
  "kernelspec": {
   "display_name": "Python 3",
   "language": "python",
   "name": "python3"
  },
  "language_info": {
   "codemirror_mode": {
    "name": "ipython",
    "version": 3
   },
   "file_extension": ".py",
   "mimetype": "text/x-python",
   "name": "python",
   "nbconvert_exporter": "python",
   "pygments_lexer": "ipython3",
   "version": "3.9.16"
  },
  "orig_nbformat": 4
 },
 "nbformat": 4,
 "nbformat_minor": 2
}
