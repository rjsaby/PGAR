{
 "cells": [
  {
   "cell_type": "code",
   "execution_count": null,
   "metadata": {},
   "outputs": [],
   "source": [
    "\n",
    "from PGAR_Diagnostico import PGAR_Borrado_FeaturesInDataset\n",
    "\n",
    "# TODO Selección de Dataset\n",
    "ruta_dataset = r\"D:\\PUBLIC\\PGAR\\Resultados\\4.PRO\\Salidas_Graficas\\Productos_Cartograficos\\PRO\\Producto_Cartografico\\Producto_Cartografico.gdb\\Insumos_Diagnostico\"\n",
    "\n",
    "borrado = PGAR_Borrado_FeaturesInDataset.borrado_featureindataset(ruta_dataset)\n",
    "borrado.borrado()\n",
    "\n",
    "print(\" *** Finalización Proceso *** \")"
   ]
  }
 ],
 "metadata": {
  "kernelspec": {
   "display_name": "Python 3",
   "language": "python",
   "name": "python3"
  },
  "language_info": {
   "codemirror_mode": {
    "name": "ipython",
    "version": 3
   },
   "file_extension": ".py",
   "mimetype": "text/x-python",
   "name": "python",
   "nbconvert_exporter": "python",
   "pygments_lexer": "ipython3",
   "version": "3.9.16"
  },
  "orig_nbformat": 4
 },
 "nbformat": 4,
 "nbformat_minor": 2
}
