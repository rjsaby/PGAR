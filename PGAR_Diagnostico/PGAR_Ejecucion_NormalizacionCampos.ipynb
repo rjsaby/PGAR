{
 "cells": [
  {
   "cell_type": "code",
   "execution_count": null,
   "metadata": {},
   "outputs": [],
   "source": [
    "from PGAR_Diagnostico.PGAR_NormalizacionCampos import normalizacion_campos\n",
    "\n",
    "estandarizacion = normalizacion_campos(\n",
    "    bd_trabajo = r\"D:\\PUBLIC\\PGAR\\Resultados\\4.PRO\\PGAR\\_7_GDBs\\Diagnostico_Indicador.gdb\",\n",
    "    wilcard = '_*' \n",
    "    )\n",
    "\n",
    "print(\" *** Ejecucion Exitosa ***\")\n",
    "\n",
    "print(\"Procedimiento: \", estandarizacion.proceso_normalizacion())"
   ]
  }
 ],
 "metadata": {
  "kernelspec": {
   "display_name": "Python 3",
   "language": "python",
   "name": "python3"
  },
  "language_info": {
   "codemirror_mode": {
    "name": "ipython",
    "version": 3
   },
   "file_extension": ".py",
   "mimetype": "text/x-python",
   "name": "python",
   "nbconvert_exporter": "python",
   "pygments_lexer": "ipython3",
   "version": "3.9.16"
  },
  "orig_nbformat": 4
 },
 "nbformat": 4,
 "nbformat_minor": 2
}
