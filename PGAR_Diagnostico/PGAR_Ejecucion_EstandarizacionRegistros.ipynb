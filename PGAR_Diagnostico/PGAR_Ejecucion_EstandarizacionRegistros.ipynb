{
 "cells": [
  {
   "cell_type": "code",
   "execution_count": null,
   "metadata": {},
   "outputs": [],
   "source": [
    "import arcpy\n",
    "from PGAR_Diagnostico.PGAR_EstandarizacionRegistros import estandarizacion_campos\n",
    "\n",
    "# ** Variables\n",
    "ruta_trabajo = r\"D:\\PUBLIC\\PGAR\\Resultados\\4.PRO\\PGAR\\_7_GDBs\\Diagnostico_Indicador.gdb\"\n",
    "arcpy.env.workspace = ruta_trabajo\n",
    "dataset_analisis = '_*'\n",
    "\n",
    "for dataset in arcpy.ListDatasets(wild_card=dataset_analisis):\n",
    "        for feature_class in arcpy.ListFeatureClasses(feature_dataset = dataset):\n",
    "            estandarizacion = estandarizacion_campos(feature_class)\n",
    "            print(f\"Se estandariza {feature_class}\", estandarizacion.estandarizacionCampos())\n",
    "\n",
    "print(\" *** Finalización Proceso *** \")  "
   ]
  },
  {
   "cell_type": "markdown",
   "metadata": {},
   "source": []
  }
 ],
 "metadata": {
  "kernelspec": {
   "display_name": "Python 3",
   "language": "python",
   "name": "python3"
  },
  "language_info": {
   "codemirror_mode": {
    "name": "ipython",
    "version": 3
   },
   "file_extension": ".py",
   "mimetype": "text/x-python",
   "name": "python",
   "nbconvert_exporter": "python",
   "pygments_lexer": "ipython3",
   "version": "3.9.16"
  },
  "orig_nbformat": 4
 },
 "nbformat": 4,
 "nbformat_minor": 2
}
