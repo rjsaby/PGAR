{
 "cells": [
  {
   "cell_type": "code",
   "execution_count": null,
   "metadata": {},
   "outputs": [],
   "source": [
    "import arcpy\n",
    "\n",
    "ruta_trabajo = r\"D:\\PUBLIC\\PGAR\\Resultados\\4.PRO\\PGAR\\_7_GDBs\\PGAR_2023_2025.gdb\\_1_Recurso_Hidrico\"\n",
    "\n",
    "lista_feature = [feature for feature in arcpy.ListFeatureClasses()]\n",
    "\n",
    "for indice, capa in enumerate(lista_feature, start=1):\n",
    "    arcpy.Delete_management(in_data = capa)\n",
    "    print(f\"{indice}/{len(lista_feature)} - Se elimina la capa: {capa}\")\n",
    "    \n"
   ]
  }
 ],
 "metadata": {
  "kernelspec": {
   "display_name": "Python 3",
   "language": "python",
   "name": "python3"
  },
  "language_info": {
   "name": "python",
   "version": "3.9.16"
  },
  "orig_nbformat": 4
 },
 "nbformat": 4,
 "nbformat_minor": 2
}
