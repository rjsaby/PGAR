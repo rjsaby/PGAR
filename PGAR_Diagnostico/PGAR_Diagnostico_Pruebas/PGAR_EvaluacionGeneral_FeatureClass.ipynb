{
 "cells": [
  {
   "cell_type": "code",
   "execution_count": null,
   "metadata": {},
   "outputs": [],
   "source": [
    "\n",
    "# ? Se importan las librerías\n",
    "import arcpy\n",
    "import os\n",
    "import pandas as pd\n",
    "#? Geoaccesor para trabajar SEDF\n",
    "from arcgis import GeoAccessor, GeoSeriesAccessor\n",
    "\n",
    "# ? Pametrización de las rutas de salida, esto cambiará cuando se cree la clase\n",
    "ruta_featureclass = r\"D:\\PUBLIC\\PGAR\\Resultados\\4.PRO\\PGAR\\_12_Producto_Cartografico\\Producto_Cartografico\\Producto_Cartografico.gdb\\_1_Recurso_Hidrico\\Demanda_Hidrica_Cuenca\"\n",
    "# ? Esta variable debe ser también parametrizada como parámetro de la clase\n",
    "ruta_archivos_salida = r\"D:\\PUBLIC\\PGAR\\Resultados\\4.PRO\\PGAR\\_13_Calidad\"\n",
    "# ? Parámetros que se usarán a la hora de generar .xlsx resultante\n",
    "nombre_archivo_xlsx = os.path.basename(ruta_featureclass)\n",
    "salida_archivo_calidad = str(os.path.join(ruta_archivos_salida,nombre_archivo_xlsx)) + '.xlsx'\n",
    "\n",
    "# ? Creación de SEDF\n",
    "df_feature = pd.DataFrame.spatial.from_featureclass(location = ruta_featureclass)\n",
    "\n",
    "# ? El atriubuto .shape genera una tupla con la información asociada a las dimensiones del SEDF\n",
    "lista_estadisticos_generales = [[df_feature.shape[0], df_feature.shape[1]]]\n",
    "\n",
    "# ? Se crea dataframe donde se almacenarán las dimensiones del SEDF\n",
    "df_estadisticos_generales = pd.DataFrame(lista_estadisticos_generales, columns = ['numero_registros','numero_columnas'])\n",
    "\n",
    "# ? Se almacena en una lista los nombres de las columnasy total de nulos.\n",
    "# ? Para ello se recorre el SEDF por medio de la función .items()\n",
    "# ! Existen otras formas que valdría la pena investigar\n",
    "nombre_columna = [column_name for column_name, column_data in df_feature.items()]\n",
    "total_nulos = [df_feature[column_name].isna().sum() for column_name, column_data in df_feature.items()]\n",
    "\n",
    "# ? Como se está trabajando sobre un SEDF, al buscar blancos y analizar la columna geográfica, nos mostraba un error de GeoArray.\n",
    "# ! Se debe investigar el tema de los GeoArray como objetos manipulables desde Python\n",
    "# ? Para filtrar la columna se uso .loc, de la forma que se presenta a continuación y se almacena los resultados en nuevo dataframe\n",
    "df_feature_sin_shape = df_feature.loc[:, df_feature.columns != 'SHAPE']\n",
    "# ? Se almacenan los resultados en una lista\n",
    "total_vacios = [((df_feature_sin_shape[column_name]=='').sum()) for column_name, column_data in df_feature_sin_shape.items()] \n",
    "\n",
    "# ? Se genera lista unificada con zip, para cada uno de los valores resultantes por columna\n",
    "lista_resultados = list(zip(nombre_columna,total_nulos,total_vacios))\n",
    "# ? Almaceno los resultados de la unificación de listas en un dataframe, el cual se expotará posteriormente como hoja a archivo excel\n",
    "df_estadisticos_detallados = pd.DataFrame(lista_resultados, columns = ['nombre_columna','total_nulos','total_vacios'])\n",
    "\n",
    "with pd.ExcelWriter(salida_archivo_calidad, engine='xlsxwriter') as writer:\n",
    "    # ? Se utiliza el método to_excel para guardar cada DataFrame en una hoja separada.\n",
    "    # ? Se puede especificar el nombre de la hoja con el argumento 'sheet_name'.\n",
    "    df_estadisticos_generales.to_excel(writer, sheet_name='Est_Generales', index=False)\n",
    "    df_estadisticos_detallados.to_excel(writer, sheet_name='Est_Detallados', index=False)  "
   ]
  }
 ],
 "metadata": {
  "kernelspec": {
   "display_name": "Python 3",
   "language": "python",
   "name": "python3"
  },
  "language_info": {
   "codemirror_mode": {
    "name": "ipython",
    "version": 3
   },
   "file_extension": ".py",
   "mimetype": "text/x-python",
   "name": "python",
   "nbconvert_exporter": "python",
   "pygments_lexer": "ipython3",
   "version": "3.9.16"
  },
  "orig_nbformat": 4
 },
 "nbformat": 4,
 "nbformat_minor": 2
}
