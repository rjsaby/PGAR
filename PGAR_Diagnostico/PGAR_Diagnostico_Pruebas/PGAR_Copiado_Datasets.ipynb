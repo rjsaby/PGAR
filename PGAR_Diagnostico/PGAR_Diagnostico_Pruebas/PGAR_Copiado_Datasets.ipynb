{
 "cells": [
  {
   "cell_type": "code",
   "execution_count": null,
   "metadata": {},
   "outputs": [],
   "source": [
    "import arcpy\n",
    "import os\n",
    "\n",
    "ruta_dataset_inicio = r\"D:\\PUBLIC\\PGAR\\Resultados\\4.PRO\\PGAR\\_7_GDBs\\PGAR_2023_2025.gdb\\_0_Insumos_Cartograficos\"\n",
    "ruta_dataset_final = r\"D:\\PUBLIC\\PGAR\\Resultados\\4.PRO\\Salidas_Graficas\\Productos_Cartograficos\\PRO\\Producto_Cartografico\\Producto_Cartografico.gdb\\_0_Insumos_Cartograficos\"\n",
    "\n",
    "descripcion_dataset_inicial = arcpy.Describe(ruta_dataset_inicio)\n",
    "descripcion_dataset_final = arcpy.Describe(ruta_dataset_final)\n",
    "\n",
    "lista_feature_inicio = []\n",
    "lista_feature_final = []\n",
    "\n",
    "if descripcion_dataset_inicial.spatialReference.name == descripcion_dataset_final.spatialReference.name:\n",
    "    # ? Se recorre el dataset inicio\n",
    "    arcpy.env.workspace = ruta_dataset_inicio\n",
    "    try:\n",
    "        for feature in arcpy.ListFeatureClasses():\n",
    "            # ? Para usar la función copy almaneno las rutas de inicio y fin de cada una de las capas que se quieren copiar\n",
    "            inicio = os.path.join(arcpy.env.workspace,feature)\n",
    "            lista_feature_inicio.append(inicio)\n",
    "            fin = os.path.join(ruta_dataset_final,feature)\n",
    "            lista_feature_final.append(fin)\n",
    "    except Exception as e:\n",
    "        print(f\"Se presenta la Excepción: {e}\")        \n",
    "else:\n",
    "    print(\"Los dataset no tienen el mismo SRC, por ende, no se pueden copiar\")\n",
    "    \n",
    "print(\"*** Finaliza Enlace de Rutas ***\")\n",
    "\n",
    "# ? Se unifican las listas de rutas de inicio y fin \n",
    "lista_unificada = list(zip(lista_feature_inicio, lista_feature_final))\n",
    "# ? Se recorre la lista con un bucle\n",
    "try:\n",
    "    for indice, i in enumerate(lista_unificada, start=1):\n",
    "        if arcpy.Exists(i[1]):\n",
    "            print(f\"{indice}/{len(lista_unificada)} Capa {os.path.basename(i[0])} existe en el dataset\")\n",
    "        else:\n",
    "            arcpy.Copy_management(in_data=i[0], out_data=i[1])\n",
    "            print(f\"{indice}/{len(lista_unificada)} Capa {os.path.basename(i[0])} copiada\")\n",
    "except Exception as e:\n",
    "    print(f\"Se presenta la Excepción: {e}\")\n",
    "    \n",
    "print(\"*** Finaliza el copiado de dataset de Rutas ***\")"
   ]
  }
 ],
 "metadata": {
  "kernelspec": {
   "display_name": "Python 3",
   "language": "python",
   "name": "python3"
  },
  "language_info": {
   "codemirror_mode": {
    "name": "ipython",
    "version": 3
   },
   "file_extension": ".py",
   "mimetype": "text/x-python",
   "name": "python",
   "nbconvert_exporter": "python",
   "pygments_lexer": "ipython3",
   "version": "3.9.16"
  },
  "orig_nbformat": 4
 },
 "nbformat": 4,
 "nbformat_minor": 2
}
