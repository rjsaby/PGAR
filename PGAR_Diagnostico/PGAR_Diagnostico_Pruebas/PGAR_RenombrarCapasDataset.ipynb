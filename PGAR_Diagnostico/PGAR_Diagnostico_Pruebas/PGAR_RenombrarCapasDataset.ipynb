{
 "cells": [
  {
   "cell_type": "code",
   "execution_count": null,
   "metadata": {},
   "outputs": [],
   "source": [
    "import arcpy\n",
    "import os\n",
    "import pandas as pd\n",
    "\n",
    "arcpy.env.overwriteOutput = True"
   ]
  },
  {
   "cell_type": "code",
   "execution_count": null,
   "metadata": {},
   "outputs": [],
   "source": [
    "diccionario_asociacion_insumos = {\n",
    "    1: ['COBERT_2005','_2_1_Cobertura_Tierra_2005'],\n",
    "    2: ['COBERTURAS_DE_LA_TIERRA_2016','_2_2_Cobertura_Tierra_2016'],\n",
    "    3: ['IndiceFragmentacion','_2_3_Indice_Fragmentacion'],\n",
    "    4: ['Bosque_No_Bosque_2012','_2_4_Bosque_No_Bosque_2012'],\n",
    "    5: ['Bosque_No_Bosque_2016','_2_5_Bosque_No_Bosque_2016'],\n",
    "    6: ['Areas_protegidas_declaradas_CAR','_2_6_Areas_Protegidas_Declaradas_CAR'],\n",
    "    7: ['Zonas_A_Restaurar_en_la_Cuenca_del_Rio_Bogota','_2_7_Zonas_A_Restaurar_en_la_Cuenca_del_Rio_Bogota'],\n",
    "    8: ['Zonas_Identificadas_Inventariadas_Restaurar_Cuenca_del_Rio_Bogota','_2_8_Zonas_Identificadas_Inventariadas_Restaurar_Cuenca_Rio_Bogota'],\n",
    "    9: ['T0185973_230224095556074','_2_9_Presencia_Ausencia_Especies_Invasoras_1'],\n",
    "    10: ['T0185975_230224095556074','_2_10_Presencia_Ausencia_Especies_Invasoras_2'],\n",
    "    11: ['T0185978_230224095556074','_2_11_Presencia_Ausencia_Especies_Invasoras_3'],\n",
    "    12: ['Humedal','_2_12_Humedal'],\n",
    "    13: ['Humedal_Ramsar','_2_13_Humedal_Ramsar'],\n",
    "    14: ['Paramos','_2_14_Paramos'],\n",
    "    15: ['Zonificacion_de_Degradacion_de_Suelos_por_Erosion','_4_1_Zonificacion_Degradacion_Suelos_Erosion'],\n",
    "    16: ['Zonificacion_de_Degradacion_de_Suelos_por_Salinizacion_en_la_Jurisdiccion_CAR','_4_2_Zonificacion_Degradacion_Suelos_Salinizacion_Jurisdiccion_CAR'],\n",
    "    17: ['CapacidadUsoSuelo','_4_3_Capacidad_Uso_Suelo'],\n",
    "    18: ['Zonificacion_Ambiental','_4_4_Zonificacion_Ambiental'],\n",
    "    19: ['municipio','_Municipio_'],\n",
    "    20: ['ZonasRecarga','_1_1_Zona_Recarga'],\n",
    "    21: ['MicroCuencasAbastecedoras','_1_2_Microcuenca_Abastecedora'],\n",
    "    22: ['RedMonitoreoCalidadHidrica','_1_3_Red_Monitoreo_Calidad_Hidrica'],\n",
    "    23: ['demanda_hidrica_total','_1_4_Demanda_Hidrica_Total'],\n",
    "    24: ['rendimiento_hidrico','_1_5_Rendimiento_Hidrico'],\n",
    "    25: ['ptar_cofinanciada_geo','_1_6_PTAR_Cofinanciada'],\n",
    "    26: ['vertimientos_clip','_1_7_Vertimiento'],\n",
    "    27: ['escenario_riesgo_avenida_torrencial_general','_3_1_Escenario_Riesgo_Avenida_Torrencial'],\n",
    "    28: ['escenario_riesgo_incendio_general','_3_2_Escenario_Riesgo_Incendio'],\n",
    "    29: ['escenario_riesgo_inundacion_general','_3_3_Escenario_Riesgo_Inundacion'],\n",
    "    30: ['escenario_riesgo_movimiento_masa_general','_3_4_Escenario_Riesgo_Movimiento_Masa'],\n",
    "    31: ['escenario_amenaza_inundacion_general','_3_5_Escenario_Amenaza_Inundacion']     \n",
    "}"
   ]
  },
  {
   "cell_type": "code",
   "execution_count": null,
   "metadata": {},
   "outputs": [],
   "source": [
    "arcpy.env.workspace = r\"D:\\PUBLIC\\PGAR\\Resultados\\4.PRO\\PGAR\\_7_GDBs\\Producto_Cartografico.gdb\"\n",
    "listado_dataset = []\n",
    "listado_capas = []\n",
    "nombre_dataset = 'Insumos_Diagnostico'\n",
    "\n",
    "try:    \n",
    "    \n",
    "    for dataset in arcpy.ListDatasets():\n",
    "        listado_dataset.append(dataset)\n",
    "        print(f\"Se almacena el dataset {dataset}\")\n",
    "        \n",
    "    for dataset in listado_dataset:\n",
    "        if dataset == nombre_dataset:\n",
    "            for capa in arcpy.ListFeatureClasses(feature_dataset=dataset):\n",
    "                listado_capas.append(capa)\n",
    "                print(f\"Se almacena la capa {capa}\")\n",
    "                \n",
    "    for capa in listado_capas:\n",
    "        if capa[:21] == 'capas_pomca_analisis_':\n",
    "            arcpy.management.Rename(capa, capa[21:])\n",
    "            print(f\"Se renombra {capa[21:]}\")\n",
    "        else:\n",
    "            print(f\"No hay capas que renombrar\")\n",
    "        \n",
    "except Exception as e:\n",
    "    print(e)"
   ]
  },
  {
   "cell_type": "code",
   "execution_count": null,
   "metadata": {},
   "outputs": [],
   "source": [
    "for dataset in arcpy.ListDatasets():\n",
    "    if dataset == nombre_dataset:\n",
    "       lista_campos = [capa for capa in arcpy.ListFeatureClasses(feature_dataset=dataset)]\n",
    "        \n",
    "for llave, valor in diccionario_asociacion_insumos.items():\n",
    "    for capa in lista_campos:\n",
    "        if capa == valor[0]:\n",
    "            arcpy.management.Rename(capa, valor[1])\n",
    "            print(f\"Se actualiza la capa {capa} por {valor[1]}\")\n",
    "        else:\n",
    "            pass"
   ]
  }
 ],
 "metadata": {
  "kernelspec": {
   "display_name": "Python 3",
   "language": "python",
   "name": "python3"
  },
  "language_info": {
   "codemirror_mode": {
    "name": "ipython",
    "version": 3
   },
   "file_extension": ".py",
   "mimetype": "text/x-python",
   "name": "python",
   "nbconvert_exporter": "python",
   "pygments_lexer": "ipython3",
   "version": "3.9.16"
  },
  "orig_nbformat": 4
 },
 "nbformat": 4,
 "nbformat_minor": 2
}
