{
 "cells": [
  {
   "cell_type": "code",
   "execution_count": null,
   "metadata": {},
   "outputs": [],
   "source": [
    "import arcpy\n",
    "# ? Librería encargada de realizar la limpieza de registros con tildes\n",
    "from unidecode import unidecode\n",
    "class estandarizacion_campos:\n",
    "    def __init__(self, nombreCapa):\n",
    "        self.nombreCapa = nombreCapa\n",
    "    \n",
    "    def normalizacionCampos(self):\n",
    "        # ? Se definie, con la capa ingresada como variable, un listado con sus campos\n",
    "        lista_campos = arcpy.ListFields(dataset=self.nombreCapa)\n",
    "        \n",
    "        # ? Se crea buble para recorrer los campos de la capa:\n",
    "        for campo in lista_campos:\n",
    "            # ? Se restringe el análisis para los campos de tipo texto o cadena de caracteres\n",
    "            if campo.type == 'String':\n",
    "                # ? Se Crea una consulta de actualización para cambiar a minúsculas todos los valores del campo actual.\n",
    "                # ? Ademas, se aprovecha este proceso para dejar todos los registros en minúsculas.\n",
    "                with arcpy.da.UpdateCursor(self.name, [campo.name]) as cursor:\n",
    "                    for fila in cursor:\n",
    "                        # ? Se Cambia el valor del campo a minúsculas y quita tildes\n",
    "                        fila[0] = unidecode(fila[0].lower()) if fila[0] else None\n",
    "                        # ? Se actualizan los registros\n",
    "                        cursor.updateRow(fila)        "
   ]
  }
 ],
 "metadata": {
  "kernelspec": {
   "display_name": "Python 3",
   "language": "python",
   "name": "python3"
  },
  "language_info": {
   "name": "python",
   "version": "3.9.16"
  },
  "orig_nbformat": 4
 },
 "nbformat": 4,
 "nbformat_minor": 2
}
