{
 "cells": [
  {
   "cell_type": "code",
   "execution_count": null,
   "metadata": {},
   "outputs": [],
   "source": [
    "from PGAR_Diagnostico import PGAR_Copiado_Datasets\n",
    "\n",
    "datset_inicio = r\"D:\\PUBLIC\\PGAR\\Resultados\\4.PRO\\PGAR\\_7_GDBs\\PGAR_2023_2025.gdb\\_8_Autoridad_Ambiental\"\n",
    "dataset_final = r\"D:\\PUBLIC\\PGAR\\Resultados\\4.PRO\\PGAR\\_12_Producto_Cartografico\\Producto_Cartografico\\Producto_Cartografico.gdb\\_8_Autoridad_Ambiental\"\n",
    "\n",
    "ejecucion = PGAR_Copiado_Datasets.copiado_dataset(datset_inicio, dataset_final)\n",
    "ejecucion.proceso_copiado_dataset()\n",
    "\n",
    "print(\" *** Finalización Proceso *** \")"
   ]
  }
 ],
 "metadata": {
  "kernelspec": {
   "display_name": "Python 3",
   "language": "python",
   "name": "python3"
  },
  "language_info": {
   "codemirror_mode": {
    "name": "ipython",
    "version": 3
   },
   "file_extension": ".py",
   "mimetype": "text/x-python",
   "name": "python",
   "nbconvert_exporter": "python",
   "pygments_lexer": "ipython3",
   "version": "3.9.16"
  },
  "orig_nbformat": 4
 },
 "nbformat": 4,
 "nbformat_minor": 2
}
