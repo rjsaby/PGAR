{
 "cells": [
  {
   "cell_type": "code",
   "execution_count": null,
   "metadata": {},
   "outputs": [],
   "source": [
    "import os\n",
    "import arcpy\n",
    "import pandas as pd\n",
    "import numpy as np\n",
    "import csv\n",
    "from arcgis.features import GeoAccessor, GeoSeriesAccessor\n",
    "\n",
    "arcpy.env.overwriteOutput = True"
   ]
  },
  {
   "attachments": {},
   "cell_type": "markdown",
   "metadata": {},
   "source": [
    "<h4>Modificación de la capa -Jurisdicción- a Municipio</h4>"
   ]
  },
  {
   "cell_type": "code",
   "execution_count": null,
   "metadata": {},
   "outputs": [],
   "source": [
    "ruta_capa_jurisdiccion = r\"D:\\PUBLIC\\PGAR\\Resultados\\4.PRO\\PGAR\\Local_BD_PGAR.gdb\\_6_1_Jurisdiccion_CAR\"\n",
    "ruta_capa_geocodificacion = r\"D:\\PUBLIC\\PGAR\\Resultados\\4.PRO\\PGAR\\Local_BD_PGAR.gdb\\_6_2_Geocodificacion_Regionales\"\n",
    "\n",
    "# ? --- PREPARACIÓN DIRECCIÓN ---\n",
    "df_direccion = pd.DataFrame.spatial.from_featureclass(ruta_capa_jurisdiccion)\n",
    "# Se implementa .loc para evitar alertas en la modificación del dataframe\n",
    "df_direccion_columnas_estandarizadas = df_direccion.loc[:,['Direccion']]\n",
    "df_direccion_columnas_estandarizadas.rename({'Direccion':'nombre_direccion'}, axis = 1, inplace = True)\n",
    "# Transformación de registros de mayúsculas a letra capital, esto por medio de la función capitalize del método str.\n",
    "df_direccion_columnas_estandarizadas['nombre_direccion'] = df_direccion_columnas_estandarizadas['nombre_direccion'].str.capitalize()\n",
    "\n",
    "# ** Generacion de DF, geocodificacion de regionales\n",
    "df_geocodificacion = pd.DataFrame.spatial.from_featureclass(ruta_capa_geocodificacion)\n",
    "\n",
    "# ? --- PREPARACIÓN MUNICIPIO ---\n",
    "df_jurisdiccion = pd.DataFrame.spatial.from_featureclass(ruta_capa_jurisdiccion)\n",
    "# Se implementa .loc para evitar alertas en la modificación del dataframe\n",
    "df_jurisdiccion_columnas_estandarizadas = df_jurisdiccion.loc[:,['OBJECTID','Municipio','CODDANE','Departamen','Direccion','SHAPE']]\n",
    "df_jurisdiccion_columnas_estandarizadas.rename({'OBJECTID':'codigo_municipio', 'Municipio':'nombre_municipio','CODDANE':'codigo_municipio_dane','Departamen':'nombre_departamento'}, axis = 1, inplace = True)\n",
    "# Transformación de registros de mayúsculas a letra capital, esto por medio de la función capitalize del método str.\n",
    "df_jurisdiccion_columnas_estandarizadas['nombre_municipio'] = df_jurisdiccion_columnas_estandarizadas['nombre_municipio'].str.capitalize()\n",
    "df_jurisdiccion_columnas_estandarizadas['nombre_departamento'] = df_jurisdiccion_columnas_estandarizadas['nombre_departamento'].str.capitalize()\n",
    "df_jurisdiccion_columnas_estandarizadas['Direccion'] = df_jurisdiccion_columnas_estandarizadas['Direccion'].str.capitalize()"
   ]
  },
  {
   "attachments": {},
   "cell_type": "markdown",
   "metadata": {},
   "source": [
    "<h4>Preparación tabla -Direccion-</h4>"
   ]
  },
  {
   "cell_type": "code",
   "execution_count": null,
   "metadata": {},
   "outputs": [],
   "source": [
    "df_direccion_columnas_agrupadas = df_direccion_columnas_estandarizadas.groupby(['nombre_direccion']).agg({'nombre_direccion':'count'})\n",
    "\n",
    "# Generación del campo incremental de acuerdo al número de capas\n",
    "codigo_direccion = []\n",
    "\n",
    "# Se suma uno por el header dentro del data frame\n",
    "for numero_direcciones in range(1, df_direccion_columnas_agrupadas.shape[0]+1):\n",
    "    codigo_direccion.append(numero_direcciones)\n",
    " \n",
    "# Se utiliza el método .loc para incorporar la columna, que en este caso fue la lista que se creo previamente   \n",
    "df_direccion_columnas_agrupadas.loc[:,'codigo_direccion'] = codigo_direccion\n",
    "\n",
    "# Se cambia el nombre de las columnas asociadas a los conteos (funcion -rename-)\n",
    "df_direccion_columnas_agrupadas.rename({'nombre_direccion':'conteo_nombres_direcciones'}, axis = 1, inplace = True)\n",
    "\n",
    "# Se resetan los índices\n",
    "df_tabla_direccion_completa = df_direccion_columnas_agrupadas.reset_index()\n",
    "\n",
    "# Se estandariza la tabla final\n",
    "df_direccion = df_tabla_direccion_completa[['codigo_direccion','nombre_direccion']]\n",
    "\n",
    "# Merge de tabla dirección alfanumérica con su respectiva coordenada\n",
    "df_unificado_geo = pd.merge(df_geocodificacion, df_direccion, how='inner',left_on='nombre_direccion', right_on='nombre_direccion')\n",
    "\n",
    "# ** Preparación para salida final\n",
    "df_direccion_final = df_unificado_geo.loc[:,['codigo_direccion','nombre_direccion','direccion','latlong','SHAPE']]"
   ]
  },
  {
   "attachments": {},
   "cell_type": "markdown",
   "metadata": {},
   "source": [
    "<h4>Creación y registro del campo -codigo_departamento-</h4>"
   ]
  },
  {
   "cell_type": "code",
   "execution_count": null,
   "metadata": {},
   "outputs": [],
   "source": [
    "# Se utiliza el método .loc para incorporar la columna, que en este caso fue la lista que se creo previamente\n",
    "# La columna creada se le registran los datos haciendo un substring a la columna -codigo_municipio-  \n",
    "df_jurisdiccion_columnas_estandarizadas.loc[:,'codigo_departamento'] = df_jurisdiccion_columnas_estandarizadas['codigo_municipio_dane'].str.slice(0, 2)"
   ]
  },
  {
   "attachments": {},
   "cell_type": "markdown",
   "metadata": {},
   "source": [
    "<h4>Incorporación del campo -codigo_direccion- en la capa -Municipio-</h4>"
   ]
  },
  {
   "cell_type": "code",
   "execution_count": null,
   "metadata": {},
   "outputs": [],
   "source": [
    "# Ejecución de un inner join sin where en ningún campo\n",
    "df_tabla_municipio = pd.merge(df_jurisdiccion_columnas_estandarizadas, df_direccion, how='inner',left_on='Direccion', right_on='nombre_direccion')\n",
    "df_tabla_municipio_estandarizado = df_tabla_municipio.loc[:,['codigo_municipio','codigo_municipio_dane','nombre_municipio','codigo_departamento', 'codigo_direccion','SHAPE']]"
   ]
  },
  {
   "attachments": {},
   "cell_type": "markdown",
   "metadata": {},
   "source": [
    "<h4>Exportar DF a Feature Class</h4>"
   ]
  },
  {
   "cell_type": "code",
   "execution_count": null,
   "metadata": {},
   "outputs": [],
   "source": [
    "ruta_bd = r\"D:\\PUBLIC\\PGAR\\Resultados\\4.PRO\\PGAR\\Local_BD_PGAR.gdb\"\n",
    "\n",
    "# --- PREPARACIÓN DIRECCION ---\n",
    "nombre_tabla_direccion = 'direccion'\n",
    "ruta_capa_direccion = os.path.join(ruta_bd, nombre_tabla_direccion)\n",
    "df_direccion_final.spatial.to_featureclass(location=ruta_capa_direccion)\n",
    "print(\"------------------------------ Se crea la capa -direccion- ------------------------------\")\n",
    "\n",
    "# --- PREPARACIÓN MUNICIPIO ---\n",
    "nombre_capa_municipio = 'municipio_dissolve'\n",
    "ruta_capa_municipio = os.path.join(ruta_bd, nombre_capa_municipio)\n",
    "df_tabla_municipio_estandarizado.spatial.to_featureclass(location=ruta_capa_municipio)\n",
    "print(\"------------------------------ Se crea la capa -municipio dissolve- ------------------------------\")"
   ]
  },
  {
   "attachments": {},
   "cell_type": "markdown",
   "metadata": {},
   "source": [
    "<h4>Dissolve Municipio</h4>"
   ]
  },
  {
   "cell_type": "code",
   "execution_count": null,
   "metadata": {},
   "outputs": [],
   "source": [
    "capa_municipio_dissolve = r\"D:\\PUBLIC\\PGAR\\Resultados\\4.PRO\\PGAR\\Local_BD_PGAR.gdb\\municipio_dissolve\"\n",
    "nombre_capa_salida_municipio = 'municipio'\n",
    "ruta_capa_salida = os.path.join(ruta_bd,nombre_capa_salida_municipio)\n",
    "\n",
    "arcpy.management.Dissolve(capa_municipio_dissolve, ruta_capa_salida, ['codigo_municipio', 'codigo_municipio_dane', 'nombre_municipio', 'codigo_departamento','codigo_direccion'], multi_part = 'MULTI_PART')\n",
    "print(\"--------------- Capa Municipio Disuelta ----------------\")"
   ]
  }
 ],
 "metadata": {
  "kernelspec": {
   "display_name": "Python 3",
   "language": "python",
   "name": "python3"
  },
  "language_info": {
   "codemirror_mode": {
    "name": "ipython",
    "version": 3
   },
   "file_extension": ".py",
   "mimetype": "text/x-python",
   "name": "python",
   "nbconvert_exporter": "python",
   "pygments_lexer": "ipython3",
   "version": "3.9.12 (main, Apr  4 2022, 05:22:27) [MSC v.1916 64 bit (AMD64)]"
  },
  "orig_nbformat": 4,
  "vscode": {
   "interpreter": {
    "hash": "15d62e72c5d14bd073ab7bc0854742052db6830de21542cb2a2e1b067e39f5e5"
   }
  }
 },
 "nbformat": 4,
 "nbformat_minor": 2
}
