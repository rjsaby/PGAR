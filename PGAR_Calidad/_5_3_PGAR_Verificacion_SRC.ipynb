{
 "cells": [
  {
   "cell_type": "code",
   "execution_count": 17,
   "metadata": {},
   "outputs": [],
   "source": [
    "import os\n",
    "import arcpy\n",
    "import pandas as pd\n",
    "\n",
    "arcpy.env.overwriteOutput = True\n",
    "\n",
    "lista_bd_fuente_insumo = [ # ** BD Originales POMCAS\n",
    "                    r'D:\\PUBLIC\\PGAR\\Resultados\\4.PRO\\PGAR\\gdb_pomcas\\POMCA_Rio_Alto_Suarez.gdb',\n",
    "                    r'D:\\PUBLIC\\PGAR\\Resultados\\4.PRO\\PGAR\\gdb_pomcas\\POMCA_Rio_Bogota.gdb',\n",
    "                    r'D:\\PUBLIC\\PGAR\\Resultados\\4.PRO\\PGAR\\gdb_pomcas\\POMCA_Rio_Carare_Minero.gdb',\n",
    "                    r'D:\\PUBLIC\\PGAR\\Resultados\\4.PRO\\PGAR\\gdb_pomcas\\POMCA_Rio_Garagoa.gdb',\n",
    "                    r'D:\\PUBLIC\\PGAR\\Resultados\\4.PRO\\PGAR\\gdb_pomcas\\POMCA_Rio_Guavio.gdb',\n",
    "                    r'D:\\PUBLIC\\PGAR\\Resultados\\4.PRO\\PGAR\\gdb_pomcas\\POMCA_Rio_Guayuriba.gdb',\n",
    "                    r'D:\\PUBLIC\\PGAR\\Resultados\\4.PRO\\PGAR\\gdb_pomcas\\POMCA_Rio_Medio_Bajo_Suarez.gdb',\n",
    "                    r'D:\\PUBLIC\\PGAR\\Resultados\\4.PRO\\PGAR\\gdb_pomcas\\POMCA_Rio_Negro.gdb',\n",
    "                    r'D:\\PUBLIC\\PGAR\\Resultados\\4.PRO\\PGAR\\gdb_pomcas\\POMCA_Rio_Seco.gdb',\n",
    "                    r'D:\\PUBLIC\\PGAR\\Resultados\\4.PRO\\PGAR\\gdb_pomcas\\POMCA_Rio_Sumapaz.gdb',\n",
    "                     # ** BD POMCA Unificado\n",
    "                    # r'D:\\PUBLIC\\PGAR\\Resultados\\4.PRO\\PGAR\\gdb_pomcas\\POMCA_Unificada.gdb',\n",
    "                     # ** Inventario Fuentes Secundarias\n",
    "                     # r'D:\\PUBLIC\\PGAR\\Resultados\\4.PRO\\PGAR\\BackUP_PGAR_Inventario\\PGAR_Inventario.gdb',\n",
    "                     # ** Inventario Shape Originales\n",
    "                     r'D:\\PUBLIC\\PGAR\\Resultados\\4.PRO\\PGAR\\_7_GDBs\\capas_shp_car.gdb',\n",
    "                     # ** Inventario Shape Modelo Lógico\n",
    "                     # r'D:\\PUBLIC\\PGAR\\Resultados\\4.PRO\\PGAR\\_7_GDBs\\capas_pomca_analisis.gdb',\n",
    "                     # 15:r'C:\\PUBLIC\\PGAR\\Resultados\\4.PRO\\PGAR\\[sa] - BD_Indicadores.sde'\n",
    "                    ]\n",
    "\n",
    "base_datos = []\n",
    "dataset = []\n",
    "capa = []\n",
    "src = []\n",
    "\n",
    "sin_dataset = 'Sin Dataset'"
   ]
  },
  {
   "cell_type": "code",
   "execution_count": 18,
   "metadata": {},
   "outputs": [],
   "source": [
    "for ruta in lista_bd_fuente_insumo:\n",
    "    arcpy.env.workspace = ruta\n",
    "    nombre_bd = os.path.basename(arcpy.env.workspace)\n",
    "    for n_dataset in arcpy.ListDatasets():\n",
    "        for n_capa in arcpy.ListFeatureClasses(feature_dataset=n_dataset):\n",
    "            descripcion = arcpy.Describe(n_capa)\n",
    "            src_capa = descripcion.spatialReference\n",
    "            base_datos.append(nombre_bd)\n",
    "            dataset.append(n_dataset)\n",
    "            capa.append(n_capa)\n",
    "            src.append(src_capa.name)\n",
    "            \n",
    "lista_with_dataframes = list(zip(base_datos, dataset, capa, src))\n",
    "dataframe_diccionario_w_dataset = pd.DataFrame(lista_with_dataframes, columns=['base_datos','dataset','capa','src'])\n",
    "\n",
    "for ruta in lista_bd_fuente_insumo:\n",
    "    arcpy.env.workspace = ruta\n",
    "    nombre_bd = os.path.basename(arcpy.env.workspace)\n",
    "    for n_capa in arcpy.ListFeatureClasses():\n",
    "            descripcion = arcpy.Describe(n_capa)\n",
    "            src_capa = descripcion.spatialReference\n",
    "            base_datos.append(nombre_bd)\n",
    "            dataset.append(sin_dataset)\n",
    "            capa.append(n_capa)\n",
    "            src.append(src_capa.name)\n",
    "            \n",
    "lista_without_dataframes = list(zip(base_datos, dataset, capa, src))\n",
    "dataframe_diccionario_wout_dataset = pd.DataFrame(lista_without_dataframes, columns=['base_datos','dataset','capa','src'])"
   ]
  },
  {
   "cell_type": "code",
   "execution_count": 19,
   "metadata": {},
   "outputs": [],
   "source": [
    "df_definitivo = pd.concat([dataframe_diccionario_w_dataset, dataframe_diccionario_wout_dataset])\n",
    "df_definitivo.head(50)\n",
    "# ? Exportado a Excel:\n",
    "df_definitivo.to_excel('src_datos_pgar.xlsx')"
   ]
  }
 ],
 "metadata": {
  "kernelspec": {
   "display_name": "Python 3",
   "language": "python",
   "name": "python3"
  },
  "language_info": {
   "codemirror_mode": {
    "name": "ipython",
    "version": 3
   },
   "file_extension": ".py",
   "mimetype": "text/x-python",
   "name": "python",
   "nbconvert_exporter": "python",
   "pygments_lexer": "ipython3",
   "version": "3.9.16"
  },
  "orig_nbformat": 4
 },
 "nbformat": 4,
 "nbformat_minor": 2
}
