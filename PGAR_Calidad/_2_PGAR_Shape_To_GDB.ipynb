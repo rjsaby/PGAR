{
 "cells": [
  {
   "cell_type": "code",
   "execution_count": null,
   "metadata": {},
   "outputs": [],
   "source": [
    "import os\n",
    "import arcpy\n",
    "import glob\n",
    "import pathlib\n",
    "\n",
    "ruta_shapes = r\"D:\\PUBLIC\\PGAR\\Insumos\\Informacion_NO_Estructurada\"\n",
    "ruta_destino = r\"D:\\PUBLIC\\PGAR\\Resultados\\4.PRO\\PGAR\\_7_GDBs\\capas_shp_car.gdb\""
   ]
  },
  {
   "cell_type": "code",
   "execution_count": null,
   "metadata": {},
   "outputs": [],
   "source": [
    "# !TODO: Asignación Espacio de Trabajo DB POMCA\n",
    "# ** Borrado de capas\n",
    "arcpy.env.workspace = ruta_destino\n",
    "\n",
    "print(\"Borrado Capas\")\n",
    "lista_capa_dataset = []\n",
    "for feature in arcpy.ListFeatureClasses():\n",
    "    lista_capa_dataset.append(feature)\n",
    "    if len(lista_capa_dataset) == 0:\n",
    "        print(\"Vacio\")\n",
    "    else:\n",
    "        arcpy.Delete_management(feature)\n",
    "        print(f\" - Se borra capa {feature}\")"
   ]
  },
  {
   "cell_type": "code",
   "execution_count": null,
   "metadata": {},
   "outputs": [],
   "source": [
    "rutas_origen_shp = []\n",
    "for rutas, directorios, archivos in os.walk(ruta_shapes):\n",
    "    for directorio in directorios:\n",
    "        if os.path.isdir(os.path.join(rutas, directorio)):\n",
    "            rutas_origen_shp.append(os.path.join(rutas, directorio))\n",
    "\n",
    "shapes_origen = []\n",
    "for ruta in rutas_origen_shp:    \n",
    "    patron = ruta  + '/*.' + 'shp'\n",
    "    # ! Leer más sobre la función glob\n",
    "    rutas_arhivos_origen = glob.glob(patron)\n",
    "    shapes_origen.extend(rutas_arhivos_origen)\n",
    "\n",
    "print(\"Migración de Shapes\")\n",
    "for root in shapes_origen:\n",
    "    nombre_shape = os.path.basename(root)\n",
    "    nombre_shape = os.path.basename(root).split(\".\")[0]\n",
    "    nombre_shape_sin_puntos = nombre_shape.replace(\".\",\"_\")\n",
    "    arcpy.conversion.FeatureClassToFeatureClass(root, ruta_destino, nombre_shape_sin_puntos)\n",
    "    print(f\" - Se migra el shp {nombre_shape_sin_puntos}\")"
   ]
  }
 ],
 "metadata": {
  "kernelspec": {
   "display_name": "Python 3",
   "language": "python",
   "name": "python3"
  },
  "language_info": {
   "codemirror_mode": {
    "name": "ipython",
    "version": 3
   },
   "file_extension": ".py",
   "mimetype": "text/x-python",
   "name": "python",
   "nbconvert_exporter": "python",
   "pygments_lexer": "ipython3",
   "version": "3.9.16"
  },
  "orig_nbformat": 4
 },
 "nbformat": 4,
 "nbformat_minor": 2
}
