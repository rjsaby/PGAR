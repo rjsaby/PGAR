{
 "cells": [
  {
   "cell_type": "code",
   "execution_count": null,
   "metadata": {},
   "outputs": [],
   "source": [
    "import os\n",
    "import arcpy\n",
    "\n",
    "arcpy.env.overwriteOutput = True\n",
    "sistema_ctm12 = r\"C:\\PUBLIC\\SERESCO\\Resultados\\_8_Py\\ctm12.prj\"\n",
    "\n",
    "ruta_bd_modelo_fisico = r\"D:\\PUBLIC\\PGAR\\Resultados\\4.PRO\\PGAR\\_7_GDBs\\BD_Modelo_Fisico_V0.gdb\"\n",
    "nombre_dataset_insumos_diagnostico = 'Insumos_Diagnostico'\n",
    "\n",
    "lista_bd_fuente_insumo = [ # ** BD Originales POMCAS\n",
    "                    # r'D:\\PUBLIC\\PGAR\\Resultados\\4.PRO\\PGAR\\gdb_pomcas\\POMCA_Rio_Alto_Suarez.gdb',\n",
    "                    # r'D:\\PUBLIC\\PGAR\\Resultados\\4.PRO\\PGAR\\gdb_pomcas\\POMCA_Rio_Bogota.gdb',\n",
    "                    # r'D:\\PUBLIC\\PGAR\\Resultados\\4.PRO\\PGAR\\gdb_pomcas\\POMCA_Rio_Carare_Minero.gdb',\n",
    "                    # r'D:\\PUBLIC\\PGAR\\Resultados\\4.PRO\\PGAR\\gdb_pomcas\\POMCA_Rio_Garagoa.gdb',\n",
    "                    # r'D:\\PUBLIC\\PGAR\\Resultados\\4.PRO\\PGAR\\gdb_pomcas\\POMCA_Rio_Guavio.gdb',\n",
    "                    # r'D:\\PUBLIC\\PGAR\\Resultados\\4.PRO\\PGAR\\gdb_pomcas\\POMCA_Rio_Guayuriba.gdb',\n",
    "                    # r'D:\\PUBLIC\\PGAR\\Resultados\\4.PRO\\PGAR\\gdb_pomcas\\POMCA_Rio_Medio_Bajo_Suarez.gdb',\n",
    "                    # r'D:\\PUBLIC\\PGAR\\Resultados\\4.PRO\\PGAR\\gdb_pomcas\\POMCA_Rio_Negro.gdb',\n",
    "                    # r'D:\\PUBLIC\\PGAR\\Resultados\\4.PRO\\PGAR\\gdb_pomcas\\POMCA_Rio_Seco.gdb',\n",
    "                    # r'D:\\PUBLIC\\PGAR\\Resultados\\4.PRO\\PGAR\\gdb_pomcas\\POMCA_Rio_Sumapaz.gdb',\n",
    "                    # ** BD POMCA Unificado\n",
    "                    # r'D:\\PUBLIC\\PGAR\\Resultados\\4.PRO\\PGAR\\gdb_pomcas\\POMCA_Unificada.gdb',\n",
    "                    # ** Inventario Fuentes Secundarias\n",
    "                    # r'D:\\PUBLIC\\PGAR\\Resultados\\4.PRO\\PGAR\\BackUP_PGAR_Inventario\\PGAR_Inventario.gdb',\n",
    "                    # ** Inventario Shape Originales\n",
    "                    # r'D:\\PUBLIC\\PGAR\\Resultados\\4.PRO\\PGAR\\_7_GDBs\\capas_shp_car.gdb',\n",
    "                    # ** Inventario Shape Modelo Lógico\n",
    "                    r'D:\\PUBLIC\\PGAR\\Resultados\\4.PRO\\PGAR\\_7_GDBs\\capas_pomca_analisis.gdb',\n",
    "                    # 15:r'C:\\PUBLIC\\PGAR\\Resultados\\4.PRO\\PGAR\\[sa] - BD_Indicadores.sde'\n",
    "                    ]"
   ]
  },
  {
   "cell_type": "code",
   "execution_count": null,
   "metadata": {},
   "outputs": [],
   "source": [
    "diccionario = { # * Base de Datos Unificada\n",
    "1: ['capas_pomca_analisis.gdb','Sin DataSet','ZonasRecarga__InsumosAnaliticaEspacial'],\n",
    "2: ['capas_pomca_analisis.gdb','Sin DataSet','ZonasProtección__InsumosAnaliticaEspacial'],\n",
    "3: ['capas_pomca_analisis.gdb','Sin DataSet','MicroCuencasAbastecedoras__InsumosAnaliticaEspacial'],\n",
    "4: ['capas_pomca_analisis.gdb','Sin DataSet','MultitemporalCoberturas__InsumosAnaliticaEspacial'],\n",
    "5: ['capas_pomca_analisis.gdb','Sin DataSet','AnalisisMultitemporal_CoberturaTierra__InsumosAnaliticaEspacial'],\n",
    "6: ['capas_pomca_analisis.gdb','Sin DataSet','Multitemporal_cobertura_de_la_tierra__InsumosAnaliticaEspacial'],\n",
    "7: ['capas_pomca_analisis.gdb','Sin DataSet','Multitemporal_cambios__InsumosAnaliticaEspacial'],\n",
    "8: ['capas_pomca_analisis.gdb','Sin DataSet','Multitemporal__InsumosAnaliticaEspacial'],\n",
    "9: ['capas_pomca_analisis.gdb','Sin DataSet','EscenRiesgoAvenTorren__InsumosAnaliticaEspacial'],\n",
    "10: ['capas_pomca_analisis.gdb','Sin DataSet','EscenRiesgoIncendio__InsumosAnaliticaEspacial'],\n",
    "11: ['capas_pomca_analisis.gdb','Sin DataSet','EscenRiesgoMovMasaSeco__InsumosAnaliticaEspacial'],\n",
    "12: ['capas_pomca_analisis.gdb','Sin DataSet','EscenRiesgoMovMasa__InsumosAnaliticaEspacial'],\n",
    "13: ['capas_pomca_analisis.gdb','Sin DataSet','EscenRiesgoInundacion__InsumosAnaliticaEspacial'],\n",
    "14: ['capas_pomca_analisis.gdb','Sin DataSet','AIA_EcoEstrat_Paramo__InsumosAnaliticaEspacial'],\n",
    "15: ['capas_pomca_analisis.gdb','Sin DataSet','AIA_EcoEstrat_Humedal__InsumosAnaliticaEspacial'],\n",
    "16: ['capas_pomca_analisis.gdb','Sin DataSet','AIA_Humedales__InsumosAnaliticaEspacial'],\n",
    "17: ['capas_pomca_analisis.gdb','Sin DataSet','AIA_EcoEstrat_Humedal_2021__InsumosAnaliticaEspacial'],\n",
    "18: ['capas_pomca_analisis.gdb','Sin DataSet','ZonificacionAmbiental_POMCAS__InsumosAnaliticaEspacial'],\n",
    "19: ['capas_pomca_analisis.gdb','Sin DataSet','ZonificacionAmbiental_POMCAS_Cons__InsumosAnaliticaEspacial'],\n",
    "20: ['capas_pomca_analisis.gdb','Sin DataSet','Zonificacion_Ambiental_POMCAS__InsumosAnaliticaEspacial'],\n",
    "21: ['capas_pomca_analisis.gdb','Sin DataSet','ZonificacionAmbiental_POMCAS_1__InsumosAnaliticaEspacial'],\n",
    "22: ['capas_pomca_analisis.gdb','Sin DataSet','RedMonitoreoCalidadHidrica__InsumosAnaliticaEspacial']\n",
    "}"
   ]
  },
  {
   "cell_type": "code",
   "execution_count": null,
   "metadata": {},
   "outputs": [],
   "source": [
    "arcpy.env.workspace = ruta_bd_modelo_fisico\n",
    "for capa in arcpy.ListFeatureClasses():\n",
    "    arcpy.management.Delete(capa)\n",
    "    print(f\"Se borra capa {capa}\")\n",
    "    \n",
    "arcpy.env.workspace = os.path.join(ruta_bd_modelo_fisico, nombre_dataset_insumos_diagnostico)\n",
    "for capa in arcpy.ListFeatureClasses():\n",
    "    arcpy.management.Delete(capa)\n",
    "    print(f\"Se borra capa {capa}\") "
   ]
  },
  {
   "cell_type": "code",
   "execution_count": null,
   "metadata": {},
   "outputs": [],
   "source": [
    "for bd in lista_bd_fuente_insumo:\n",
    "    for llave, valor in diccionario.items():\n",
    "        nombre_base_datos = os.path.basename(bd)\n",
    "        base_datos_sin_extension = nombre_base_datos.split('.')[0]\n",
    "        if valor[0] == nombre_base_datos and valor[1] != 'Sin DataSet':\n",
    "            ruta_capas_copia_origen = os.path.join(bd,valor[1],valor[2])\n",
    "            ruta_capa_copia_salida = os.path.join(ruta_bd_modelo_fisico,base_datos_sin_extension+'_'+valor[2]+'___SP')\n",
    "            arcpy.management.Copy(ruta_capas_copia_origen, ruta_capa_copia_salida)            \n",
    "            print(f\"Se copia capa {valor[2]}\")\n",
    "        if valor[0] == nombre_base_datos and valor[1] == 'Sin DataSet':\n",
    "            ruta_capas_copia_origen = os.path.join(bd,valor[2])\n",
    "            ruta_capa_copia_salida = os.path.join(ruta_bd_modelo_fisico,base_datos_sin_extension+'_'+valor[2]+'___SP')\n",
    "            arcpy.management.Copy(ruta_capas_copia_origen, ruta_capa_copia_salida)\n",
    "            print(f\"Se copia capa {valor[2]}\")\n",
    "        else:\n",
    "            print(\"Sin relación\")"
   ]
  },
  {
   "cell_type": "code",
   "execution_count": null,
   "metadata": {},
   "outputs": [],
   "source": [
    "arcpy.env.workspace = ruta_bd_modelo_fisico\n",
    "for capa in arcpy.ListFeatureClasses():\n",
    "    nombre_capa_proyeccion = os.path.basename(capa)\n",
    "    nombre_capa_proyeccion_estandarizada = nombre_capa_proyeccion.split(\"___\")[0]\n",
    "    nombre_capa_proyectada_estandarizada_sin_relacion_tematica = nombre_capa_proyeccion_estandarizada.split(\"__\")[0]\n",
    "    nombre_ruta_salida = os.path.join(ruta_bd_modelo_fisico,nombre_dataset_insumos_diagnostico,nombre_capa_proyectada_estandarizada_sin_relacion_tematica)\n",
    "    print(nombre_capa_proyectada_estandarizada_sin_relacion_tematica)\n",
    "    arcpy.management.Project(capa, nombre_ruta_salida, sistema_ctm12)\n",
    "    print(f\"Se proyecta y migra capa {capa}\")\n",
    "\n",
    "for capa in arcpy.ListFeatureClasses():\n",
    "    arcpy.management.Delete(capa)\n",
    "    print(f\"Se borra capa {capa}\") \n",
    "\n",
    "print(\"FINALIZA PROCESO\")"
   ]
  }
 ],
 "metadata": {
  "kernelspec": {
   "display_name": "Python 3",
   "language": "python",
   "name": "python3"
  },
  "language_info": {
   "codemirror_mode": {
    "name": "ipython",
    "version": 3
   },
   "file_extension": ".py",
   "mimetype": "text/x-python",
   "name": "python",
   "nbconvert_exporter": "python",
   "pygments_lexer": "ipython3",
   "version": "3.9.16"
  },
  "orig_nbformat": 4
 },
 "nbformat": 4,
 "nbformat_minor": 2
}
