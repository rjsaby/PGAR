{
 "cells": [
  {
   "cell_type": "code",
   "execution_count": null,
   "metadata": {},
   "outputs": [],
   "source": [
    "import os\n",
    "import arcpy\n",
    "import pandas as pd\n",
    "\n",
    "arcpy.env.overwriteOutput = True\n",
    "sistema_ctm12 = r\"C:\\PUBLIC\\SERESCO\\Resultados\\_8_Py\\ctm12.prj\"\n",
    "\n",
    "ruta_bd_modelo_fisico = r\"D:\\PUBLIC\\PGAR\\Resultados\\4.PRO\\PGAR\\_7_GDBs\\BD_Modelo_Fisico_V0.gdb\"\n",
    "ruta_bd_indicadores = r\"D:\\PUBLIC\\PGAR\\Resultados\\4.PRO\\PGAR\\_7_GDBs\\BD_Indicadores.gdb\""
   ]
  },
  {
   "cell_type": "code",
   "execution_count": null,
   "metadata": {},
   "outputs": [],
   "source": [
    "lista_bd_fuente_insumo = [ # ** BD Originales POMCAS\n",
    "                    # r'D:\\PUBLIC\\PGAR\\Resultados\\4.PRO\\PGAR\\gdb_pomcas\\POMCA_Rio_Alto_Suarez.gdb',\n",
    "                    # r'D:\\PUBLIC\\PGAR\\Resultados\\4.PRO\\PGAR\\gdb_pomcas\\POMCA_Rio_Bogota.gdb',\n",
    "                    # r'D:\\PUBLIC\\PGAR\\Resultados\\4.PRO\\PGAR\\gdb_pomcas\\POMCA_Rio_Carare_Minero.gdb',\n",
    "                    # r'D:\\PUBLIC\\PGAR\\Resultados\\4.PRO\\PGAR\\gdb_pomcas\\POMCA_Rio_Garagoa.gdb',\n",
    "                    # r'D:\\PUBLIC\\PGAR\\Resultados\\4.PRO\\PGAR\\gdb_pomcas\\POMCA_Rio_Guavio.gdb',\n",
    "                    # r'D:\\PUBLIC\\PGAR\\Resultados\\4.PRO\\PGAR\\gdb_pomcas\\POMCA_Rio_Guayuriba.gdb',\n",
    "                    # r'D:\\PUBLIC\\PGAR\\Resultados\\4.PRO\\PGAR\\gdb_pomcas\\POMCA_Rio_Medio_Bajo_Suarez.gdb',\n",
    "                    # r'D:\\PUBLIC\\PGAR\\Resultados\\4.PRO\\PGAR\\gdb_pomcas\\POMCA_Rio_Negro.gdb',\n",
    "                    # r'D:\\PUBLIC\\PGAR\\Resultados\\4.PRO\\PGAR\\gdb_pomcas\\POMCA_Rio_Seco.gdb',\n",
    "                    # r'D:\\PUBLIC\\PGAR\\Resultados\\4.PRO\\PGAR\\gdb_pomcas\\POMCA_Rio_Sumapaz.gdb',\n",
    "                     # ** BD POMCA Unificado\n",
    "                    # r'D:\\PUBLIC\\PGAR\\Resultados\\4.PRO\\PGAR\\gdb_pomcas\\POMCA_Unificada.gdb',\n",
    "                     # ** Inventario Fuentes Secundarias\n",
    "                    # r'D:\\PUBLIC\\PGAR\\Resultados\\4.PRO\\PGAR\\BackUP_PGAR_Inventario\\PGAR_Inventario.gdb',\n",
    "                     # ** Inventario Shape Originales\n",
    "                    # r'D:\\PUBLIC\\PGAR\\Resultados\\4.PRO\\PGAR\\_7_GDBs\\capas_shp_car.gdb',\n",
    "                     # ** Inventario Shape Modelo Lógico\n",
    "                    # r'D:\\PUBLIC\\PGAR\\Resultados\\4.PRO\\PGAR\\_7_GDBs\\capas_pomca_analisis.gdb',\n",
    "                     # ** Indicadores\n",
    "                    r'C:\\PUBLIC\\PGAR\\Resultados\\4.PRO\\PGAR\\[sa] - BD_Indicadores.sde'\n",
    "                    ]\n",
    "\n",
    "lista_dataset_diagnostico = { # TODO: Nombres Datset\n",
    "                            1:'recurso_hidrico',\n",
    "                            2:'biodiversidad_servicios_ecosistemicos',\n",
    "                            3:'gestion_riesgo_cambio_climatico',\n",
    "                            4:'suelo',\n",
    "                            5:'ordenamiento_ambiental_territorial',\n",
    "                            # 6:'educacion_ambiental',\n",
    "                            # 7:'gestion_ambiental_urbana_sectorial',\n",
    "                            8:'autoridad_ambiental',\n",
    "                            9:'caracterizacion_socioeconomica_regional'                             \n",
    "                            }                                                "
   ]
  },
  {
   "cell_type": "code",
   "execution_count": null,
   "metadata": {},
   "outputs": [],
   "source": [
    "# # ? Verificación de existencia de dataset modelo\n",
    "# arcpy.env.workspace = ruta_bd_modelo_fisico\n",
    "\n",
    "# for dataset_existente in arcpy.ListDatasets():\n",
    "#     for codigo, dataset_indicador in lista_dataset_diagnostico.items():\n",
    "#         if arcpy.Exists(dataset_indicador):\n",
    "#             print(f\"El DataSet {dataset_indicador} ya existe en BD Modelo\")\n",
    "#         else:\n",
    "#             arcpy.management.CreateFeatureDataset(arcpy.env.workspace, dataset_indicador, spatial_reference=sistema_ctm12)\n",
    "#             print(f\"Se crea el DataSet {dataset_indicador}\")\n",
    "\n",
    "print(\"Se termina proceso\")"
   ]
  },
  {
   "cell_type": "code",
   "execution_count": null,
   "metadata": {},
   "outputs": [],
   "source": [
    "nombre_dataset_indicadores = []\n",
    "\n",
    "arcpy.env.workspace = r'C:\\PUBLIC\\PGAR\\Resultados\\4.PRO\\PGAR\\[sa] - BD_Indicadores.sde'\n",
    "for n_dataset in arcpy.ListDatasets():\n",
    "    nombre_dataset = n_dataset.split(\".\")[1].lower()\n",
    "    nombre_dataset_indicadores.append(nombre_dataset)\n",
    "    \n",
    "arcpy.env.workspace = r\"D:\\PUBLIC\\PGAR\\Resultados\\4.PRO\\PGAR\\_7_GDBs\\BD_Indicadores.gdb\"\n",
    "for i in nombre_dataset_indicadores:\n",
    "    arcpy.management.CreateFeatureDataset(arcpy.env.workspace, i, spatial_reference=sistema_ctm12)\n",
    "    print(f\"Se crea dataset {i}\")"
   ]
  },
  {
   "cell_type": "code",
   "execution_count": null,
   "metadata": {},
   "outputs": [],
   "source": [
    "arcpy.env.workspace = r'C:\\PUBLIC\\PGAR\\Resultados\\4.PRO\\PGAR\\[sa] - BD_Indicadores.sde'\n",
    "for n_dataset in arcpy.ListDatasets(feature_type = \"Feature\"):\n",
    "    for n_capa in arcpy.ListFeatureClasses(feature_dataset=n_dataset):\n",
    "        descripcion = arcpy.Describe(n_capa)\n",
    "        if descripcion.featureType == 'Simple':\n",
    "            ruta_origen = os.path.join(arcpy.env.workspace,n_dataset,n_capa)\n",
    "            ruta_destino = os.path.join(ruta_bd_indicadores,n_dataset.split(\".\")[1].lower(),n_capa.split(\".\")[1].lower())\n",
    "            print(ruta_origen)\n",
    "            print(ruta_destino)\n",
    "            arcpy.Copy_management(ruta_origen, ruta_destino)\n",
    "            print(f\"Se copia {n_capa} en dataset {n_dataset}\")\n",
    "        else:\n",
    "            print(f\"{n_capa} es una anotación\")\n",
    "        \n",
    "for n_capa in arcpy.ListFeatureClasses():\n",
    "    descripcion = arcpy.Describe(n_capa)\n",
    "    if descripcion.featureType == 'Simple':\n",
    "        ruta_origen = os.path.join(arcpy.env.workspace, n_capa)\n",
    "        ruta_destino = os.path.join(ruta_bd_indicadores, n_capa.split(\".\")[1].lower())\n",
    "        arcpy.Copy_management(ruta_origen, ruta_destino)\n",
    "        print(f\"Se copia {n_capa}\")\n",
    "    else:\n",
    "        print(f\"{n_capa} es una anotación\")\n",
    "    \n",
    "for n_tabla in arcpy.ListTables():\n",
    "    ruta_origen = os.path.join(arcpy.env.workspace,n_tabla)\n",
    "    ruta_destino = os.path.join(ruta_bd_indicadores ,n_tabla.split(\".\")[1].lower())\n",
    "    arcpy.Copy_management(ruta_origen, ruta_destino)\n",
    "    print(f\"Se copia {n_tabla}\")"
   ]
  }
 ],
 "metadata": {
  "kernelspec": {
   "display_name": "Python 3",
   "language": "python",
   "name": "python3"
  },
  "language_info": {
   "codemirror_mode": {
    "name": "ipython",
    "version": 3
   },
   "file_extension": ".py",
   "mimetype": "text/x-python",
   "name": "python",
   "nbconvert_exporter": "python",
   "pygments_lexer": "ipython3",
   "version": "3.9.16"
  },
  "orig_nbformat": 4
 },
 "nbformat": 4,
 "nbformat_minor": 2
}
