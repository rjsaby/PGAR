{
 "cells": [
  {
   "cell_type": "code",
   "execution_count": null,
   "metadata": {},
   "outputs": [],
   "source": [
    "import os\n",
    "import arcpy\n",
    "import pandas as pd\n",
    "\n",
    "arcpy.env.overwriteOutput = True\n",
    "sistema_ctm12 = r\"C:\\PUBLIC\\SERESCO\\Resultados\\_8_Py\\ctm12.prj\"\n",
    "\n",
    "ruta_bd_modelo_fisico = r\"D:\\PUBLIC\\PGAR\\Resultados\\4.PRO\\PGAR\\_7_GDBs\\BD_Modelo_Fisico_V0.gdb\"\n",
    "nombre_dataset_insumos_diagnostico = 'Insumos_CAR'\n",
    "\n",
    "lista_bd_fuente_insumo = [ # ** BD Originales POMCAS\n",
    "                    r'D:\\PUBLIC\\PGAR\\Resultados\\4.PRO\\PGAR\\gdb_pomcas\\POMCA_Rio_Alto_Suarez.gdb',\n",
    "                    r'D:\\PUBLIC\\PGAR\\Resultados\\4.PRO\\PGAR\\gdb_pomcas\\POMCA_Rio_Bogota.gdb',\n",
    "                    r'D:\\PUBLIC\\PGAR\\Resultados\\4.PRO\\PGAR\\gdb_pomcas\\POMCA_Rio_Carare_Minero.gdb',\n",
    "                    r'D:\\PUBLIC\\PGAR\\Resultados\\4.PRO\\PGAR\\gdb_pomcas\\POMCA_Rio_Garagoa.gdb',\n",
    "                    r'D:\\PUBLIC\\PGAR\\Resultados\\4.PRO\\PGAR\\gdb_pomcas\\POMCA_Rio_Guavio.gdb',\n",
    "                    r'D:\\PUBLIC\\PGAR\\Resultados\\4.PRO\\PGAR\\gdb_pomcas\\POMCA_Rio_Guayuriba.gdb',\n",
    "                    r'D:\\PUBLIC\\PGAR\\Resultados\\4.PRO\\PGAR\\gdb_pomcas\\POMCA_Rio_Medio_Bajo_Suarez.gdb',\n",
    "                    r'D:\\PUBLIC\\PGAR\\Resultados\\4.PRO\\PGAR\\gdb_pomcas\\POMCA_Rio_Negro.gdb',\n",
    "                    r'D:\\PUBLIC\\PGAR\\Resultados\\4.PRO\\PGAR\\gdb_pomcas\\POMCA_Rio_Seco.gdb',\n",
    "                    r'D:\\PUBLIC\\PGAR\\Resultados\\4.PRO\\PGAR\\gdb_pomcas\\POMCA_Rio_Sumapaz.gdb',\n",
    "                     # ** BD POMCA Unificado\n",
    "                    # r'D:\\PUBLIC\\PGAR\\Resultados\\4.PRO\\PGAR\\gdb_pomcas\\POMCA_Unificada.gdb',\n",
    "                     # ** Inventario Fuentes Secundarias\n",
    "                     # r'D:\\PUBLIC\\PGAR\\Resultados\\4.PRO\\PGAR\\BackUP_PGAR_Inventario\\PGAR_Inventario.gdb',\n",
    "                     # ** Inventario Shape Originales\n",
    "                     r'D:\\PUBLIC\\PGAR\\Resultados\\4.PRO\\PGAR\\_7_GDBs\\capas_shp_car.gdb',\n",
    "                     # ** Inventario Shape Modelo Lógico\n",
    "                     # r'D:\\PUBLIC\\PGAR\\Resultados\\4.PRO\\PGAR\\_7_GDBs\\capas_pomca_analisis.gdb',\n",
    "                     # 15:r'C:\\PUBLIC\\PGAR\\Resultados\\4.PRO\\PGAR\\[sa] - BD_Indicadores.sde'\n",
    "                    ]"
   ]
  },
  {
   "cell_type": "code",
   "execution_count": null,
   "metadata": {},
   "outputs": [],
   "source": [
    "ruta_xlsx_diccionario_capas_insumo = r\"C:\\PUBLIC\\PGAR\\Resultados\\2.Py\\PGAR_Calidad\\diccionario_insumos_car.xlsx\"\n",
    "diccionario_capas_insumo = pd.read_excel(ruta_xlsx_diccionario_capas_insumo,sheet_name='Hoja 2')\n",
    "\n",
    "diccionario =  dict([(i,[a,b,c]) for i,a,b,c in zip(diccionario_capas_insumo['llave'], diccionario_capas_insumo['nombre_base'], diccionario_capas_insumo['nombre_dataset'], diccionario_capas_insumo['nombre_capa'])])"
   ]
  },
  {
   "cell_type": "code",
   "execution_count": null,
   "metadata": {},
   "outputs": [],
   "source": [
    "def copia_capa_diccionario_insumo(capa_a_copiar):\n",
    "    # ? Listado de BD de Análisis Insumos\n",
    "    for bd in lista_bd_fuente_insumo:\n",
    "        # ? Recorrido por diccionario con capas\n",
    "        for llave, valor in diccionario.items():\n",
    "            nombre_base_datos = os.path.basename(bd)\n",
    "            base_datos_sin_extension = nombre_base_datos.split('.')[0]\n",
    "            if valor[0] == nombre_base_datos and valor[1] != 'Sin DataSet' and valor[2] == capa_a_copiar:\n",
    "                ruta_capas_copia_origen = os.path.join(bd,valor[1],valor[2])\n",
    "                ruta_capa_copia_salida = os.path.join(ruta_bd_modelo_fisico ,base_datos_sin_extension+'_'+valor[2]+'__SP')\n",
    "                arcpy.management.Copy(ruta_capas_copia_origen, ruta_capa_copia_salida)\n",
    "                print(f\"Se copia capa {valor[2]}\")\n",
    "            if valor[0] == nombre_base_datos and valor[1] == 'Sin DataSet' and valor[2] == capa_a_copiar:\n",
    "                ruta_capas_copia_origen = os.path.join(bd,valor[2])\n",
    "                ruta_capa_copia_salida = os.path.join(ruta_bd_modelo_fisico, base_datos_sin_extension+'_'+valor[2]+'__SP')\n",
    "                arcpy.management.Copy(ruta_capas_copia_origen, ruta_capa_copia_salida)\n",
    "                print(f\"Se copia capa {valor[2]}\")\n",
    "            else:\n",
    "                pass\n",
    "                \n",
    "    arcpy.env.workspace = ruta_bd_modelo_fisico\n",
    "    for capa in arcpy.ListFeatureClasses():\n",
    "        nombre_capa_proyeccion = os.path.basename(capa)\n",
    "        nombre_capa_proyeccion_estandarizada = nombre_capa_proyeccion.split(\"__\")[0]\n",
    "        nombre_ruta_salida = os.path.join(ruta_bd_modelo_fisico,nombre_dataset_insumos_diagnostico,nombre_capa_proyeccion_estandarizada)\n",
    "        arcpy.management.Project(capa, nombre_ruta_salida, sistema_ctm12)\n",
    "        print(f\"Se proyecta y migra capa {capa}\")\n",
    "\n",
    "    for capa in arcpy.ListFeatureClasses():\n",
    "        arcpy.management.Delete(capa)\n",
    "        print(f\"Se borra capa {capa}\")"
   ]
  },
  {
   "cell_type": "code",
   "execution_count": null,
   "metadata": {},
   "outputs": [],
   "source": [
    "feature_diccionario = []\n",
    "nombre_original_diccionario = []\n",
    "ruta_comparacion = os.path.join(ruta_bd_modelo_fisico, nombre_dataset_insumos_diagnostico)    \n",
    "for llave, valor in diccionario.items():\n",
    "    feature_diccionario_name = valor[0].split('.')[0] + '_' + str(valor[2])\n",
    "    feature_diccionario_ruta = os.path.join(ruta_comparacion, feature_diccionario_name)\n",
    "    feature_original = str(valor[2])\n",
    "    nombre_original_diccionario.append(feature_original)\n",
    "    feature_diccionario.append(feature_diccionario_ruta)\n",
    "    \n",
    "lista_unificada = list(zip(feature_diccionario, nombre_original_diccionario))\n",
    "\n",
    "for i in lista_unificada:\n",
    "    if arcpy.Exists(i[0]):\n",
    "        print(f\"La capa {os.path.basename(i[0])} existe\")\n",
    "    else:\n",
    "        copia_capa_diccionario_insumo(i[1])"
   ]
  },
  {
   "cell_type": "code",
   "execution_count": null,
   "metadata": {},
   "outputs": [],
   "source": [
    "print(\"FINALIZA PROCESO\")"
   ]
  }
 ],
 "metadata": {
  "kernelspec": {
   "display_name": "Python 3",
   "language": "python",
   "name": "python3"
  },
  "language_info": {
   "codemirror_mode": {
    "name": "ipython",
    "version": 3
   },
   "file_extension": ".py",
   "mimetype": "text/x-python",
   "name": "python",
   "nbconvert_exporter": "python",
   "pygments_lexer": "ipython3",
   "version": "3.9.16"
  },
  "orig_nbformat": 4
 },
 "nbformat": 4,
 "nbformat_minor": 2
}
