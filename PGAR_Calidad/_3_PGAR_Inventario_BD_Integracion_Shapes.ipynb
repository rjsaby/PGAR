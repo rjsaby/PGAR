{
 "cells": [
  {
   "cell_type": "code",
   "execution_count": 33,
   "metadata": {},
   "outputs": [],
   "source": [
    "import os\n",
    "import arcpy\n",
    "import pandas as pd\n",
    "\n",
    "arcpy.env.overwriteOutput = True\n",
    "\n",
    "# TODO: Asignación Variables Globales\n",
    "ruta_shape = r\"D:\\PUBLIC\\PGAR\\Resultados\\4.PRO\\PGAR\\_7_GDBs\\capas_shp_car.gdb\""
   ]
  },
  {
   "cell_type": "code",
   "execution_count": 34,
   "metadata": {},
   "outputs": [
    {
     "name": "stdout",
     "output_type": "stream",
     "text": [
      "Asignación de listas iniciada\n",
      "Asignación de listas finalizadas\n",
      "Creación DataFrame\n",
      "EXCEL Creado\n"
     ]
    }
   ],
   "source": [
    "arcpy.env.workspace = ruta_shape\n",
    "\n",
    "print(\"Asignación de listas iniciada\")\n",
    "lista_capas = arcpy.ListFeatureClasses()\n",
    "lista_nombre_capa = []\n",
    "lista_tipo_capa = []\n",
    "lista_nombre_src_capa = []\n",
    "lista_tipo_src_capa = []\n",
    "for capa in lista_capas:\n",
    "    # ? Descripciones de la capa\n",
    "    descripcion = arcpy.Describe(capa)\n",
    "    SR = descripcion.spatialReference\n",
    "    # ? Asignaciones de lista\n",
    "    lista_nombre_capa.append(capa)\n",
    "    lista_tipo_capa.append(descripcion.shapeType)\n",
    "    lista_nombre_src_capa.append(SR.name)\n",
    "    lista_tipo_src_capa.append(SR.type)\n",
    "print(\"Asignación de listas finalizadas\")\n",
    "\n",
    "print(\"Creación DataFrame\")\n",
    "# ? Creación de dataframe por multiples listas (uso zip)\n",
    "df_shape = pd.DataFrame((zip(lista_nombre_capa, lista_tipo_capa, lista_nombre_src_capa, lista_tipo_src_capa)), columns=['Nombre Capa SHP','Tipo Geometría','Nombre SRC','Tipo SRC'])\n",
    "\n",
    "# ? Generación de EXCEL\n",
    "df_shape.to_excel(\"D:\\PUBLIC\\PGAR\\Insumos\\Informacion_NO_Estructurada\\listado_shapes.xlsx\")\n",
    "print(\"EXCEL Creado\")  "
   ]
  }
 ],
 "metadata": {
  "kernelspec": {
   "display_name": "Python 3",
   "language": "python",
   "name": "python3"
  },
  "language_info": {
   "name": "python",
   "version": "3.9.16"
  },
  "orig_nbformat": 4
 },
 "nbformat": 4,
 "nbformat_minor": 2
}
