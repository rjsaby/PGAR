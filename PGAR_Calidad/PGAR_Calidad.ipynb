{
 "cells": [
  {
   "cell_type": "code",
   "execution_count": null,
   "metadata": {},
   "outputs": [],
   "source": [
    "import os\n",
    "import arcpy\n",
    "import pandas as pd\n",
    "import numpy as np\n",
    "import csv\n",
    "from arcgis.features import GeoAccessor, GeoSeriesAccessor\n",
    "\n",
    "arcpy.env.overwriteOutput = True"
   ]
  },
  {
   "cell_type": "code",
   "execution_count": null,
   "metadata": {},
   "outputs": [],
   "source": [
    "ruta_capa_validar = r\"D:\\PUBLIC\\PGAR\\Resultados\\4.PRO\\PGAR\\MD_Diagnostico\\MD_Diagnostico.gdb\\SINTESIS_AMBIENTAL\\Conflicto_Perdida_Coberturas_Naturales_CTM12_Estandarizacion\""
   ]
  },
  {
   "cell_type": "code",
   "execution_count": null,
   "metadata": {},
   "outputs": [],
   "source": [
    "df_capa_validar = pd.DataFrame.spatial.from_featureclass(ruta_capa_validar)\n",
    "\n",
    "nombre_columnas_validador_vacios = ['columna','conteo_nulos','porcentaje_nulos']\n",
    "df_resultados_validacion_nulos = pd.DataFrame(columns = nombre_columnas_validador_vacios)"
   ]
  },
  {
   "cell_type": "code",
   "execution_count": null,
   "metadata": {},
   "outputs": [],
   "source": [
    "# ? Conteo de filas existentes dentro de la capa a validar\n",
    "conteo_filas_capa_validar = df_capa_validar.shape[0]\n",
    "\n",
    "for (etiqueta, contenido) in df_capa_validar.iteritems():\n",
    "    # ? Conteo de filas Nulas por columna\n",
    "    conteo_nulos_por_columna = df_capa_validar.loc[df_capa_validar[etiqueta].isnull() | df_capa_validar[etiqueta] == ''].shape[0]\n",
    "    # ? Cálculo de cuanto representan los nulos como porcentaje\n",
    "    porcentaje_nulos_por_columna = round((conteo_nulos_por_columna / conteo_filas_capa_validar) * 100, 2)\n",
    "    \n",
    "    # TODO: Append a Tabla Resultado Validación de Nulos y Blancos\n",
    "\n",
    "    df_resultados_validacion_nulos.append(df_capa_validar[etiqueta])\n",
    "    df_resultados_validacion_nulos.append(conteo_nulos_por_columna)\n",
    "    df_resultados_validacion_nulos.append(porcentaje_nulos_por_columna)"
   ]
  }
 ],
 "metadata": {
  "kernelspec": {
   "display_name": "Python 3",
   "language": "python",
   "name": "python3"
  },
  "language_info": {
   "codemirror_mode": {
    "name": "ipython",
    "version": 3
   },
   "file_extension": ".py",
   "mimetype": "text/x-python",
   "name": "python",
   "nbconvert_exporter": "python",
   "pygments_lexer": "ipython3",
   "version": "3.9.16"
  },
  "orig_nbformat": 4
 },
 "nbformat": 4,
 "nbformat_minor": 2
}
