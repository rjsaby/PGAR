{
 "cells": [
  {
   "cell_type": "code",
   "execution_count": null,
   "metadata": {},
   "outputs": [],
   "source": [
    "import os\n",
    "import arcpy\n",
    "import pandas as pd\n",
    "import numpy as np\n",
    "import csv\n",
    "from arcgis.features import GeoAccessor, GeoSeriesAccessor\n",
    "\n",
    "arcpy.env.overwriteOutput = True"
   ]
  },
  {
   "cell_type": "code",
   "execution_count": null,
   "metadata": {},
   "outputs": [],
   "source": [
    "ruta_capa_jurisdiccion = r\"D:\\PUBLIC\\PGAR\\Resultados\\4.PRO\\PGAR\\Local_BD_PGAR.gdb\\_6_1_Jurisdiccion_CAR\"\n",
    "\n",
    "df_jurisdiccion = pd.DataFrame.spatial.from_featureclass(ruta_capa_jurisdiccion)\n",
    "# Se implementa .loc para evitar alertas en la modificación del dataframe\n",
    "df_jurisdiccion_columnas_estandarizadas = df_jurisdiccion.loc[:,['CODDANE','Departamen']]\n",
    "df_jurisdiccion_columnas_estandarizadas.rename({'CODDANE':'codigo_municipio','Departamen':'nombre_departamento'}, axis = 1, inplace = True)\n",
    "# Transformación de registros de mayúsculas a letra capital, esto por medio de la función capitalize del método str.\n",
    "df_jurisdiccion_columnas_estandarizadas['nombre_departamento'] = df_jurisdiccion_columnas_estandarizadas['nombre_departamento'].str.capitalize()"
   ]
  },
  {
   "cell_type": "code",
   "execution_count": null,
   "metadata": {},
   "outputs": [],
   "source": [
    "# Se utiliza el método .loc para incorporar la columna, que en este caso fue la lista que se creo previamente\n",
    "# La columna creada se le registran los datos haciendo un substring a la columna -codigo_municipio-  \n",
    "df_jurisdiccion_columnas_estandarizadas.loc[:,'codigo_departamento'] = df_jurisdiccion_columnas_estandarizadas['codigo_municipio'].str.slice(0, 2)\n",
    "df_jurisdiccion_columnas_estandarizadas = df_jurisdiccion_columnas_estandarizadas.loc[:,['codigo_departamento','nombre_departamento']]"
   ]
  },
  {
   "cell_type": "code",
   "execution_count": null,
   "metadata": {},
   "outputs": [],
   "source": [
    "df_departamentos_unificados = df_jurisdiccion_columnas_estandarizadas.groupby(['codigo_departamento','nombre_departamento']).agg({'codigo_departamento':'count', 'nombre_departamento':'count'})\n",
    "\n",
    "# Se cambia el nombre de las columnas asociadas a los conteos (funcion -rename-)\n",
    "df_departamentos_unificados.rename({'codigo_departamento':'conteo_codigo_departamento', 'nombre_departamento':'conteo_nombre_departamento'}, axis = 1, inplace = True)\n",
    "\n",
    "# Se resetan los índices\n",
    "df_departamentos_unificados_completa = df_departamentos_unificados.reset_index()\n",
    "\n",
    "# Se estandariza la tabla final\n",
    "df_departamentos = df_departamentos_unificados_completa[['codigo_departamento','nombre_departamento']]"
   ]
  },
  {
   "cell_type": "code",
   "execution_count": null,
   "metadata": {},
   "outputs": [],
   "source": [
    "ruta_bd = r\"D:\\PUBLIC\\PGAR\\Resultados\\4.PRO\\PGAR\\Local_BD_PGAR.gdb\"\n",
    "\n",
    "# --- PREPARACIÓN DEPARTAMENTO ---\n",
    "nombre_capa_departamento = 'tbl_departamento'\n",
    "ruta_capa_departamento = os.path.join(ruta_bd, nombre_capa_departamento)\n",
    "df_departamentos.spatial.to_table(location=ruta_capa_departamento)\n",
    "print(\"------------------------------ Se crea la capa -tbl_departamento- ------------------------------\")"
   ]
  }
 ],
 "metadata": {
  "kernelspec": {
   "display_name": "Python 3",
   "language": "python",
   "name": "python3"
  },
  "language_info": {
   "codemirror_mode": {
    "name": "ipython",
    "version": 3
   },
   "file_extension": ".py",
   "mimetype": "text/x-python",
   "name": "python",
   "nbconvert_exporter": "python",
   "pygments_lexer": "ipython3",
   "version": "3.9.12 (main, Apr  4 2022, 05:22:27) [MSC v.1916 64 bit (AMD64)]"
  },
  "orig_nbformat": 4,
  "vscode": {
   "interpreter": {
    "hash": "15d62e72c5d14bd073ab7bc0854742052db6830de21542cb2a2e1b067e39f5e5"
   }
  }
 },
 "nbformat": 4,
 "nbformat_minor": 2
}
