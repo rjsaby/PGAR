{
 "cells": [
  {
   "cell_type": "code",
   "execution_count": null,
   "metadata": {},
   "outputs": [],
   "source": [
    "import os\n",
    "import arcpy\n",
    "import pandas as pd\n",
    "import numpy as np\n",
    "import csv\n",
    "from arcgis.features import GeoAccessor, GeoSeriesAccessor\n",
    "\n",
    "arcpy.env.overwriteOutput = True"
   ]
  },
  {
   "cell_type": "code",
   "execution_count": null,
   "metadata": {},
   "outputs": [],
   "source": [
    "ruta_bd_unificada = r\"D:\\PUBLIC\\PGAR\\Resultados\\4.PRO\\PGAR\\gdb_pomcas\\POMCA_Unificada.gdb\"\n",
    "arcpy.env.workspace = ruta_bd_unificada"
   ]
  },
  {
   "attachments": {},
   "cell_type": "markdown",
   "metadata": {},
   "source": [
    "<h4>Generación .xls capas BD Unificada</h4>"
   ]
  },
  {
   "cell_type": "code",
   "execution_count": null,
   "metadata": {},
   "outputs": [],
   "source": [
    "def generacion_xls(lista_wilkcards):   \n",
    "    for dataset in arcpy.ListDatasets(wild_card=lista_wilkcards):\n",
    "        for capa in arcpy.ListFeatureClasses(feature_dataset=dataset):\n",
    "            # ? Parametrización del nombre de archivo de salida\n",
    "            nombre_archivo_salida_xls = str(dataset[4:]) + \"_\" + str(capa) + '.xlsx'\n",
    "            ruta_archivos_salida_xls = r\"D:\\PUBLIC\\PGAR\\Resultados\\4.PRO\\PGAR\\_2_Tablas_XLS_BDs\" + '\\\\' + str(dataset) + '\\\\' + nombre_archivo_salida_xls\n",
    "            arcpy.conversion.TableToExcel(capa, ruta_archivos_salida_xls, Use_field_alias_as_column_header = 'NAME')\n",
    "            print(\"Se crea .xlx para capa: {0}\".format(capa))"
   ]
  },
  {
   "attachments": {},
   "cell_type": "markdown",
   "metadata": {},
   "source": [
    "<h4>Generación .csv cuando las tablas .xlsx son más grande de lo que acepta este tipo de archivos</h4>"
   ]
  },
  {
   "cell_type": "code",
   "execution_count": null,
   "metadata": {},
   "outputs": [],
   "source": [
    "def generacion_csv(lista_wilkcards):   \n",
    "    for dataset in arcpy.ListDatasets(wild_card=lista_wilkcards):\n",
    "        for capa in arcpy.ListFeatureClasses(feature_dataset=dataset):\n",
    "            # ? Parametrización del nombre de archivo de salida\n",
    "            nombre_archivo_salida_csv = str(dataset[4:]) + \"_\" + str(capa) + '.csv'\n",
    "            ruta_archivos_salida_csv = r\"D:\\PUBLIC\\PGAR\\Resultados\\4.PRO\\PGAR\\_2_Tablas_XLS_BDs\" + '\\\\' + str(dataset) + '\\\\'\n",
    "            arcpy.conversion.TableToTable(capa, ruta_archivos_salida_csv, nombre_archivo_salida_csv)\n",
    "            print(\"Se crea .csv para capa: {0}\".format(capa))"
   ]
  },
  {
   "attachments": {},
   "cell_type": "markdown",
   "metadata": {},
   "source": [
    "<h4>Generación .kmz capas BD Unificada</h4>"
   ]
  },
  {
   "cell_type": "code",
   "execution_count": null,
   "metadata": {},
   "outputs": [],
   "source": [
    "def generacion_kmz(lista_wilkcards):   \n",
    "    for dataset in arcpy.ListDatasets(wild_card=lista_wilkcards):\n",
    "        for capa in arcpy.ListFeatureClasses(feature_dataset=dataset):\n",
    "            nombre_archivo_salida_kmz = str(dataset[4:]) + \"_\" + str(capa) + '.kmz'\n",
    "            ruta_archivos_salida_kmz = r\"D:\\PUBLIC\\PGAR\\Resultados\\4.PRO\\PGAR\\_3_KMZ_BDs\" + '\\\\' + str(dataset) + '\\\\' + nombre_archivo_salida_kmz\n",
    "            # ? Para ejecutar la herramienta se necesita crear un .lyr\n",
    "            arcpy.management.MakeFeatureLayer(capa, 'capa_lyr')\n",
    "            arcpy.conversion.LayerToKML('capa_lyr', ruta_archivos_salida_kmz)\n",
    "            print(\"Se crea .kmz para la capa: {0}\".format(capa))"
   ]
  },
  {
   "attachments": {},
   "cell_type": "markdown",
   "metadata": {},
   "source": [
    "<h4>Ejecución por -Temática-</h4>"
   ]
  },
  {
   "cell_type": "code",
   "execution_count": null,
   "metadata": {},
   "outputs": [],
   "source": [
    "# # # * Ejecución de la función de feature class\n",
    "# lista_wilkcards = ['_11_GEOL*',\n",
    "#                    '*GEOMOR*',\n",
    "#                    '*POL*',\n",
    "#                    '*SUEL*',\n",
    "#                    '*RECURSO*',\n",
    "#                    '*CLIM*',\n",
    "#                    '*BIOTIC*',\n",
    "#                    '*ECONO*',\n",
    "#                    '*SOCIOCU*',\n",
    "#                    '*INDIC*',\n",
    "#                    '*INDICES',\n",
    "#                    '*INDICES_2*',\n",
    "#                    '*SINTESIS*',\n",
    "#                    '*AREAS_ECO*',\n",
    "#                    '*GESTION*',\n",
    "#                    '*HIDROGEOLOG*',\n",
    "#                    '*PROYECT*',\n",
    "#                    '*ANALISIS*',\n",
    "#                    '*PERFILES*',                 \n",
    "#                    '*ZONIFICACION*'] \n",
    "\n",
    "# ? Listos: Recurso Hídrico Superficial, Hidrogeología, Áreas y Ecosistemas Estratégicos, Biotico\n",
    "# ? Listos: Índices\n",
    "\n",
    "lista_wilkcards = ['*GESTION*']\n",
    "\n",
    "# for wilkcard in lista_wilkcards:\n",
    "#     print('Inicia Generacion .xlsx: {0}'.format(wilkcard))\n",
    "#     generacion_xls(wilkcard)\n",
    "    \n",
    "for wilkcard in lista_wilkcards:\n",
    "    print('Inicia Generacion .kmz: {0}'.format(wilkcard))\n",
    "    generacion_kmz(wilkcard)\n",
    "    \n",
    "# for wilkcard in lista_wilkcards:\n",
    "#     print('Inicia Generacion .csv: {0}'.format(wilkcard))\n",
    "#     generacion_csv(wilkcard)"
   ]
  }
 ],
 "metadata": {
  "kernelspec": {
   "display_name": "Python 3",
   "language": "python",
   "name": "python3"
  },
  "language_info": {
   "codemirror_mode": {
    "name": "ipython",
    "version": 3
   },
   "file_extension": ".py",
   "mimetype": "text/x-python",
   "name": "python",
   "nbconvert_exporter": "python",
   "pygments_lexer": "ipython3",
   "version": "3.9.12"
  },
  "orig_nbformat": 4,
  "vscode": {
   "interpreter": {
    "hash": "15d62e72c5d14bd073ab7bc0854742052db6830de21542cb2a2e1b067e39f5e5"
   }
  }
 },
 "nbformat": 4,
 "nbformat_minor": 2
}
