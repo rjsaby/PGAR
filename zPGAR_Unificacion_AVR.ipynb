{
 "cells": [
  {
   "attachments": {},
   "cell_type": "markdown",
   "metadata": {},
   "source": [
    "<h4>Librerías</h4>"
   ]
  },
  {
   "cell_type": "code",
   "execution_count": null,
   "metadata": {},
   "outputs": [],
   "source": [
    "import os\n",
    "import arcpy"
   ]
  },
  {
   "attachments": {},
   "cell_type": "markdown",
   "metadata": {},
   "source": [
    "<h4>Creación de base de datos y parametrización de rutas</h4>"
   ]
  },
  {
   "cell_type": "code",
   "execution_count": null,
   "metadata": {},
   "outputs": [],
   "source": [
    "ruta_geojson = r'C:\\Users\\rodian.saby\\OneDrive\\Documentos\\docsProyectos\\3.PGAR\\Insumos\\Capas_Geograficas\\_10_Analisis_Vulnerabilidad_Riesgo'\n",
    "arcpy.env.workspace = r\"C:\\Users\\rodian.saby\\OneDrive\\Documentos\\docsProyectos\\3.PGAR\\Insumos\\Capas_Geograficas\\_10_Analisis_Vulnerabilidad_Riesgo\\_10_Analisis_Vulnerabilidad_Riesgo.gdb\"\n",
    "\n",
    "ruta_vulnerabilidad_urbana = r\"C:\\Users\\rodian.saby\\OneDrive\\Documentos\\docsProyectos\\3.PGAR\\Insumos\\Capas_Geograficas\\_10_Analisis_Vulnerabilidad_Riesgo\\_10_Analisis_Vulnerabilidad_Riesgo.gdb\\Vulnerabilidad_Urbana\"\n",
    "ruta_vulnerabilidad_rural = r\"C:\\Users\\rodian.saby\\OneDrive\\Documentos\\docsProyectos\\3.PGAR\\Insumos\\Capas_Geograficas\\_10_Analisis_Vulnerabilidad_Riesgo\\_10_Analisis_Vulnerabilidad_Riesgo.gdb\\Vulnerabilidad_Rural\"\n",
    "\n",
    "ruta_amenaza_urbano = r\"C:\\Users\\rodian.saby\\OneDrive\\Documentos\\docsProyectos\\3.PGAR\\Insumos\\Capas_Geograficas\\_10_Analisis_Vulnerabilidad_Riesgo\\_10_Analisis_Vulnerabilidad_Riesgo.gdb\\Amenaza_Urbano\"\n",
    "ruta_amenaza_rural = r\"C:\\Users\\rodian.saby\\OneDrive\\Documentos\\docsProyectos\\3.PGAR\\Insumos\\Capas_Geograficas\\_10_Analisis_Vulnerabilidad_Riesgo\\_10_Analisis_Vulnerabilidad_Riesgo.gdb\\Amenaza_Rural\"\n",
    "\n",
    "ruta_riesgo_urbano = r\"C:\\Users\\rodian.saby\\OneDrive\\Documentos\\docsProyectos\\3.PGAR\\Insumos\\Capas_Geograficas\\_10_Analisis_Vulnerabilidad_Riesgo\\_10_Analisis_Vulnerabilidad_Riesgo.gdb\\Riesgo_Urbano\"\n",
    "ruta_riesgo_rural = r\"C:\\Users\\rodian.saby\\OneDrive\\Documentos\\docsProyectos\\3.PGAR\\Insumos\\Capas_Geograficas\\_10_Analisis_Vulnerabilidad_Riesgo\\_10_Analisis_Vulnerabilidad_Riesgo.gdb\\Riesgo_Rural\"\n",
    "\n",
    "\n",
    "# Creación de Base de Datos\n",
    "if arcpy.Exists(arcpy.env.workspace):\n",
    "    for capas in arcpy.ListFeatureClasses():\n",
    "        arcpy.management.Delete(capas)\n",
    "        print(\"Se borra la información registrada en la capa: {0}\".format(capas))\n",
    "else:\n",
    "    arcpy.management.CreateFileGDB(arcpy.env.workspace, '_10_Analisis_Vulnerabilidad_Riesgo')"
   ]
  },
  {
   "attachments": {},
   "cell_type": "markdown",
   "metadata": {},
   "source": [
    "<h4>Parametrización de las rutas donde se localizan los .geojson</h4>"
   ]
  },
  {
   "cell_type": "code",
   "execution_count": null,
   "metadata": {},
   "outputs": [],
   "source": [
    "nombre_geojson = os.listdir(ruta_geojson)\n",
    "lista_ruta_archivo = []\n",
    "for rutas in nombre_geojson:\n",
    "    lista_ruta_archivo.append(os.path.join(ruta_geojson, rutas))"
   ]
  },
  {
   "attachments": {},
   "cell_type": "markdown",
   "metadata": {},
   "source": [
    "<h4>Conversión de .geojson a Feature Class</h4>"
   ]
  },
  {
   "cell_type": "code",
   "execution_count": null,
   "metadata": {},
   "outputs": [],
   "source": [
    "for generacion_feature in lista_ruta_archivo:\n",
    "    nombre_geojson = os.path.split(generacion_feature)\n",
    "    nombre_geojson_parametrizado = (nombre_geojson[1].split(\".\")[0]).replace(\" \",\"_\")\n",
    "    if nombre_geojson_parametrizado != '_10_Analisis_Vulnerabilidad_Riesgo':\n",
    "        salida_feature = os.path.join(arcpy.env.workspace, nombre_geojson_parametrizado)\n",
    "        arcpy.conversion.JSONToFeatures(generacion_feature, salida_feature, 'POLYGON')\n",
    "        print(\"geojson {0} convertido al feature {1}\".format(nombre_geojson, nombre_geojson_parametrizado))\n",
    "    else:\n",
    "        print(\"Es la base de datos\")"
   ]
  },
  {
   "attachments": {},
   "cell_type": "markdown",
   "metadata": {},
   "source": [
    "<h4>Creación y registro de nombre del feature class en cada una de las capas convertidas</h4>"
   ]
  },
  {
   "cell_type": "code",
   "execution_count": null,
   "metadata": {},
   "outputs": [],
   "source": [
    "lista_capas_convertidas = arcpy.ListFeatureClasses()\n",
    "nombre_campo = 'nombre_capa'\n",
    "\n",
    "for features in lista_capas_convertidas:\n",
    "    if features != 'Vulnerabilidad_Urbana' or features != 'Vulnerabilidad_Rural' or features != 'Amenaza_Urbana' or features != 'Amenaza_Rural' or features != 'Riesgo_Urbana' or features != 'Riesgo_Rural':\n",
    "        descripcion = arcpy.Describe(features)\n",
    "        expresion = \"'\" + descripcion.name +\"'\"\n",
    "        arcpy.management.AddField(features, nombre_campo, 'TEXT', field_length = 100, field_alias = 'Nombre Capa Origen')\n",
    "        arcpy.management.CalculateField(features, nombre_campo, expresion, expression_type = 'PYTHON3')\n",
    "        print(\"Se actualiza la capa {0}\".format(features))\n",
    "    else:\n",
    "        print(\"No actualizado\")"
   ]
  },
  {
   "attachments": {},
   "cell_type": "markdown",
   "metadata": {},
   "source": [
    "<h4>Unificación de capa por temática</h4>"
   ]
  },
  {
   "cell_type": "code",
   "execution_count": null,
   "metadata": {},
   "outputs": [],
   "source": [
    "capa_vulnerabilidad_urbana = 'Vulnerabilidad_Urbana'\n",
    "capa_vulnerabilidad_rural = 'Vulnerabilidad_Rural'\n",
    "capa_amenaza_urbano = 'Amenaza_Urbano'\n",
    "capa_amenaza_rural = 'Amenaza_Rural'\n",
    "capa_riesgo_urbano = 'Riesgo_Urbano'\n",
    "capa_riesgo_rural = 'Riesgo_Rural'\n",
    "\n",
    "lista_capas_vulnerabilidad_urbana = []\n",
    "lista_capas_vulnerabilidad_rural = []\n",
    "lista_capas_amenaza_urbano = []\n",
    "lista_capas_amenaza_rural = []\n",
    "lista_capas_riesgo_urbano = []\n",
    "lista_capas_riesgo_rural = []\n",
    "\n",
    "for features in lista_capas_convertidas:    \n",
    "    if 'Vulnerabilidad_Urbano' in features:\n",
    "        lista_capas_vulnerabilidad_urbana.append(features)\n",
    "    elif 'Vulnerabilidad_Rural' in features:\n",
    "        lista_capas_vulnerabilidad_rural.append(features)\n",
    "    elif 'Amenaza_Urbano' in features:\n",
    "        lista_capas_amenaza_urbano.append(features)\n",
    "    elif 'Amenaza_Rural' in features:\n",
    "        lista_capas_amenaza_rural.append(features)\n",
    "    elif 'Riesgo_Urbano' in features:\n",
    "        lista_capas_riesgo_urbano.append(features)\n",
    "    elif 'Riesgo_Rural' in features:\n",
    "        lista_capas_riesgo_rural.append(features)\n",
    "    else:\n",
    "        print(\"La capa {0}, no se unifico\".format(features))\n",
    "        \n",
    "arcpy.management.Merge(lista_capas_vulnerabilidad_urbana, capa_vulnerabilidad_urbana)\n",
    "print(\"Capa {0} unificada en {1}\".format(features, capa_vulnerabilidad_urbana))\n",
    "\n",
    "arcpy.management.Merge(lista_capas_vulnerabilidad_rural, capa_vulnerabilidad_rural)\n",
    "print(\"Capa {0} unificada en {1}\".format(features, capa_vulnerabilidad_rural))\n",
    "\n",
    "arcpy.management.Merge(lista_capas_amenaza_urbano, capa_amenaza_urbano)\n",
    "print(\"Capa {0} unificada en {1}\".format(features, capa_amenaza_urbano))\n",
    "\n",
    "arcpy.management.Merge(lista_capas_amenaza_rural, capa_amenaza_rural)\n",
    "print(\"Capa {0} unificada en {1}\".format(features, capa_amenaza_rural))\n",
    "\n",
    "arcpy.management.Merge(lista_capas_riesgo_urbano, capa_riesgo_urbano)\n",
    "print(\"Capa {0} unificada en {1}\".format(features, capa_riesgo_urbano))\n",
    "\n",
    "arcpy.management.Merge(lista_capas_riesgo_rural, capa_riesgo_rural)\n",
    "print(\"Capa {0} unificada en {1}\".format(features, capa_riesgo_rural))\n",
    "\n"
   ]
  }
 ],
 "metadata": {
  "kernelspec": {
   "display_name": "Python 3.9.12",
   "language": "python",
   "name": "python3"
  },
  "language_info": {
   "codemirror_mode": {
    "name": "ipython",
    "version": 3
   },
   "file_extension": ".py",
   "mimetype": "text/x-python",
   "name": "python",
   "nbconvert_exporter": "python",
   "pygments_lexer": "ipython3",
   "version": "3.9.12 (main, Apr  4 2022, 05:22:27) [MSC v.1916 64 bit (AMD64)]"
  },
  "orig_nbformat": 4,
  "vscode": {
   "interpreter": {
    "hash": "15d62e72c5d14bd073ab7bc0854742052db6830de21542cb2a2e1b067e39f5e5"
   }
  }
 },
 "nbformat": 4,
 "nbformat_minor": 2
}
