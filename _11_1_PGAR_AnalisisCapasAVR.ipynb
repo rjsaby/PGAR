{
 "cells": [
  {
   "cell_type": "code",
   "execution_count": null,
   "metadata": {},
   "outputs": [],
   "source": [
    "import os\n",
    "import arcpy\n",
    "import pandas as pd\n",
    "import numpy as np\n",
    "import csv\n",
    "from arcgis.features import GeoAccessor, GeoSeriesAccessor\n",
    "\n",
    "arcpy.env.overwriteOutput = True"
   ]
  },
  {
   "cell_type": "code",
   "execution_count": null,
   "metadata": {},
   "outputs": [],
   "source": [
    "ruta_bd = r\"C:\\PUBLIC\\PGAR\\Resultados\\4.PRO\\PGAR\\PGAR_Inventario.gdb\"\n",
    "arcpy.env.workspace = ruta_bd\n",
    "\n",
    "capa_riego_rural = ['Riesgo_Urbano_Inundacion','Riesgo_Rural_Incendio','Riesgo_Rural_Remocion_Masa']\n",
    "campos_actualizar = ['Riesgo']\n",
    "nombre_dataset = ['Analisis_Vulnerabilidad_Riesgo_Inundacion',\n",
    "           'Analisis_Vulnerabilidad_Riesgo_Incendio',\n",
    "           'Analisis_Vulnerabilidad_Riesgo_Remocion_Masa']\n",
    "\n",
    "for dataset in arcpy.ListDatasets():\n",
    "    for seleccion_dataset in nombre_dataset:\n",
    "        if dataset == seleccion_dataset:\n",
    "            for capa in arcpy.ListFeatureClasses(feature_dataset=dataset):\n",
    "                for seleccion_capa in capa_riego_rural:\n",
    "                    if capa == seleccion_capa:\n",
    "                        with arcpy.da.UpdateCursor(capa, campos_actualizar) as cursor:\n",
    "                            for fila in cursor:\n",
    "                                if fila[0] == 'Muy Alto':\n",
    "                                    fila[0] = 'Muy alto'\n",
    "                                elif fila[0] == 'Muy Bajo':\n",
    "                                    fila[0] = 'Muy bajo'\n",
    "                                elif fila[0] == 'Alta':\n",
    "                                    fila[0] = 'Alto'\n",
    "                                elif fila[0] == 'Baja':\n",
    "                                    fila[0] = 'Bajo'\n",
    "                                elif fila[0] == 'Media':\n",
    "                                    fila[0] = 'Medio'\n",
    "                                elif fila[0] == 'Riesgo Alto':\n",
    "                                    fila[0] = 'Alto'\n",
    "                                elif fila[0] == 'Riesgo Medio':\n",
    "                                    fila[0] = 'Medio'\n",
    "                                elif fila[0] == 'Riesgo Bajo':\n",
    "                                    fila[0] = 'Bajo'\n",
    "                                elif fila[0] == None:\n",
    "                                    fila[0] = 'Sin información'\n",
    "                                else:\n",
    "                                    print(\"No se ejecuta cambio\")                            \n",
    "                                # ? Se actualiza el cursor con la actualización de la lista anterior\n",
    "                                cursor.updateRow(fila)"
   ]
  },
  {
   "cell_type": "code",
   "execution_count": null,
   "metadata": {},
   "outputs": [],
   "source": [
    "# Generación de DF\n",
    "df_variables_economicas_cundinamarca = pd.read_csv(\"Variables_Economicas_Cundinamarca_DANE.csv\", sep=\";\")\n",
    "\n",
    "# !! Primer Tratamiento\n",
    "df_variables_economicas_cundinamarca['codigo_municipio_dane'] = df_variables_economicas_cundinamarca.loc[:,['codigo_municipio_dane']].astype('str')\n",
    "\n",
    "# Migración a Feature Table\n",
    "nombre_tabla_variables_economicas = \"tbl_variables_economicas_dane\"\n",
    "ruta_salida_variables_economicas = os.path.join(arcpy.env.workspace, nombre_tabla_variables_economicas)\n",
    "df_variables_economicas_cundinamarca.spatial.to_table(location = ruta_salida_variables_economicas)\n",
    "\n",
    "# Creación de la relación entre Municipio Vs Variables Económicas\n",
    "r_municipio_variables = \"r_municipio_variables\"\n",
    "capa_municipio = \"municipio\"\n",
    "\n",
    "# ********************** Relación Capa - Temática **********************\n",
    "ruta_municipio = os.path.join(arcpy.env.workspace, capa_municipio)\n",
    "\n",
    "arcpy.management.CreateRelationshipClass(ruta_municipio, ruta_salida_variables_economicas, r_municipio_variables, 'SIMPLE', 'variable', 'municipio', \n",
    "                                         \"NONE\", 'ONE_TO_MANY', \"NONE\", 'codigo_municipio_dane', 'codigo_municipio_dane')\n",
    "print(\"Creada relación: {0}\".format(r_municipio_variables))"
   ]
  },
  {
   "attachments": {},
   "cell_type": "markdown",
   "metadata": {},
   "source": [
    "<h4>Población CAR</h4>"
   ]
  },
  {
   "cell_type": "code",
   "execution_count": null,
   "metadata": {},
   "outputs": [],
   "source": [
    "df_poblacion_car = pd.read_csv(\"poblacion_car.csv\", sep=\";\")\n",
    "\n",
    "# !! Tratamiento\n",
    "df_poblacion_car['codigo_municipio'] = df_poblacion_car.loc[:,['codigo_municipio']].astype('str')\n",
    "\n",
    "# Migración a Feature Table\n",
    "nombre_poblacion_car = \"tbl_poblacion_car\"\n",
    "ruta_salida_poblacion_car = os.path.join(arcpy.env.workspace, nombre_poblacion_car)\n",
    "df_poblacion_car.spatial.to_table(location = ruta_salida_poblacion_car)\n",
    "\n",
    "# Creación de la relación entre Municipio Vs Variables Económicas\n",
    "r_municipio_poblacion = \"r_municipio_poblacion\"\n",
    "\n",
    "# ********************** Relación Capa - Temática **********************\n",
    "ruta_municipio = os.path.join(arcpy.env.workspace, capa_municipio)\n",
    "\n",
    "arcpy.management.CreateRelationshipClass(ruta_municipio, ruta_salida_poblacion_car, r_municipio_poblacion, 'SIMPLE', 'poblacion', 'municipio', \n",
    "                                         \"NONE\", 'ONE_TO_ONE', \"NONE\", 'codigo_municipio_dane', 'codigo_municipio')\n",
    "print(\"Creada relación: {0}\".format(r_municipio_poblacion))"
   ]
  }
 ],
 "metadata": {
  "kernelspec": {
   "display_name": "Python 3",
   "language": "python",
   "name": "python3"
  },
  "language_info": {
   "codemirror_mode": {
    "name": "ipython",
    "version": 3
   },
   "file_extension": ".py",
   "mimetype": "text/x-python",
   "name": "python",
   "nbconvert_exporter": "python",
   "pygments_lexer": "ipython3",
   "version": "3.9.12"
  },
  "orig_nbformat": 4,
  "vscode": {
   "interpreter": {
    "hash": "15d62e72c5d14bd073ab7bc0854742052db6830de21542cb2a2e1b067e39f5e5"
   }
  }
 },
 "nbformat": 4,
 "nbformat_minor": 2
}
