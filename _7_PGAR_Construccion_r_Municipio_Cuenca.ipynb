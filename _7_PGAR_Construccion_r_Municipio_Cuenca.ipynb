{
 "cells": [
  {
   "cell_type": "code",
   "execution_count": null,
   "metadata": {},
   "outputs": [],
   "source": [
    "import os\n",
    "import arcpy\n",
    "import pandas as pd\n",
    "import numpy as np\n",
    "from arcgis.features import GeoAccessor, GeoSeriesAccessor\n",
    "\n",
    "arcpy.env.overwriteOutput = True"
   ]
  },
  {
   "attachments": {},
   "cell_type": "markdown",
   "metadata": {},
   "source": [
    "<h4>Generación del DF</h4>"
   ]
  },
  {
   "cell_type": "code",
   "execution_count": null,
   "metadata": {},
   "outputs": [],
   "source": [
    "ruta_capa_municipio_cuenca = r\"D:\\PUBLIC\\PGAR\\Resultados\\4.PRO\\PGAR\\Local_BD_PGAR.gdb\\Interseccion_Municipio\\_3_2_Cuencas_escala_1_25000_CAR_Intersect_Mpio\"\n",
    "\n",
    "df_municipio_cuenca = pd.DataFrame.spatial.from_featureclass(ruta_capa_municipio_cuenca)"
   ]
  },
  {
   "attachments": {},
   "cell_type": "markdown",
   "metadata": {},
   "source": [
    "<h4>Preparación de nueva llave principal para la capa Municipio (dificultad 11001, Bogotá Urbana-Rural)</h4>"
   ]
  },
  {
   "cell_type": "code",
   "execution_count": null,
   "metadata": {},
   "outputs": [],
   "source": [
    "capa_municipio = r'D:\\PUBLIC\\PGAR\\Resultados\\4.PRO\\PGAR\\Local_BD_PGAR.gdb\\municipio'\n",
    "df_municipio = pd.DataFrame.spatial.from_featureclass(capa_municipio)\n",
    "\n",
    "tabla_direccion = r\"D:\\PUBLIC\\PGAR\\Resultados\\4.PRO\\PGAR\\Local_BD_PGAR.gdb\\tbl_direccion\"\n",
    "df_direccion = pd.DataFrame.spatial.from_table(tabla_direccion)\n",
    "\n",
    "join_municipio_direccion = pd.merge(df_municipio, df_direccion, how='inner',left_on='codigo_direccion', right_on='codigo_direccion')"
   ]
  },
  {
   "attachments": {},
   "cell_type": "markdown",
   "metadata": {},
   "source": [
    "<h4>Unificación Tabla -relación_capa_municipio-</h4>"
   ]
  },
  {
   "cell_type": "code",
   "execution_count": null,
   "metadata": {},
   "outputs": [],
   "source": [
    "# Agrupamiento, lo que en SQL es Group by\n",
    "df_tabla_cuenca = df_municipio_cuenca.groupby(['Codigo','CODDANE','Direccion']).agg({'Codigo':'count', 'CODDANE':'count','Direccion':'count'})\n",
    "\n",
    "# Se cambia el nombre de las columnas asociadas a los conteos (funcion -rename-)\n",
    "df_tabla_cuenca.rename({'Codigo':'conteo_codigo', 'CODDANE': 'conteo_CODDANE','Direccion':'conteo_Direccion'}, axis = 1, inplace = True)\n",
    "\n",
    "# # Se resetan los índices\n",
    "df_tabla_cuenca = df_tabla_cuenca.reset_index()\n",
    "\n",
    "# Se cambia el nombre de la columna -CODDANE-\n",
    "df_tabla_cuenca.rename({'CODDANE': 'codigo_municipio_dane', 'Codigo':'codigo_cuenca'}, axis = 1, inplace = True)\n",
    "\n",
    "#Cambio de tipo de letra a la columna -Direccion-\n",
    "df_tabla_cuenca['Direccion'] = df_tabla_cuenca['Direccion'].str.capitalize()\n",
    "\n",
    "df_tabla_cuenca = df_tabla_cuenca[['codigo_cuenca', 'codigo_municipio_dane', 'Direccion']]\n",
    "\n",
    "# Join para traer OBJECTID de la capa Municipio como llave principal para la relación\n",
    "# Join comparando dos campos\n",
    "df_nuevo_codigo = pd.merge(df_tabla_cuenca, join_municipio_direccion, how='inner',left_on=['Direccion','codigo_municipio_dane'], right_on=['nombre_direccion','codigo_municipio_dane'])\n",
    "\n",
    "# Generación del campo incremental de acuerdo al número de capas\n",
    "RID = []\n",
    "\n",
    "# Se suma uno por el header dentro del data frame\n",
    "for id_rid in range(1, df_nuevo_codigo.shape[0]+1):\n",
    "    RID.append(id_rid)\n",
    " \n",
    "# Se utiliza el método .loc para incorporar la columna, que en este caso fue la lista que se creo previamente   \n",
    "df_nuevo_codigo.loc[:,'RID'] = RID\n",
    "\n",
    "# Reselección de campos\n",
    "df_tabla_cuenca_estandarizada = df_nuevo_codigo.loc[:, ['codigo_cuenca','codigo_municipio','RID']]\n",
    "\n",
    "# Se estandariza la tabla final\n",
    "df_r_municipio_cuenca = df_tabla_cuenca_estandarizada[['codigo_cuenca','codigo_municipio','RID']]\n",
    "\n",
    "# Se reemplaza el caracter - por _ en los códigos de las cuencas\n",
    "df_r_municipio_cuenca.loc[:, 'codigo_cuenca'] = df_r_municipio_cuenca.loc[:,'codigo_cuenca'].str.replace('-', '_')\n",
    "df_r_municipio_cuenca['codigo_municipio'] = df_r_municipio_cuenca.loc[:,['codigo_municipio']].astype('int')"
   ]
  },
  {
   "attachments": {},
   "cell_type": "markdown",
   "metadata": {},
   "source": [
    "<h4>Exportado a .csv de la capa que relaciona -cuenca- con -municipio-</h4>\n",
    "<p>Este .csv debe será migrado posteriormente cuando se cree la relación M:N<p>"
   ]
  },
  {
   "cell_type": "code",
   "execution_count": null,
   "metadata": {},
   "outputs": [],
   "source": [
    "nombre_csv_municipio_cuenca = 'r_municipio_cuenca.csv'\n",
    "df_r_municipio_cuenca.to_csv(nombre_csv_municipio_cuenca, index = False, encoding = 'UTF-8')\n",
    "print(\"------------------------------- Se exporta el .csv: -r_municipio_cuenca- -------------------------------\")"
   ]
  }
 ],
 "metadata": {
  "kernelspec": {
   "display_name": "Python 3",
   "language": "python",
   "name": "python3"
  },
  "language_info": {
   "codemirror_mode": {
    "name": "ipython",
    "version": 3
   },
   "file_extension": ".py",
   "mimetype": "text/x-python",
   "name": "python",
   "nbconvert_exporter": "python",
   "pygments_lexer": "ipython3",
   "version": "3.9.12 (main, Apr  4 2022, 05:22:27) [MSC v.1916 64 bit (AMD64)]"
  },
  "orig_nbformat": 4,
  "vscode": {
   "interpreter": {
    "hash": "15d62e72c5d14bd073ab7bc0854742052db6830de21542cb2a2e1b067e39f5e5"
   }
  }
 },
 "nbformat": 4,
 "nbformat_minor": 2
}
