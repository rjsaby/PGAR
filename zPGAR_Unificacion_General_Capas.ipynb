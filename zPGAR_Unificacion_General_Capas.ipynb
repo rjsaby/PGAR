{
 "cells": [
  {
   "attachments": {},
   "cell_type": "markdown",
   "metadata": {},
   "source": [
    "<h4>Librerías</h4>"
   ]
  },
  {
   "cell_type": "code",
   "execution_count": null,
   "metadata": {},
   "outputs": [],
   "source": [
    "import os\n",
    "import arcpy\n",
    "import pathlib"
   ]
  },
  {
   "attachments": {},
   "cell_type": "markdown",
   "metadata": {},
   "source": [
    "<h4>Creación de base de datos y parametrización de rutas</h4>"
   ]
  },
  {
   "cell_type": "code",
   "execution_count": null,
   "metadata": {},
   "outputs": [],
   "source": [
    "# Ruta del directorio donde se localizan los archivos geojson.\n",
    "ruta_geojson = r'C:\\Users\\rodian.saby\\OneDrive\\Documentos\\docsProyectos\\3.PGAR\\Insumos\\Capas_Geograficas\\_5_Areas_Protegidas'\n",
    "# Espacio de trabajo, asociada a la base de datos donde se almanacenarán los geojson convertidos a feature class\n",
    "arcpy.env.workspace = r\"C:\\Users\\rodian.saby\\OneDrive\\Documentos\\docsProyectos\\3.PGAR\\Insumos\\Capas_Geograficas\\_5_Areas_Protegidas\\_5_Areas_Protegidas.gdb\"\n",
    "\n",
    "# Borrado de capas dentro de la base de datos existente\n",
    "if arcpy.Exists(arcpy.env.workspace):\n",
    "    for capas in arcpy.ListFeatureClasses():\n",
    "        arcpy.management.Delete(capas)\n",
    "        print(\"Se borra la información registrada en la capa: {0}\".format(capas))\n",
    "else:\n",
    "    print(\"No hay capas alojadas en la base de datos\")"
   ]
  },
  {
   "attachments": {},
   "cell_type": "markdown",
   "metadata": {},
   "source": [
    "<h4>Parametrización de las rutas donde se localizan los .geojson</h4>"
   ]
  },
  {
   "cell_type": "code",
   "execution_count": null,
   "metadata": {},
   "outputs": [],
   "source": [
    "nombre_geojson = os.listdir(ruta_geojson)\n",
    "lista_ruta_archivo = []\n",
    "for rutas in nombre_geojson:\n",
    "    lista_ruta_archivo.append(os.path.join(ruta_geojson, rutas))   "
   ]
  },
  {
   "attachments": {},
   "cell_type": "markdown",
   "metadata": {},
   "source": [
    "<h4>Conversión de .geojson a Feature Class</h4>"
   ]
  },
  {
   "cell_type": "code",
   "execution_count": null,
   "metadata": {},
   "outputs": [],
   "source": [
    "for generacion_feature in lista_ruta_archivo:\n",
    "    if pathlib.Path(generacion_feature).suffix == '.geojson':\n",
    "        nombre_geojson = os.path.split(generacion_feature)\n",
    "        nombre_geojson_parametrizado = (nombre_geojson[1].split(\".\")[0]).replace(\" \",\"_\")\n",
    "        nombre_geojson_parametrizado = (nombre_geojson[1].split(\".\")[0]).replace(\"-\",\"_\")\n",
    "        nombre_geojson_parametrizado = (nombre_geojson[1].split(\".\")[0]).replace(\"%\",\"_\")\n",
    "        if nombre_geojson_parametrizado != os.path.basename(ruta_geojson):\n",
    "            salida_feature = os.path.join(arcpy.env.workspace, nombre_geojson_parametrizado)\n",
    "            arcpy.conversion.JSONToFeatures(generacion_feature, salida_feature, 'POLYGON')\n",
    "            print(\"geojson {0} convertido al feature {1}\".format(nombre_geojson, nombre_geojson_parametrizado))\n",
    "        else:\n",
    "            print(\"Es la base de datos\")  "
   ]
  },
  {
   "attachments": {},
   "cell_type": "markdown",
   "metadata": {},
   "source": [
    "<h4>Creación y registro de nombre del feature class en cada una de las capas convertidas</h4>"
   ]
  },
  {
   "cell_type": "code",
   "execution_count": null,
   "metadata": {},
   "outputs": [],
   "source": [
    "lista_capas_convertidas = arcpy.ListFeatureClasses()\n",
    "nombre_campo = 'nombre_capa'\n",
    "\n",
    "for features in lista_capas_convertidas:\n",
    "    descripcion = arcpy.Describe(features)\n",
    "    expresion = \"'\" + descripcion.name +\"'\"\n",
    "    arcpy.management.AddField(features, nombre_campo, 'TEXT', field_length = 100, field_alias = 'Nombre Capa Origen')\n",
    "    arcpy.management.CalculateField(features, nombre_campo, expresion, expression_type = 'PYTHON3')\n",
    "    print(\"Se actualiza la capa {0}\".format(features))"
   ]
  }
 ],
 "metadata": {
  "kernelspec": {
   "display_name": "Python 3",
   "language": "python",
   "name": "python3"
  },
  "language_info": {
   "codemirror_mode": {
    "name": "ipython",
    "version": 3
   },
   "file_extension": ".py",
   "mimetype": "text/x-python",
   "name": "python",
   "nbconvert_exporter": "python",
   "pygments_lexer": "ipython3",
   "version": "3.9.12 (main, Apr  4 2022, 05:22:27) [MSC v.1916 64 bit (AMD64)]"
  },
  "orig_nbformat": 4,
  "vscode": {
   "interpreter": {
    "hash": "15d62e72c5d14bd073ab7bc0854742052db6830de21542cb2a2e1b067e39f5e5"
   }
  }
 },
 "nbformat": 4,
 "nbformat_minor": 2
}
