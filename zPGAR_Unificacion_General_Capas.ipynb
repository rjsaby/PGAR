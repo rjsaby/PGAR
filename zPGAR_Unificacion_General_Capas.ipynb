{
 "cells": [
  {
   "attachments": {},
   "cell_type": "markdown",
   "metadata": {},
   "source": [
    "<h4>Librerías</h4>"
   ]
  },
  {
   "cell_type": "code",
   "execution_count": 22,
   "metadata": {},
   "outputs": [],
   "source": [
    "import os\n",
    "import arcpy\n",
    "import pathlib\n",
    "import geopandas as gpd\n",
    "import fiona\n",
    "import pandas as pd\n",
    "from arcgis.features import GeoAccessor, GeoSeriesAccessor"
   ]
  },
  {
   "attachments": {},
   "cell_type": "markdown",
   "metadata": {},
   "source": [
    "<h4>Creación de base de datos y parametrización de rutas</h4>"
   ]
  },
  {
   "cell_type": "code",
   "execution_count": 23,
   "metadata": {},
   "outputs": [
    {
     "name": "stdout",
     "output_type": "stream",
     "text": [
      "Se borra la información registrada en la capa: establecimientos_industria_comercio\n",
      "Se borra la información registrada en la capa: estaciones_transporte_masivo\n",
      "Se borra la información registrada en la capa: limite_comuna_corregimiento\n",
      "Se borra la información registrada en la capa: lineas_sistema_transporte\n",
      "Se borra la información registrada en la capa: observatorio_inmobiliario\n",
      "Se borra la información registrada en la capa: paradas_transporte_publico\n",
      "Se borra la información registrada en la capa: rutas_unificadas_transporte_publico\n"
     ]
    }
   ],
   "source": [
    "# Ruta del directorio donde se localizan los archivos geojson.\n",
    "ruta_geojson = r'D:\\PUBLIC\\3_Camara_Medellin\\3_1_Insumos\\3_1_1_GeoMedellin\\zGeoJSON'\n",
    "# Espacio de trabajo, asociada a la base de datos donde se almanacenarán los geojson convertidos a feature class\n",
    "arcpy.env.workspace = r\"D:\\PUBLIC\\3_Camara_Medellin\\3_2_Resultados\\3_2_2_BD\\Insumos_GeoMedellin.gdb\"\n",
    "\n",
    "# Borrado de capas dentro de la base de datos existente\n",
    "if arcpy.Exists(arcpy.env.workspace):\n",
    "    for capas in arcpy.ListFeatureClasses():\n",
    "        arcpy.management.Delete(capas)\n",
    "        print(\"Se borra la información registrada en la capa: {0}\".format(capas))\n",
    "else:\n",
    "    print(\"No hay capas alojadas en la base de datos\")"
   ]
  },
  {
   "attachments": {},
   "cell_type": "markdown",
   "metadata": {},
   "source": [
    "<h4>Parametrización de las rutas donde se localizan los .geojson</h4>"
   ]
  },
  {
   "cell_type": "code",
   "execution_count": 24,
   "metadata": {},
   "outputs": [],
   "source": [
    "nombre_geojson = os.listdir(ruta_geojson)\n",
    "lista_ruta_archivo = []\n",
    "for rutas in nombre_geojson:\n",
    "    lista_ruta_archivo.append(os.path.join(ruta_geojson, rutas))   "
   ]
  },
  {
   "attachments": {},
   "cell_type": "markdown",
   "metadata": {},
   "source": [
    "<h4>Conversión de .geojson a Feature Class</h4>"
   ]
  },
  {
   "cell_type": "code",
   "execution_count": 25,
   "metadata": {},
   "outputs": [
    {
     "name": "stdout",
     "output_type": "stream",
     "text": [
      "geojson ('D:\\\\PUBLIC\\\\3_Camara_Medellin\\\\3_1_Insumos\\\\3_1_1_GeoMedellin\\\\zGeoJSON', 'areas_declaratoria_proteccion.geojson') convertido al feature areas_declaratoria_proteccion\n",
      "geojson ('D:\\\\PUBLIC\\\\3_Camara_Medellin\\\\3_1_Insumos\\\\3_1_1_GeoMedellin\\\\zGeoJSON', 'ciclorutas.geojson') convertido al feature ciclorutas\n",
      "geojson ('D:\\\\PUBLIC\\\\3_Camara_Medellin\\\\3_1_Insumos\\\\3_1_1_GeoMedellin\\\\zGeoJSON', 'clasificacion_suelo.geojson') convertido al feature clasificacion_suelo\n",
      "geojson ('D:\\\\PUBLIC\\\\3_Camara_Medellin\\\\3_1_Insumos\\\\3_1_1_GeoMedellin\\\\zGeoJSON', 'corredores_transporte_pasajeros.geojson') convertido al feature corredores_transporte_pasajeros\n",
      "geojson ('D:\\\\PUBLIC\\\\3_Camara_Medellin\\\\3_1_Insumos\\\\3_1_1_GeoMedellin\\\\zGeoJSON', 'establecimientos_industria_comercio.geojson') convertido al feature establecimientos_industria_comercio\n",
      "geojson ('D:\\\\PUBLIC\\\\3_Camara_Medellin\\\\3_1_Insumos\\\\3_1_1_GeoMedellin\\\\zGeoJSON', 'estaciones_transporte_masivo.geojson') convertido al feature estaciones_transporte_masivo\n",
      "geojson ('D:\\\\PUBLIC\\\\3_Camara_Medellin\\\\3_1_Insumos\\\\3_1_1_GeoMedellin\\\\zGeoJSON', 'estrato_socioeconomico.geojson') convertido al feature estrato_socioeconomico\n",
      "geojson ('D:\\\\PUBLIC\\\\3_Camara_Medellin\\\\3_1_Insumos\\\\3_1_1_GeoMedellin\\\\zGeoJSON', 'limite_comuna_corregimiento.geojson') convertido al feature limite_comuna_corregimiento\n",
      "geojson ('D:\\\\PUBLIC\\\\3_Camara_Medellin\\\\3_1_Insumos\\\\3_1_1_GeoMedellin\\\\zGeoJSON', 'lineas_sistema_transporte.geojson') convertido al feature lineas_sistema_transporte\n",
      "geojson ('D:\\\\PUBLIC\\\\3_Camara_Medellin\\\\3_1_Insumos\\\\3_1_1_GeoMedellin\\\\zGeoJSON', 'lotes.geojson') convertido al feature lotes\n",
      "geojson ('D:\\\\PUBLIC\\\\3_Camara_Medellin\\\\3_1_Insumos\\\\3_1_1_GeoMedellin\\\\zGeoJSON', 'manzana_catastral.geojson') convertido al feature manzana_catastral\n",
      "geojson ('D:\\\\PUBLIC\\\\3_Camara_Medellin\\\\3_1_Insumos\\\\3_1_1_GeoMedellin\\\\zGeoJSON', 'observatorio_inmobiliario.geojson') convertido al feature observatorio_inmobiliario\n",
      "geojson ('D:\\\\PUBLIC\\\\3_Camara_Medellin\\\\3_1_Insumos\\\\3_1_1_GeoMedellin\\\\zGeoJSON', 'paradas_transporte_publico.geojson') convertido al feature paradas_transporte_publico\n",
      "geojson ('D:\\\\PUBLIC\\\\3_Camara_Medellin\\\\3_1_Insumos\\\\3_1_1_GeoMedellin\\\\zGeoJSON', 'proyeccion_hogares_2018_2030.geojson') convertido al feature proyeccion_hogares_2018_2030\n",
      "geojson ('D:\\\\PUBLIC\\\\3_Camara_Medellin\\\\3_1_Insumos\\\\3_1_1_GeoMedellin\\\\zGeoJSON', 'proyeccion_viviendas_totales_2018_2030.geojson') convertido al feature proyeccion_viviendas_totales_2018_2030\n",
      "geojson ('D:\\\\PUBLIC\\\\3_Camara_Medellin\\\\3_1_Insumos\\\\3_1_1_GeoMedellin\\\\zGeoJSON', 'red_peatonal.geojson') convertido al feature red_peatonal\n",
      "geojson ('D:\\\\PUBLIC\\\\3_Camara_Medellin\\\\3_1_Insumos\\\\3_1_1_GeoMedellin\\\\zGeoJSON', 'rutas_unificadas_transporte_publico.geojson') convertido al feature rutas_unificadas_transporte_publico\n",
      "geojson ('D:\\\\PUBLIC\\\\3_Camara_Medellin\\\\3_1_Insumos\\\\3_1_1_GeoMedellin\\\\zGeoJSON', 'suelo_proteccion_para_la_produccion.geojson') convertido al feature suelo_proteccion_para_la_produccion\n",
      "geojson ('D:\\\\PUBLIC\\\\3_Camara_Medellin\\\\3_1_Insumos\\\\3_1_1_GeoMedellin\\\\zGeoJSON', 'usos_generales_suelo_urbano.geojson') convertido al feature usos_generales_suelo_urbano\n",
      "geojson ('D:\\\\PUBLIC\\\\3_Camara_Medellin\\\\3_1_Insumos\\\\3_1_1_GeoMedellin\\\\zGeoJSON', 'usos_predio.geojson') convertido al feature usos_predio\n",
      "geojson ('D:\\\\PUBLIC\\\\3_Camara_Medellin\\\\3_1_Insumos\\\\3_1_1_GeoMedellin\\\\zGeoJSON', 'vias_urbano_rural.geojson') convertido al feature vias_urbano_rural\n",
      "geojson ('D:\\\\PUBLIC\\\\3_Camara_Medellin\\\\3_1_Insumos\\\\3_1_1_GeoMedellin\\\\zGeoJSON', 'zonas_homogeneas_geoeconomicas.geojson') convertido al feature zonas_homogeneas_geoeconomicas\n"
     ]
    }
   ],
   "source": [
    "# ? Diccionario que se usará en la transformación del geoJSON a Feature Class\n",
    "geometrias = {'Polygon':'POLYGON',\n",
    "              'MultiPolygon':'POLYGON',\n",
    "              'LineString':'POLYLINE',\n",
    "              'MultiLineString':'POLYLINE',\n",
    "              'Point':'POINT'}\n",
    "\n",
    "for generacion_feature in lista_ruta_archivo:\n",
    "    if pathlib.Path(generacion_feature).suffix == '.geojson':\n",
    "        nombre_geojson = os.path.split(generacion_feature)\n",
    "        nombre_geojson_parametrizado = (nombre_geojson[1].split(\".\")[0]).replace(\" \",\"_\")\n",
    "        nombre_geojson_parametrizado = (nombre_geojson[1].split(\".\")[0]).replace(\"-\",\"_\")\n",
    "        nombre_geojson_parametrizado = (nombre_geojson[1].split(\".\")[0]).replace(\"%\",\"_\")\n",
    "        if nombre_geojson_parametrizado != os.path.basename(ruta_geojson):\n",
    "            salida_feature = os.path.join(arcpy.env.workspace, nombre_geojson_parametrizado)\n",
    "            # ? Se exporta el geoJSON a GeoDataFrame\n",
    "            df = gpd.read_file(generacion_feature)\n",
    "            # ? Por medio del atributo .geom_type se extrae el tipo de geometría para cada registro\n",
    "            tipo_geometria = df.geom_type\n",
    "            # ? Como las geometrias varías si son simples o multiples, se seleccina la que se almacena en la primera fila\n",
    "            primer_registro_tipo_geometria = tipo_geometria.loc[0]\n",
    "            # ? Se recorre el diccionario\n",
    "            for valor, llave in geometrias.items():\n",
    "                # ? Se compara la geometría seleccionada con el valor almacenado en el diccionario\n",
    "                if primer_registro_tipo_geometria == valor:\n",
    "                    # ? Se genera el feature class, tomando como variable el valor de la geometría\n",
    "                    arcpy.conversion.JSONToFeatures(generacion_feature, salida_feature, llave)\n",
    "                    print(\"geojson {0} convertido al feature {1}\".format(nombre_geojson, nombre_geojson_parametrizado))\n",
    "    elif pathlib.Path(generacion_feature).suffix == '.json':\n",
    "        nombre_geojson = os.path.split(generacion_feature)\n",
    "        nombre_geojson_parametrizado = (nombre_geojson[1].split(\".\")[0]).replace(\" \",\"_\")\n",
    "        nombre_geojson_parametrizado = (nombre_geojson[1].split(\".\")[0]).replace(\"-\",\"_\")\n",
    "        nombre_geojson_parametrizado = (nombre_geojson[1].split(\".\")[0]).replace(\"%\",\"_\")\n",
    "        if nombre_geojson_parametrizado != os.path.basename(ruta_geojson):\n",
    "            salida_feature = os.path.join(arcpy.env.workspace, nombre_geojson_parametrizado)\n",
    "            # ? Se exporta el geoJSON a GeoDataFrame\n",
    "            df = gpd.read_file(generacion_feature)\n",
    "            # ? Por medio del atributo .geom_type se extrae el tipo de geometría para cada registro\n",
    "            tipo_geometria = df.geom_type\n",
    "            # ? Como las geometrias varías si son simples o multiples, se seleccina la que se almacena en la primera fila\n",
    "            primer_registro_tipo_geometria = tipo_geometria.loc[0]\n",
    "            # ? Se recorre el diccionario\n",
    "            for valor, llave in geometrias.items():\n",
    "                # ? Se compara la geometría seleccionada con el valor almacenado en el diccionario\n",
    "                if primer_registro_tipo_geometria == valor:\n",
    "                    # ? Se genera el feature class, tomando como variable el valor de la geometría\n",
    "                    arcpy.conversion.JSONToFeatures(generacion_feature, salida_feature, llave)\n",
    "                    print(\"json {0} convertido al feature {1}\".format(nombre_geojson, nombre_geojson_parametrizado))\n",
    "    else:\n",
    "        print(\"Es la base de datos\")  "
   ]
  },
  {
   "attachments": {},
   "cell_type": "markdown",
   "metadata": {},
   "source": [
    "<h4>Creación y registro de nombre del feature class en cada una de las capas convertidas</h4>"
   ]
  },
  {
   "cell_type": "code",
   "execution_count": 26,
   "metadata": {},
   "outputs": [
    {
     "name": "stdout",
     "output_type": "stream",
     "text": [
      "Se actualiza la capa areas_declaratoria_proteccion\n",
      "Se actualiza la capa ciclorutas\n",
      "Se actualiza la capa clasificacion_suelo\n",
      "Se actualiza la capa corredores_transporte_pasajeros\n",
      "Se actualiza la capa establecimientos_industria_comercio\n",
      "Se actualiza la capa estaciones_transporte_masivo\n",
      "Se actualiza la capa estrato_socioeconomico\n",
      "Se actualiza la capa limite_comuna_corregimiento\n",
      "Se actualiza la capa lineas_sistema_transporte\n",
      "Se actualiza la capa lotes\n",
      "Se actualiza la capa manzana_catastral\n",
      "Se actualiza la capa observatorio_inmobiliario\n",
      "Se actualiza la capa paradas_transporte_publico\n",
      "Se actualiza la capa proyeccion_hogares_2018_2030\n",
      "Se actualiza la capa proyeccion_viviendas_totales_2018_2030\n",
      "Se actualiza la capa red_peatonal\n",
      "Se actualiza la capa rutas_unificadas_transporte_publico\n",
      "Se actualiza la capa suelo_proteccion_para_la_produccion\n",
      "Se actualiza la capa usos_generales_suelo_urbano\n",
      "Se actualiza la capa usos_predio\n",
      "Se actualiza la capa vias_urbano_rural\n",
      "Se actualiza la capa zonas_homogeneas_geoeconomicas\n"
     ]
    }
   ],
   "source": [
    "lista_capas_convertidas = arcpy.ListFeatureClasses()\n",
    "nombre_campo = 'nombre_capa'\n",
    "\n",
    "for features in lista_capas_convertidas:\n",
    "    descripcion = arcpy.Describe(features)\n",
    "    expresion = \"'\" + descripcion.name +\"'\"\n",
    "    arcpy.management.AddField(features, nombre_campo, 'TEXT', field_length = 100, field_alias = 'Nombre Capa Origen')\n",
    "    arcpy.management.CalculateField(features, nombre_campo, expresion, expression_type = 'PYTHON3')\n",
    "    print(\"Se actualiza la capa {0}\".format(features))"
   ]
  }
 ],
 "metadata": {
  "kernelspec": {
   "display_name": "Python 3",
   "language": "python",
   "name": "python3"
  },
  "language_info": {
   "codemirror_mode": {
    "name": "ipython",
    "version": 3
   },
   "file_extension": ".py",
   "mimetype": "text/x-python",
   "name": "python",
   "nbconvert_exporter": "python",
   "pygments_lexer": "ipython3",
   "version": "3.9.16"
  },
  "orig_nbformat": 4,
  "vscode": {
   "interpreter": {
    "hash": "15d62e72c5d14bd073ab7bc0854742052db6830de21542cb2a2e1b067e39f5e5"
   }
  }
 },
 "nbformat": 4,
 "nbformat_minor": 2
}
