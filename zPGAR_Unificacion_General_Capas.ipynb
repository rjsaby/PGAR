{
 "cells": [
  {
   "attachments": {},
   "cell_type": "markdown",
   "metadata": {},
   "source": [
    "<h4>Librerías</h4>"
   ]
  },
  {
   "cell_type": "code",
   "execution_count": 357,
   "metadata": {},
   "outputs": [],
   "source": [
    "import os\n",
    "import arcpy\n",
    "import pathlib\n",
    "import geopandas as gpd\n",
    "import fiona\n",
    "import pandas as pd\n",
    "from arcgis.features import GeoAccessor, GeoSeriesAccessor"
   ]
  },
  {
   "attachments": {},
   "cell_type": "markdown",
   "metadata": {},
   "source": [
    "<h4>Creación de base de datos y parametrización de rutas</h4>"
   ]
  },
  {
   "cell_type": "code",
   "execution_count": 358,
   "metadata": {},
   "outputs": [
    {
     "name": "stdout",
     "output_type": "stream",
     "text": [
      "Se borra la información registrada en la capa: _16_3_Infraestructura_Vial\n",
      "Se borra la información registrada en la capa: _16_4_Laguna\n",
      "Se borra la información registrada en la capa: _16_5_Plantas_Tratamiento_Agua_Potable\n",
      "Se borra la información registrada en la capa: _16_6_Red_Vial_Nacional\n"
     ]
    }
   ],
   "source": [
    "# Ruta del directorio donde se localizan los archivos geojson.\n",
    "ruta_geojson = r'C:\\PUBLIC\\PGAR\\Insumos\\Capas_Geograficas\\_16_Infraestuctura'\n",
    "# Espacio de trabajo, asociada a la base de datos donde se almanacenarán los geojson convertidos a feature class\n",
    "arcpy.env.workspace = r\"C:\\PUBLIC\\PGAR\\Insumos\\Capas_Geograficas\\_16_Infraestuctura\\_16_Infraestuctura.gdb\"\n",
    "\n",
    "# Borrado de capas dentro de la base de datos existente\n",
    "if arcpy.Exists(arcpy.env.workspace):\n",
    "    for capas in arcpy.ListFeatureClasses():\n",
    "        arcpy.management.Delete(capas)\n",
    "        print(\"Se borra la información registrada en la capa: {0}\".format(capas))\n",
    "else:\n",
    "    print(\"No hay capas alojadas en la base de datos\")"
   ]
  },
  {
   "attachments": {},
   "cell_type": "markdown",
   "metadata": {},
   "source": [
    "<h4>Parametrización de las rutas donde se localizan los .geojson</h4>"
   ]
  },
  {
   "cell_type": "code",
   "execution_count": 359,
   "metadata": {},
   "outputs": [],
   "source": [
    "nombre_geojson = os.listdir(ruta_geojson)\n",
    "lista_ruta_archivo = []\n",
    "for rutas in nombre_geojson:\n",
    "    lista_ruta_archivo.append(os.path.join(ruta_geojson, rutas))   "
   ]
  },
  {
   "attachments": {},
   "cell_type": "markdown",
   "metadata": {},
   "source": [
    "<h4>Conversión de .geojson a Feature Class</h4>"
   ]
  },
  {
   "cell_type": "code",
   "execution_count": 360,
   "metadata": {},
   "outputs": [
    {
     "name": "stdout",
     "output_type": "stream",
     "text": [
      "geojson ('C:\\\\PUBLIC\\\\PGAR\\\\Insumos\\\\Capas_Geograficas\\\\_16_Infraestuctura', '_16_1_Disposicion_Regional.geojson') convertido al feature _16_1_Disposicion_Regional\n",
      "geojson ('C:\\\\PUBLIC\\\\PGAR\\\\Insumos\\\\Capas_Geograficas\\\\_16_Infraestuctura', '_16_2_Embalse.geojson') convertido al feature _16_2_Embalse\n",
      "geojson ('C:\\\\PUBLIC\\\\PGAR\\\\Insumos\\\\Capas_Geograficas\\\\_16_Infraestuctura', '_16_3_Infraestructura_Vial.geojson') convertido al feature _16_3_Infraestructura_Vial\n",
      "geojson ('C:\\\\PUBLIC\\\\PGAR\\\\Insumos\\\\Capas_Geograficas\\\\_16_Infraestuctura', '_16_4_Laguna.geojson') convertido al feature _16_4_Laguna\n",
      "geojson ('C:\\\\PUBLIC\\\\PGAR\\\\Insumos\\\\Capas_Geograficas\\\\_16_Infraestuctura', '_16_5_Plantas_Tratamiento_Agua_Potable.geojson') convertido al feature _16_5_Plantas_Tratamiento_Agua_Potable\n",
      "geojson ('C:\\\\PUBLIC\\\\PGAR\\\\Insumos\\\\Capas_Geograficas\\\\_16_Infraestuctura', '_16_6_Red_Vial_Nacional.geojson') convertido al feature _16_6_Red_Vial_Nacional\n",
      "Es la base de datos\n"
     ]
    }
   ],
   "source": [
    "# ? Diccionario que se usará en la transformación del geoJSON a Feature Class\n",
    "geometrias = {'Polygon':'POLYGON',\n",
    "              'MultiPolygon':'POLYGON',\n",
    "              'LineString':'POLYLINE',\n",
    "              'MultiLineString':'POLYLINE',\n",
    "              'Point':'POINT'}\n",
    "\n",
    "for generacion_feature in lista_ruta_archivo:\n",
    "    if pathlib.Path(generacion_feature).suffix == '.geojson':\n",
    "        nombre_geojson = os.path.split(generacion_feature)\n",
    "        nombre_geojson_parametrizado = (nombre_geojson[1].split(\".\")[0]).replace(\" \",\"_\")\n",
    "        nombre_geojson_parametrizado = (nombre_geojson[1].split(\".\")[0]).replace(\"-\",\"_\")\n",
    "        nombre_geojson_parametrizado = (nombre_geojson[1].split(\".\")[0]).replace(\"%\",\"_\")\n",
    "        if nombre_geojson_parametrizado != os.path.basename(ruta_geojson):\n",
    "            salida_feature = os.path.join(arcpy.env.workspace, nombre_geojson_parametrizado)\n",
    "            # ? Se exporta el geoJSON a GeoDataFrame\n",
    "            df = gpd.read_file(generacion_feature)\n",
    "            # ? Por medio del atributo .geom_type se extrae el tipo de geometría para cada registro\n",
    "            tipo_geometria = df.geom_type\n",
    "            # ? Como las geometrias varías si son simples o multiples, se seleccina la que se almacena en la primera fila\n",
    "            primer_registro_tipo_geometria = tipo_geometria.loc[0]\n",
    "            # ? Se recorre el diccionario\n",
    "            for valor, llave in geometrias.items():\n",
    "                # ? Se compara la geometría seleccionada con el valor almacenado en el diccionario\n",
    "                if primer_registro_tipo_geometria == valor:\n",
    "                    # ? Se genera el feature class, tomando como variable el valor de la geometría\n",
    "                    arcpy.conversion.JSONToFeatures(generacion_feature, salida_feature, llave)\n",
    "                    print(\"geojson {0} convertido al feature {1}\".format(nombre_geojson, nombre_geojson_parametrizado))\n",
    "    elif pathlib.Path(generacion_feature).suffix == '.json':\n",
    "        nombre_geojson = os.path.split(generacion_feature)\n",
    "        nombre_geojson_parametrizado = (nombre_geojson[1].split(\".\")[0]).replace(\" \",\"_\")\n",
    "        nombre_geojson_parametrizado = (nombre_geojson[1].split(\".\")[0]).replace(\"-\",\"_\")\n",
    "        nombre_geojson_parametrizado = (nombre_geojson[1].split(\".\")[0]).replace(\"%\",\"_\")\n",
    "        if nombre_geojson_parametrizado != os.path.basename(ruta_geojson):\n",
    "            salida_feature = os.path.join(arcpy.env.workspace, nombre_geojson_parametrizado)\n",
    "            # ? Se exporta el geoJSON a GeoDataFrame\n",
    "            df = gpd.read_file(generacion_feature)\n",
    "            # ? Por medio del atributo .geom_type se extrae el tipo de geometría para cada registro\n",
    "            tipo_geometria = df.geom_type\n",
    "            # ? Como las geometrias varías si son simples o multiples, se seleccina la que se almacena en la primera fila\n",
    "            primer_registro_tipo_geometria = tipo_geometria.loc[0]\n",
    "            # ? Se recorre el diccionario\n",
    "            for valor, llave in geometrias.items():\n",
    "                # ? Se compara la geometría seleccionada con el valor almacenado en el diccionario\n",
    "                if primer_registro_tipo_geometria == valor:\n",
    "                    # ? Se genera el feature class, tomando como variable el valor de la geometría\n",
    "                    arcpy.conversion.JSONToFeatures(generacion_feature, salida_feature, llave)\n",
    "                    print(\"json {0} convertido al feature {1}\".format(nombre_geojson, nombre_geojson_parametrizado))\n",
    "    else:\n",
    "        print(\"Es la base de datos\")  "
   ]
  },
  {
   "attachments": {},
   "cell_type": "markdown",
   "metadata": {},
   "source": [
    "<h4>Creación y registro de nombre del feature class en cada una de las capas convertidas</h4>"
   ]
  },
  {
   "cell_type": "code",
   "execution_count": 361,
   "metadata": {},
   "outputs": [],
   "source": [
    "# lista_capas_convertidas = arcpy.ListFeatureClasses()\n",
    "# nombre_campo = 'nombre_capa'\n",
    "\n",
    "# for features in lista_capas_convertidas:\n",
    "#     descripcion = arcpy.Describe(features)\n",
    "#     expresion = \"'\" + descripcion.name +\"'\"\n",
    "#     arcpy.management.AddField(features, nombre_campo, 'TEXT', field_length = 100, field_alias = 'Nombre Capa Origen')\n",
    "#     arcpy.management.CalculateField(features, nombre_campo, expresion, expression_type = 'PYTHON3')\n",
    "#     print(\"Se actualiza la capa {0}\".format(features))"
   ]
  }
 ],
 "metadata": {
  "kernelspec": {
   "display_name": "Python 3",
   "language": "python",
   "name": "python3"
  },
  "language_info": {
   "codemirror_mode": {
    "name": "ipython",
    "version": 3
   },
   "file_extension": ".py",
   "mimetype": "text/x-python",
   "name": "python",
   "nbconvert_exporter": "python",
   "pygments_lexer": "ipython3",
   "version": "3.9.12"
  },
  "orig_nbformat": 4,
  "vscode": {
   "interpreter": {
    "hash": "15d62e72c5d14bd073ab7bc0854742052db6830de21542cb2a2e1b067e39f5e5"
   }
  }
 },
 "nbformat": 4,
 "nbformat_minor": 2
}
