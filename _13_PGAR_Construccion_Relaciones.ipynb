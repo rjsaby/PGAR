{
 "cells": [
  {
   "cell_type": "code",
   "execution_count": null,
   "metadata": {},
   "outputs": [],
   "source": [
    "import os\n",
    "import arcpy\n",
    "import pandas as pd\n",
    "import numpy as np\n",
    "import csv\n",
    "from arcgis.features import GeoAccessor, GeoSeriesAccessor\n",
    "\n",
    "arcpy.env.overwriteOutput = True"
   ]
  },
  {
   "attachments": {},
   "cell_type": "markdown",
   "metadata": {},
   "source": [
    "<h1>RELACIONES SOBRE LA LOCAL</h1>"
   ]
  },
  {
   "attachments": {},
   "cell_type": "markdown",
   "metadata": {},
   "source": [
    "<h4>Creación de relaciones M:N</h4>"
   ]
  },
  {
   "cell_type": "code",
   "execution_count": null,
   "metadata": {},
   "outputs": [],
   "source": [
    "arcpy.env.workspace = r\"D:\\PUBLIC\\PGAR\\Resultados\\4.PRO\\PGAR\\PGAR_Inventario.gdb\"\n",
    "\n",
    "feature_municipio = r\"D:\\PUBLIC\\PGAR\\Resultados\\4.PRO\\PGAR\\PGAR_Inventario.gdb\\municipio\"\n",
    "tabla_capa = r\"D:\\PUBLIC\\PGAR\\Resultados\\4.PRO\\PGAR\\PGAR_Inventario.gdb\\tbl_capa\"\n",
    "tabla_cuenca = r\"D:\\PUBLIC\\PGAR\\Resultados\\4.PRO\\PGAR\\PGAR_Inventario.gdb\\cuenca\"\n",
    "\n",
    "# ********************** Relación Municipio - Capa **********************\n",
    "# - Creación de la estrucutura de la relación\n",
    "r_municipio_capa = \"r_municipio_capa\"\n",
    "arcpy.management.CreateRelationshipClass(tabla_capa, feature_municipio, r_municipio_capa, 'SIMPLE', 'capa', 'municipio', \n",
    "                                         \"NONE\", 'MANY_TO_MANY', \"NONE\", 'codigo_capa', 'codigo_capa', 'codigo_municipio', 'codigo_municipio')\n",
    "print(\"Creada relación: {0}\".format(r_municipio_capa))\n",
    "\n",
    "# - Creación de la vista de tabla\n",
    "ruta_csv_relacion_municipio_capa = r\"D:\\PUBLIC\\PGAR\\Resultados\\2.Py\\r_municipio_capa.csv\"\n",
    "\n",
    "# - Unificación de registros\n",
    "arcpy.Append_management(ruta_csv_relacion_municipio_capa, r_municipio_capa, \"NO_TEST\")\n",
    "print(\" - Se incorporan los registros de la relación: {0}\".format(r_municipio_capa))\n",
    "\n",
    "# ********************** Relación Municipio - Cuenca **********************\n",
    "# - Creación de la estrucutura de la relación\n",
    "r_municipio_cuenca = \"r_municipio_cuenca\"\n",
    "arcpy.management.CreateRelationshipClass(tabla_cuenca, feature_municipio, r_municipio_cuenca, 'SIMPLE', 'cuenca', 'municipio', \n",
    "                                         \"NONE\", 'MANY_TO_MANY', \"NONE\", 'codigo_cuenca', 'codigo_cuenca', 'codigo_municipio', 'codigo_municipio')\n",
    "print(\"Creada relación: {0}\".format(r_municipio_cuenca))\n",
    "\n",
    "# - Creación de la vista de tabla\n",
    "ruta_csv_relacion_municipio_cuenca = r\"D:\\PUBLIC\\PGAR\\Resultados\\2.Py\\r_municipio_cuenca.csv\"\n",
    "\n",
    "# - Unificación de registros\n",
    "arcpy.Append_management(ruta_csv_relacion_municipio_cuenca, r_municipio_cuenca, \"NO_TEST\")\n",
    "print(\" - Se incorporan los registros de la relación: {0}\".format(r_municipio_cuenca))"
   ]
  },
  {
   "attachments": {},
   "cell_type": "markdown",
   "metadata": {},
   "source": [
    "<h4>Creación de relaciones N:1</h4>"
   ]
  },
  {
   "cell_type": "code",
   "execution_count": null,
   "metadata": {},
   "outputs": [],
   "source": [
    "tabla_tematica = r\"D:\\PUBLIC\\PGAR\\Resultados\\4.PRO\\PGAR\\PGAR_Inventario.gdb\\tbl_tematica\"\n",
    "tabla_direccion = r\"D:\\PUBLIC\\PGAR\\Resultados\\4.PRO\\PGAR\\PGAR_Inventario.gdb\\direccion\"\n",
    "tabla_departamento = r\"D:\\PUBLIC\\PGAR\\Resultados\\4.PRO\\PGAR\\PGAR_Inventario.gdb\\tbl_departamento\"\n",
    "tabla_fuente = r\"D:\\PUBLIC\\PGAR\\Resultados\\4.PRO\\PGAR\\PGAR_Inventario.gdb\\tbl_fuentes\"\n",
    "r_capa_tematica = \"r_capa_tematica\"\n",
    "r_direccion_municipio = \"r_direccion_municipio\"\n",
    "r_municipio_departamento = \"r_municipio_departamento\"\n",
    "r_capa_fuentes = \"r_capa_fuentes\"\n",
    "\n",
    "# ********************** Relación Capa - Temática **********************\n",
    "arcpy.management.CreateRelationshipClass(tabla_tematica, tabla_capa, r_capa_tematica, 'SIMPLE', 'capa', 'tematica', \n",
    "                                         \"NONE\", 'ONE_TO_MANY', \"NONE\", 'codigo_tematica', 'codigo_tematica')\n",
    "print(\"Creada relación: {0}\".format(r_capa_tematica))\n",
    "\n",
    "# ********************** Relación Dirección - Municipio **********************\n",
    "arcpy.management.CreateRelationshipClass(tabla_direccion, feature_municipio, r_direccion_municipio, 'SIMPLE', 'municipio', 'direccion', \n",
    "                                         \"NONE\", 'ONE_TO_MANY', \"NONE\", 'codigo_direccion', 'codigo_direccion')\n",
    "print(\"Creada relación: {0}\".format(r_direccion_municipio))\n",
    "\n",
    "# ********************** Relación Municipio - Departamento **********************\n",
    "arcpy.management.CreateRelationshipClass(tabla_departamento, feature_municipio, r_municipio_departamento, 'SIMPLE', 'municipio', 'departamento', \n",
    "                                         \"NONE\", 'ONE_TO_MANY', \"NONE\", 'codigo_departamento', 'codigo_departamento')\n",
    "print(\"Creada relación: {0}\".format(r_municipio_departamento))\n",
    "\n",
    "# ********************** Relación Capa - Fuentes **********************\n",
    "arcpy.management.CreateRelationshipClass(tabla_fuente, tabla_capa, r_capa_fuentes, 'SIMPLE', 'capa', 'fuente', \n",
    "                                         \"NONE\", 'ONE_TO_MANY', \"NONE\", 'codigo_fuente', 'codigo_fuente')\n",
    "print(\"Creada relación: {0}\".format(r_capa_fuentes))"
   ]
  },
  {
   "attachments": {},
   "cell_type": "markdown",
   "metadata": {},
   "source": [
    "<h4>Relación masiva entre la -tbl_capa- y cada una de las capas</h4>"
   ]
  },
  {
   "cell_type": "code",
   "execution_count": null,
   "metadata": {},
   "outputs": [],
   "source": [
    "tabla_capa = r\"D:\\PUBLIC\\PGAR\\Resultados\\4.PRO\\PGAR\\PGAR_Inventario.gdb\\tbl_capa\"\n",
    "\n",
    "# Proceso realizado en el archivo _9_...\n",
    "for datasets in arcpy.ListDatasets():\n",
    "    for capas in arcpy.ListFeatureClasses(feature_dataset=datasets):\n",
    "            arcpy.management.AlterField(capas, 'codigo_capa', 'codigo_capa_borrar')\n",
    "            arcpy.management.AddField(capas, 'codigo_capa', 'DOUBLE', field_alias = 'Código Capa')\n",
    "            arcpy.management.CalculateField(capas, 'codigo_capa', '!codigo_capa_borrar!')\n",
    "            print(\"-Código Capa- actualizado para: {0}\".format(capas))\n",
    "            \n",
    "for datasets in arcpy.ListDatasets():\n",
    "    for capas in arcpy.ListFeatureClasses(feature_dataset=datasets):        \n",
    "        ruta_capa = os.path.join(arcpy.env.workspace,datasets,capas)\n",
    "        if capas != 'municipio' or capas != 'cuenca':\n",
    "            nombre_relacion = \"r_capa_\" + capas\n",
    "            arcpy.management.CreateRelationshipClass(tabla_capa, ruta_capa, nombre_relacion, 'SIMPLE', 'registros', 'capa', \n",
    "                                                \"NONE\", 'ONE_TO_MANY', \"NONE\", 'codigo_capa', 'codigo_capa')\n",
    "            print(\"Creada relación: {0}\".format(nombre_relacion))"
   ]
  },
  {
   "attachments": {},
   "cell_type": "markdown",
   "metadata": {},
   "source": [
    "<h1>RELACIONES SOBRE LA EMPRESARIAL</h1>"
   ]
  },
  {
   "attachments": {},
   "cell_type": "markdown",
   "metadata": {},
   "source": [
    "<h4>Creación de relaciones M:N</h4>"
   ]
  },
  {
   "cell_type": "code",
   "execution_count": null,
   "metadata": {},
   "outputs": [],
   "source": [
    "arcpy.env.workspace = r\"D:\\PUBLIC\\PGAR\\Resultados\\4.PRO\\PGAR\\PGAR_Inventario.sde\"\n",
    "\n",
    "feature_municipio = r\"D:\\PUBLIC\\PGAR\\Resultados\\4.PRO\\PGAR\\PGAR_Inventario.sde\\municipio\"\n",
    "tabla_capa = r\"D:\\PUBLIC\\PGAR\\Resultados\\4.PRO\\PGAR\\PGAR_Inventario.sde\\tbl_capa\"\n",
    "tabla_cuenca = r\"D:\\PUBLIC\\PGAR\\Resultados\\4.PRO\\PGAR\\PGAR_Inventario.sde\\cuenca\"\n",
    "\n",
    "# ********************** Relación Municipio - Capa **********************\n",
    "# - Creación de la estrucutura de la relación\n",
    "r_municipio_capa = \"r_municipio_capa\"\n",
    "arcpy.management.CreateRelationshipClass(tabla_capa, feature_municipio, r_municipio_capa, 'SIMPLE', 'capa', 'municipio', \n",
    "                                         \"NONE\", 'MANY_TO_MANY', \"NONE\", 'codigo_capa', 'codigo_capa', 'codigo_municipio', 'codigo_municipio')\n",
    "print(\"Creada relación: {0}\".format(r_municipio_capa))\n",
    "\n",
    "# - Creación de la vista de tabla\n",
    "ruta_csv_relacion_municipio_capa = r\"D:\\PUBLIC\\PGAR\\Resultados\\2.Py\\r_municipio_capa.csv\"\n",
    "\n",
    "# - Unificación de registros\n",
    "arcpy.Append_management(ruta_csv_relacion_municipio_capa, r_municipio_capa, \"NO_TEST\")\n",
    "print(\" - Se incorporan los registros de la relación: {0}\".format(r_municipio_capa))\n",
    "\n",
    "# ********************** Relación Municipio - Cuenca **********************\n",
    "# - Creación de la estrucutura de la relación\n",
    "r_municipio_cuenca = \"r_municipio_cuenca\"\n",
    "arcpy.management.CreateRelationshipClass(tabla_cuenca, feature_municipio, r_municipio_cuenca, 'SIMPLE', 'cuenca', 'municipio', \n",
    "                                         \"NONE\", 'MANY_TO_MANY', \"NONE\", 'codigo_cuenca', 'codigo_cuenca', 'codigo_municipio', 'codigo_municipio')\n",
    "print(\"Creada relación: {0}\".format(r_municipio_cuenca))\n",
    "\n",
    "# - Creación de la vista de tabla\n",
    "ruta_csv_relacion_municipio_cuenca = r\"D:\\PUBLIC\\PGAR\\Resultados\\2.Py\\r_municipio_cuenca.csv\"\n",
    "\n",
    "# - Unificación de registros\n",
    "arcpy.Append_management(ruta_csv_relacion_municipio_cuenca, r_municipio_cuenca, \"NO_TEST\")\n",
    "print(\" - Se incorporan los registros de la relación: {0}\".format(r_municipio_cuenca))"
   ]
  },
  {
   "attachments": {},
   "cell_type": "markdown",
   "metadata": {},
   "source": [
    "<h4>Creación de relaciones N:1</h4>"
   ]
  },
  {
   "cell_type": "code",
   "execution_count": null,
   "metadata": {},
   "outputs": [],
   "source": [
    "tabla_tematica = r\"D:\\PUBLIC\\PGAR\\Resultados\\4.PRO\\PGAR\\PGAR_Inventario.sde\\tbl_tematica\"\n",
    "tabla_direccion = r\"D:\\PUBLIC\\PGAR\\Resultados\\4.PRO\\PGAR\\PGAR_Inventario.sde\\direccion\"\n",
    "tabla_departamento = r\"D:\\PUBLIC\\PGAR\\Resultados\\4.PRO\\PGAR\\PGAR_Inventario.sde\\tbl_departamento\"\n",
    "tabla_fuente = r\"D:\\PUBLIC\\PGAR\\Resultados\\4.PRO\\PGAR\\PGAR_Inventario.sde\\tbl_fuentes\"\n",
    "r_capa_tematica = \"r_capa_tematica\"\n",
    "r_direccion_municipio = \"r_direccion_municipio\"\n",
    "r_municipio_departamento = \"r_municipio_departamento\"\n",
    "r_capa_fuentes = \"r_capa_fuentes\"\n",
    "\n",
    "# ********************** Relación Capa - Temática **********************\n",
    "arcpy.management.CreateRelationshipClass(tabla_tematica, tabla_capa, r_capa_tematica, 'SIMPLE', 'capa', 'tematica', \n",
    "                                         \"NONE\", 'ONE_TO_MANY', \"NONE\", 'codigo_tematica', 'codigo_tematica')\n",
    "print(\"Creada relación: {0}\".format(r_capa_tematica))\n",
    "\n",
    "# ********************** Relación Dirección - Municipio **********************\n",
    "arcpy.management.CreateRelationshipClass(tabla_direccion, feature_municipio, r_direccion_municipio, 'SIMPLE', 'municipio', 'direccion', \n",
    "                                         \"NONE\", 'ONE_TO_MANY', \"NONE\", 'codigo_direccion', 'codigo_direccion')\n",
    "print(\"Creada relación: {0}\".format(r_direccion_municipio))\n",
    "\n",
    "# ********************** Relación Municipio - Departamento **********************\n",
    "arcpy.management.CreateRelationshipClass(tabla_departamento, feature_municipio, r_municipio_departamento, 'SIMPLE', 'municipio', 'departamento', \n",
    "                                         \"NONE\", 'ONE_TO_MANY', \"NONE\", 'codigo_departamento', 'codigo_departamento')\n",
    "print(\"Creada relación: {0}\".format(r_municipio_departamento))\n",
    "\n",
    "# ********************** Relación Capa - Fuentes **********************\n",
    "arcpy.management.CreateRelationshipClass(tabla_fuente, tabla_capa, r_capa_fuentes, 'SIMPLE', 'capa', 'fuente', \n",
    "                                         \"NONE\", 'ONE_TO_MANY', \"NONE\", 'codigo_fuente', 'codigo_fuente')\n",
    "print(\"Creada relación: {0}\".format(r_capa_fuentes))"
   ]
  },
  {
   "attachments": {},
   "cell_type": "markdown",
   "metadata": {},
   "source": [
    "<h4>Relación masiva entre la -tbl_capa- y cada una de las capas</h4>"
   ]
  },
  {
   "cell_type": "code",
   "execution_count": null,
   "metadata": {},
   "outputs": [],
   "source": [
    "arcpy.env.workspace = r\"D:\\PUBLIC\\PGAR\\Resultados\\4.PRO\\PGAR\\PGAR_Inventario.sde\"\n",
    "tabla_capa = r\"D:\\PUBLIC\\PGAR\\Resultados\\4.PRO\\PGAR\\PGAR_Inventario.sde\\tbl_capa\"\n",
    "\n",
    "# Proceso realizado en el archivo _9_...\n",
    "for datasets in arcpy.ListDatasets():\n",
    "    for capas in arcpy.ListFeatureClasses(feature_dataset=datasets):\n",
    "            arcpy.management.AlterField(capas, 'codigo_capa', 'codigo_capa_borrar')\n",
    "            arcpy.management.AddField(capas, 'codigo_capa', 'DOUBLE', field_alias = 'Código Capa')\n",
    "            arcpy.management.CalculateField(capas, 'codigo_capa', '!codigo_capa_borrar!')\n",
    "            print(\"-Código Capa- actualizado para: {0}\".format(capas))\n",
    "            \n",
    "for datasets in arcpy.ListDatasets():\n",
    "    for capas in arcpy.ListFeatureClasses(feature_dataset=datasets):        \n",
    "        ruta_capa = os.path.join(arcpy.env.workspace,datasets,capas)\n",
    "        if capas != 'municipio' or capas != 'cuenca':\n",
    "            nombre_relacion = \"r_capa_\" + capas\n",
    "            arcpy.management.CreateRelationshipClass(tabla_capa, ruta_capa, nombre_relacion, 'SIMPLE', 'registros', 'capa', \n",
    "                                                \"NONE\", 'ONE_TO_MANY', \"NONE\", 'codigo_capa', 'codigo_capa')\n",
    "            print(\"Creada relación: {0}\".format(nombre_relacion))"
   ]
  }
 ],
 "metadata": {
  "kernelspec": {
   "display_name": "Python 3",
   "language": "python",
   "name": "python3"
  },
  "language_info": {
   "codemirror_mode": {
    "name": "ipython",
    "version": 3
   },
   "file_extension": ".py",
   "mimetype": "text/x-python",
   "name": "python",
   "nbconvert_exporter": "python",
   "pygments_lexer": "ipython3",
   "version": "3.9.12 (main, Apr  4 2022, 05:22:27) [MSC v.1916 64 bit (AMD64)]"
  },
  "orig_nbformat": 4,
  "vscode": {
   "interpreter": {
    "hash": "15d62e72c5d14bd073ab7bc0854742052db6830de21542cb2a2e1b067e39f5e5"
   }
  }
 },
 "nbformat": 4,
 "nbformat_minor": 2
}
